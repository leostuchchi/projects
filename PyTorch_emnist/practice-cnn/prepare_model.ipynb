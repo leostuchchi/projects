{
 "cells": [
  {
   "cell_type": "markdown",
   "id": "003d3879",
   "metadata": {
    "id": "003d3879"
   },
   "source": [
    "# PyTorch, EMNIST"
   ]
  },
  {
   "cell_type": "markdown",
   "id": "a03cd4ef",
   "metadata": {},
   "source": [
    "# Подготовка модели распознавания рукописных букв и цифр"
   ]
  },
  {
   "cell_type": "markdown",
   "id": "f919cb9f",
   "metadata": {
    "id": "f919cb9f"
   },
   "source": [
    "# Библиотеки"
   ]
  },
  {
   "cell_type": "code",
   "execution_count": 1,
   "id": "2d826ec1",
   "metadata": {
    "id": "2d826ec1"
   },
   "outputs": [],
   "source": [
    "import os\n",
    "import torch\n",
    "import torchvision\n",
    "from torchvision.datasets import EMNIST\n",
    "from torchvision import transforms\n",
    "from torchvision.transforms import ToTensor, Compose, Resize, Normalize\n",
    "import matplotlib.pyplot as plt\n",
    "import numpy as np\n",
    "from torch import nn\n",
    "from torch.utils.data import DataLoader\n",
    "import torch.nn.functional as F\n",
    "import torch.optim as optim\n",
    "from torch.optim.lr_scheduler import StepLR\n",
    "import cv2\n",
    "from PIL import Image\n",
    "from torchinfo import summary"
   ]
  },
  {
   "cell_type": "code",
   "execution_count": 2,
   "id": "iTaSE6noHgJa",
   "metadata": {
    "colab": {
     "base_uri": "https://localhost:8080/"
    },
    "executionInfo": {
     "elapsed": 24275,
     "status": "ok",
     "timestamp": 1736085791682,
     "user": {
      "displayName": "Leonard Stuchilin",
      "userId": "12835425704178441738"
     },
     "user_tz": -120
    },
    "id": "iTaSE6noHgJa",
    "outputId": "2a91620a-f1d0-4fa0-85a4-ce84331c029d"
   },
   "outputs": [],
   "source": [
    "#from google.colab import drive\n",
    "#drive.mount('/content/drive')"
   ]
  },
  {
   "cell_type": "markdown",
   "id": "c84ac4f0",
   "metadata": {
    "id": "c84ac4f0"
   },
   "source": [
    "# Получение, трансформация, нормализация и контроль данных"
   ]
  },
  {
   "cell_type": "code",
   "execution_count": 3,
   "id": "c9d6caec",
   "metadata": {
    "id": "c9d6caec"
   },
   "outputs": [],
   "source": [
    "# Определение трансформаций для нормализации данных\n",
    "transform = transforms.Compose([\n",
    "    transforms.ToTensor(),\n",
    "    transforms.Normalize((0.1307,), (0.3081,))  # Нормализация по среднему и стандартному отклонению\n",
    "])"
   ]
  },
  {
   "cell_type": "markdown",
   "id": "xdL11aKhHxmL",
   "metadata": {
    "id": "xdL11aKhHxmL"
   },
   "source": []
  },
  {
   "cell_type": "code",
   "execution_count": 4,
   "id": "128421ce",
   "metadata": {
    "id": "128421ce"
   },
   "outputs": [],
   "source": [
    "# Загрузка обучающего набора данных с трансформациями\n",
    "train_data = EMNIST('data/', 'balanced', train=True, download=True,\n",
    "                transform=torchvision.transforms.Compose([ # Поворот и отражение\n",
    "                    lambda img: torchvision.transforms.functional.rotate(img, -90),\n",
    "                    lambda img: torchvision.transforms.functional.hflip(img),\n",
    "                    transform # трансформируем и нормализуем\n",
    "                ]))"
   ]
  },
  {
   "cell_type": "code",
   "execution_count": 5,
   "id": "741504e0",
   "metadata": {
    "id": "741504e0"
   },
   "outputs": [],
   "source": [
    "# Загрузка тестового набора данных с трансформациями\n",
    "test_data = EMNIST('data/', 'balanced', train=False,\n",
    "                transform=torchvision.transforms.Compose([ # Поворот и отражение\n",
    "                    lambda img: torchvision.transforms.functional.rotate(img, -90),\n",
    "                    lambda img: torchvision.transforms.functional.hflip(img),\n",
    "                    transform # трансформируем и нормализуем\n",
    "                ]))"
   ]
  },
  {
   "cell_type": "code",
   "execution_count": 6,
   "id": "1864e3f0",
   "metadata": {
    "id": "1864e3f0"
   },
   "outputs": [],
   "source": [
    "# получение маппинга\n",
    "with open('emnist-balanced-mapping.txt', 'r') as f:\n",
    "    mapping = f.readlines()\n",
    "\n",
    "#mapping"
   ]
  },
  {
   "cell_type": "code",
   "execution_count": 7,
   "id": "092862d6",
   "metadata": {
    "id": "092862d6"
   },
   "outputs": [],
   "source": [
    "# Создаем словарь соответствий\n",
    "label_dict = {}\n",
    "for entry in mapping:\n",
    "    label, ascii_code = map(int, entry.split())\n",
    "    label_dict[label] = chr(ascii_code)"
   ]
  },
  {
   "cell_type": "code",
   "execution_count": 8,
   "id": "5ccc7f33",
   "metadata": {},
   "outputs": [
    {
     "data": {
      "image/png": "[encoded data removed]",
      "text/plain": [
       "<Figure size 2000x500 with 10 Axes>"
      ]
     },
     "metadata": {},
     "output_type": "display_data"
    }
   ],
   "source": [
    "# Проверяем корректность изображений\n",
    "fig, axs = plt.subplots(1, 10, figsize=(20, 5))\n",
    "for i in range(10):\n",
    "    random_index = np.random.randint(0, len(train_data))\n",
    "    #print('Random index:', random_index)\n",
    "    image, label = train_data[random_index]\n",
    "\n",
    "    # Преобразование изображения в NumPy массив для корректного отображения\n",
    "    image_np = image.numpy()  # Прямое преобразование в NumPy массив\n",
    "\n",
    "    # Убираем размерность канала (если она есть)\n",
    "    if image_np.shape[0] == 1:  # Если канал один (черно-белое изображение)\n",
    "        image_np = image_np.squeeze(0)  # Убираем размерность канала\n",
    "\n",
    "    # Отображаем изображение\n",
    "    axs[i].imshow(image_np, cmap='gray')\n",
    "    axs[i].set_title(label_dict[label])  # Используем словарь для отображения метки\n",
    "    axs[i].axis('off')\n",
    "\n",
    "plt.show()\n"
   ]
  },
  {
   "cell_type": "code",
   "execution_count": 9,
   "id": "dc7473f0",
   "metadata": {
    "id": "dc7473f0"
   },
   "outputs": [],
   "source": [
    "# Создание загрузчиков данных\n",
    "train_loader = DataLoader(train_data, batch_size=64, shuffle=True)\n",
    "val_loader = DataLoader(test_data, batch_size=64, shuffle=False)"
   ]
  },
  {
   "cell_type": "markdown",
   "id": "62437173",
   "metadata": {
    "id": "62437173"
   },
   "source": [
    "## Моделирование\n",
    "\n",
    "Сверточная нейронная сеть (CNN)"
   ]
  },
  {
   "cell_type": "code",
   "execution_count": 11,
   "id": "EyP8MjIwu7_m",
   "metadata": {
    "id": "EyP8MjIwu7_m"
   },
   "outputs": [],
   "source": [
    "\n",
    "class CNNModel(nn.Module):\n",
    "    def __init__(self):\n",
    "        super(CNNModel, self).__init__()\n",
    "        self.conv1 = nn.Conv2d(1, 32, kernel_size=3, padding=1)\n",
    "        self.bn1 = nn.BatchNorm2d(32)\n",
    "        self.conv2 = nn.Conv2d(32, 64, kernel_size=3, padding=1)\n",
    "        self.bn2 = nn.BatchNorm2d(64)\n",
    "        self.conv3 = nn.Conv2d(64, 128, kernel_size=3, padding=1)\n",
    "        self.bn3 = nn.BatchNorm2d(128)\n",
    "        self.pool = nn.MaxPool2d(kernel_size=2, stride=2)\n",
    "        \n",
    "        # Полносвязные слои\n",
    "        self.fc1 = nn.Linear(128 * 3 * 3, 256)\n",
    "        self.fc2 = nn.Linear(256, 47)\n",
    "        self.dropout = nn.Dropout(0.5)\n",
    "\n",
    "    def forward(self, x):\n",
    "        x = self.pool(F.leaky_relu(self.bn1(self.conv1(x)), negative_slope=0.01))\n",
    "        x = self.pool(F.leaky_relu(self.bn2(self.conv2(x)), negative_slope=0.01))\n",
    "        x = self.pool(F.leaky_relu(self.bn3(self.conv3(x)), negative_slope=0.01))\n",
    "        x = x.view(-1, 128 * 3 * 3)\n",
    "        x = F.relu(self.fc1(x))\n",
    "        x = self.dropout(x)\n",
    "        x = self.fc2(x)\n",
    "        return x\n",
    "\n",
    "\n"
   ]
  },
  {
   "cell_type": "code",
   "execution_count": 11,
   "id": "31c711f0",
   "metadata": {
    "id": "31c711f0"
   },
   "outputs": [],
   "source": [
    "# Инициализация модели\n",
    "model_cnn = CNNModel()"
   ]
  },
  {
   "cell_type": "markdown",
   "id": "50de28d4",
   "metadata": {},
   "source": [
    "## Первый этап обучения\n",
    "\n",
    "30 эпох, lr=0.001"
   ]
  },
  {
   "cell_type": "code",
   "execution_count": 12,
   "id": "29e648ed",
   "metadata": {
    "id": "29e648ed"
   },
   "outputs": [],
   "source": [
    "# Оптимизатор и функция потерь\n",
    "optimizer = optim.Adam(model_cnn.parameters(), lr=0.001)  # Используем Adam с малой скоростью обучения\n",
    "loss_function = nn.CrossEntropyLoss()  # Функция потерь для многоклассовой классификации"
   ]
  },
  {
   "cell_type": "code",
   "execution_count": 13,
   "id": "a10beb51",
   "metadata": {
    "colab": {
     "base_uri": "https://localhost:8080/"
    },
    "executionInfo": {
     "elapsed": 2046267,
     "status": "ok",
     "timestamp": 1736087928675,
     "user": {
      "displayName": "Leonard Stuchilin",
      "userId": "12835425704178441738"
     },
     "user_tz": -120
    },
    "id": "a10beb51",
    "outputId": "54124300-58f5-4d92-9bad-5781ed0931fc"
   },
   "outputs": [
    {
     "name": "stdout",
     "output_type": "stream",
     "text": [
      "Epoch 1/30, Loss: 0.8365\n",
      "Validation Accuracy: 0.8447\n",
      "Epoch 2/30, Loss: 0.5169\n",
      "Validation Accuracy: 0.8678\n",
      "Epoch 3/30, Loss: 0.4602\n",
      "Validation Accuracy: 0.8746\n",
      "Epoch 4/30, Loss: 0.4214\n",
      "Validation Accuracy: 0.8753\n",
      "Epoch 5/30, Loss: 0.3925\n",
      "Validation Accuracy: 0.8793\n",
      "Epoch 6/30, Loss: 0.3688\n",
      "Validation Accuracy: 0.8809\n",
      "Epoch 7/30, Loss: 0.3489\n",
      "Validation Accuracy: 0.8878\n",
      "Epoch 8/30, Loss: 0.3295\n",
      "Validation Accuracy: 0.8853\n",
      "Epoch 9/30, Loss: 0.3162\n",
      "Validation Accuracy: 0.8869\n",
      "Epoch 10/30, Loss: 0.2986\n",
      "Validation Accuracy: 0.8894\n",
      "Epoch 11/30, Loss: 0.2858\n",
      "Validation Accuracy: 0.8906\n",
      "Epoch 12/30, Loss: 0.2772\n",
      "Validation Accuracy: 0.8904\n",
      "Epoch 13/30, Loss: 0.2665\n",
      "Validation Accuracy: 0.8893\n",
      "Epoch 14/30, Loss: 0.2553\n",
      "Validation Accuracy: 0.8895\n",
      "Epoch 15/30, Loss: 0.2461\n",
      "Validation Accuracy: 0.8929\n",
      "Epoch 16/30, Loss: 0.2375\n",
      "Validation Accuracy: 0.8911\n",
      "Epoch 17/30, Loss: 0.2302\n",
      "Validation Accuracy: 0.8916\n",
      "Epoch 18/30, Loss: 0.2220\n",
      "Validation Accuracy: 0.8908\n",
      "Epoch 19/30, Loss: 0.2151\n",
      "Validation Accuracy: 0.8914\n",
      "Epoch 20/30, Loss: 0.2079\n",
      "Validation Accuracy: 0.8914\n",
      "Epoch 21/30, Loss: 0.2003\n",
      "Validation Accuracy: 0.8922\n",
      "Epoch 22/30, Loss: 0.1968\n",
      "Validation Accuracy: 0.8908\n",
      "Epoch 23/30, Loss: 0.1899\n",
      "Validation Accuracy: 0.8903\n",
      "Epoch 24/30, Loss: 0.1835\n",
      "Validation Accuracy: 0.8902\n",
      "Epoch 25/30, Loss: 0.1799\n",
      "Validation Accuracy: 0.8848\n",
      "Epoch 26/30, Loss: 0.1747\n",
      "Validation Accuracy: 0.8887\n",
      "Epoch 27/30, Loss: 0.1715\n",
      "Validation Accuracy: 0.8853\n",
      "Epoch 28/30, Loss: 0.1664\n",
      "Validation Accuracy: 0.8864\n",
      "Epoch 29/30, Loss: 0.1620\n",
      "Validation Accuracy: 0.8898\n",
      "Epoch 30/30, Loss: 0.1626\n",
      "Validation Accuracy: 0.8894\n"
     ]
    }
   ],
   "source": [
    "n_epochs = 30\n",
    "\n",
    "for epoch in range(n_epochs):\n",
    "    model_cnn.train()  # Устанавливаем режим обучения\n",
    "    running_loss = 0.0\n",
    "\n",
    "    for data, target in train_loader:\n",
    "        optimizer.zero_grad()  # Обнуляем градиенты\n",
    "        output = model_cnn(data)  # Прямой проход через модель\n",
    "        loss = loss_function(output, target)  # Вычисление потерь\n",
    "        loss.backward()  # Обратный проход (вычисление градиентов)\n",
    "        optimizer.step()  # Обновление параметров\n",
    "\n",
    "        running_loss += loss.item()\n",
    "\n",
    "    print(f'Epoch {epoch + 1}/{n_epochs}, Loss: {running_loss / len(train_loader):.4f}')\n",
    "\n",
    "    # Валидация модели после каждой эпохи\n",
    "    model_cnn.eval()\n",
    "    correct = 0\n",
    "\n",
    "    with torch.no_grad():\n",
    "        for data, target in val_loader:\n",
    "            output = model_cnn(data)\n",
    "            pred = output.argmax(dim=1)\n",
    "            correct += pred.eq(target).sum().item()\n",
    "\n",
    "    accuracy = correct / len(val_loader.dataset)\n",
    "    print(f'Validation Accuracy: {accuracy:.4f}')"
   ]
  },
  {
   "cell_type": "code",
   "execution_count": 14,
   "id": "SMcPKBvhjJal",
   "metadata": {
    "id": "SMcPKBvhjJal"
   },
   "outputs": [],
   "source": [
    "n_epoch = 30"
   ]
  },
  {
   "cell_type": "code",
   "execution_count": 15,
   "id": "bL7rLSXpZ6te",
   "metadata": {
    "id": "bL7rLSXpZ6te"
   },
   "outputs": [],
   "source": [
    "# Сохранение модели в формате .ckpt\n",
    "torch.save(model_cnn.state_dict(), 'data/model_a.ckpt')\n",
    "\n",
    "# Сохранение обученной модели\n",
    "checkpoint = {\n",
    "    'model_state_dict': model_cnn.state_dict(),  # Состояние модели\n",
    "    'optimizer_state_dict': optimizer.state_dict(),  # Состояние оптимизатора\n",
    "    'epoch': n_epoch  # Текущий номер эпохи (если нужно возобновить обучение)\n",
    "}\n",
    "\n",
    "# Сохранение контрольной точки в файл .ckpt\n",
    "torch.save(checkpoint, 'data/model_a_checkpoint.ckpt')"
   ]
  },
  {
   "cell_type": "markdown",
   "id": "baa0781f",
   "metadata": {},
   "source": [
    "## Второй этап обучения\n",
    "\n",
    "20 эпох, lr=0.0005"
   ]
  },
  {
   "cell_type": "code",
   "execution_count": 16,
   "id": "nb0B86Pnjbm2",
   "metadata": {
    "colab": {
     "base_uri": "https://localhost:8080/"
    },
    "executionInfo": {
     "elapsed": 425,
     "status": "ok",
     "timestamp": 1736087973097,
     "user": {
      "displayName": "Leonard Stuchilin",
      "userId": "12835425704178441738"
     },
     "user_tz": -120
    },
    "id": "nb0B86Pnjbm2",
    "outputId": "65581ba4-a600-4284-c64a-8e597a9bcf21"
   },
   "outputs": [
    {
     "name": "stdout",
     "output_type": "stream",
     "text": [
      "30\n"
     ]
    },
    {
     "name": "stderr",
     "output_type": "stream",
     "text": [
      "/tmp/ipykernel_5144/1660173255.py:2: FutureWarning: You are using `torch.load` with `weights_only=False` (the current default value), which uses the default pickle module implicitly. It is possible to construct malicious pickle data which will execute arbitrary code during unpickling (See https://github.com/pytorch/pytorch/blob/main/SECURITY.md#untrusted-models for more details). In a future release, the default value for `weights_only` will be flipped to `True`. This limits the functions that could be executed during unpickling. Arbitrary objects will no longer be allowed to be loaded via this mode unless they are explicitly allowlisted by the user via `torch.serialization.add_safe_globals`. We recommend you start setting `weights_only=True` for any use case where you don't have full control of the loaded file. Please open an issue on GitHub for any issues related to this experimental feature.\n",
      "  checkpoint = torch.load('data/model_a_checkpoint.ckpt')\n",
      "/tmp/ipykernel_5144/1660173255.py:20: FutureWarning: You are using `torch.load` with `weights_only=False` (the current default value), which uses the default pickle module implicitly. It is possible to construct malicious pickle data which will execute arbitrary code during unpickling (See https://github.com/pytorch/pytorch/blob/main/SECURITY.md#untrusted-models for more details). In a future release, the default value for `weights_only` will be flipped to `True`. This limits the functions that could be executed during unpickling. Arbitrary objects will no longer be allowed to be loaded via this mode unless they are explicitly allowlisted by the user via `torch.serialization.add_safe_globals`. We recommend you start setting `weights_only=True` for any use case where you don't have full control of the loaded file. Please open an issue on GitHub for any issues related to this experimental feature.\n",
      "  model_cnn.load_state_dict(torch.load('data/model_a.ckpt'))  # Замените на путь к вашей модели\n"
     ]
    },
    {
     "data": {
      "text/plain": [
       "<All keys matched successfully>"
      ]
     },
     "execution_count": 16,
     "metadata": {},
     "output_type": "execute_result"
    }
   ],
   "source": [
    "# Загрузка контрольной точки\n",
    "checkpoint = torch.load('data/model_a_checkpoint.ckpt')\n",
    "\n",
    "# Восстановление состояния модели и оптимизатора\n",
    "model_cnn.load_state_dict(checkpoint['model_state_dict'])\n",
    "optimizer.load_state_dict(checkpoint['optimizer_state_dict'])\n",
    "\n",
    "# Если нужно, можно восстановить номер эпохи\n",
    "n_epoch = checkpoint['epoch']\n",
    "print(n_epoch)\n",
    "\n",
    "# Восстановление номера эпохи\n",
    "start_epoch = checkpoint['epoch'] + 1  # Начинаем с следующей эпохи\n",
    "\n",
    "# Параметры для продолжения обучения\n",
    "n_epochs_to_continue = 20  # Количество дополнительных эпох\n",
    "\n",
    "# Загрузка предварительно обученной модели\n",
    "model_cnn = CNNModel()  # Предполагается, что модель определена\n",
    "model_cnn.load_state_dict(torch.load('data/model_a.ckpt'))  # Замените на путь к вашей модели\n",
    "#model.eval()  # Установка модели в режим оценки"
   ]
  },
  {
   "cell_type": "code",
   "execution_count": 17,
   "id": "IYqexdOGNSuh",
   "metadata": {
    "id": "IYqexdOGNSuh"
   },
   "outputs": [],
   "source": [
    "# Оптимизатор и функция потерь\n",
    "optimizer = optim.Adam(model_cnn.parameters(), lr=0.0005)  # Используем Adam с малой скоростью обучения\n",
    "loss_function = nn.CrossEntropyLoss()  # Функция потерь для многоклассовой классификации"
   ]
  },
  {
   "cell_type": "code",
   "execution_count": 18,
   "id": "BmC1BHpso9IJ",
   "metadata": {
    "colab": {
     "base_uri": "https://localhost:8080/"
    },
    "executionInfo": {
     "elapsed": 992249,
     "status": "ok",
     "timestamp": 1736088979582,
     "user": {
      "displayName": "Leonard Stuchilin",
      "userId": "12835425704178441738"
     },
     "user_tz": -120
    },
    "id": "BmC1BHpso9IJ",
    "outputId": "fa2baf46-e5eb-4de6-bd16-6d8eee87225a"
   },
   "outputs": [
    {
     "name": "stdout",
     "output_type": "stream",
     "text": [
      "Epoch 31/51, Loss: 0.1346\n",
      "Validation Accuracy: 0.8933\n",
      "Epoch 32/51, Loss: 0.1223\n",
      "Validation Accuracy: 0.8909\n",
      "Epoch 33/51, Loss: 0.1177\n",
      "Validation Accuracy: 0.8903\n",
      "Epoch 34/51, Loss: 0.1141\n",
      "Validation Accuracy: 0.8894\n",
      "Epoch 35/51, Loss: 0.1103\n",
      "Validation Accuracy: 0.8906\n",
      "Epoch 36/51, Loss: 0.1071\n",
      "Validation Accuracy: 0.8888\n",
      "Epoch 37/51, Loss: 0.1058\n",
      "Validation Accuracy: 0.8880\n",
      "Epoch 38/51, Loss: 0.1019\n",
      "Validation Accuracy: 0.8874\n",
      "Epoch 39/51, Loss: 0.0994\n",
      "Validation Accuracy: 0.8856\n",
      "Epoch 40/51, Loss: 0.0969\n",
      "Validation Accuracy: 0.8888\n",
      "Epoch 41/51, Loss: 0.0963\n",
      "Validation Accuracy: 0.8880\n",
      "Epoch 42/51, Loss: 0.0920\n",
      "Validation Accuracy: 0.8869\n",
      "Epoch 43/51, Loss: 0.0910\n",
      "Validation Accuracy: 0.8877\n",
      "Epoch 44/51, Loss: 0.0891\n",
      "Validation Accuracy: 0.8882\n",
      "Epoch 45/51, Loss: 0.0866\n",
      "Validation Accuracy: 0.8886\n",
      "Epoch 46/51, Loss: 0.0850\n",
      "Validation Accuracy: 0.8877\n",
      "Epoch 47/51, Loss: 0.0834\n",
      "Validation Accuracy: 0.8884\n",
      "Epoch 48/51, Loss: 0.0820\n",
      "Validation Accuracy: 0.8870\n",
      "Epoch 49/51, Loss: 0.0801\n",
      "Validation Accuracy: 0.8856\n",
      "Epoch 50/51, Loss: 0.0780\n",
      "Validation Accuracy: 0.8871\n"
     ]
    }
   ],
   "source": [
    "for epoch in range(start_epoch, start_epoch + n_epochs_to_continue):\n",
    "    model_cnn.train()\n",
    "    running_loss = 0.0\n",
    "\n",
    "    for data, target in train_loader:\n",
    "        optimizer.zero_grad()\n",
    "        output = model_cnn(data)\n",
    "        loss = loss_function(output, target)\n",
    "        loss.backward()\n",
    "        optimizer.step()\n",
    "\n",
    "        running_loss += loss.item()\n",
    "\n",
    "    print(f'Epoch {epoch}/{start_epoch + n_epochs_to_continue}, Loss: {running_loss / len(train_loader):.4f}')\n",
    "\n",
    "    # Валидация модели после каждой эпохи\n",
    "    model_cnn.eval()\n",
    "    correct = 0\n",
    "\n",
    "    with torch.no_grad():\n",
    "        for data, target in val_loader:\n",
    "            output = model_cnn(data)\n",
    "            pred = output.argmax(dim=1)\n",
    "            correct += pred.eq(target).sum().item()\n",
    "\n",
    "    accuracy = correct / len(val_loader.dataset)\n",
    "    print(f'Validation Accuracy: {accuracy:.4f}')"
   ]
  },
  {
   "cell_type": "code",
   "execution_count": 19,
   "id": "nEZbI-y0pYUI",
   "metadata": {
    "id": "nEZbI-y0pYUI"
   },
   "outputs": [],
   "source": [
    "# Сохранение модели в формате .ckpt\n",
    "torch.save(model_cnn.state_dict(), 'data/model_a_1.ckpt')\n",
    "\n",
    "# Сохранение обученной модели\n",
    "new_checkpoint = {\n",
    "    'model_state_dict': model_cnn.state_dict(),\n",
    "    'optimizer_state_dict': optimizer.state_dict(),\n",
    "    'epoch': start_epoch + n_epochs_to_continue - 1,\n",
    "}\n",
    "# Сохранение контрольной точки в файл .ckpt\n",
    "torch.save(new_checkpoint, 'data/model_a_checkpoint_1.ckpt')"
   ]
  },
  {
   "cell_type": "markdown",
   "id": "b81b8ac5",
   "metadata": {},
   "source": [
    "## Третий этап обучения\n",
    "\n",
    "20 эпох, lr=0.0001"
   ]
  },
  {
   "cell_type": "code",
   "execution_count": 20,
   "id": "5587128d",
   "metadata": {},
   "outputs": [
    {
     "name": "stdout",
     "output_type": "stream",
     "text": [
      "50\n"
     ]
    },
    {
     "name": "stderr",
     "output_type": "stream",
     "text": [
      "/tmp/ipykernel_5144/3857648320.py:2: FutureWarning: You are using `torch.load` with `weights_only=False` (the current default value), which uses the default pickle module implicitly. It is possible to construct malicious pickle data which will execute arbitrary code during unpickling (See https://github.com/pytorch/pytorch/blob/main/SECURITY.md#untrusted-models for more details). In a future release, the default value for `weights_only` will be flipped to `True`. This limits the functions that could be executed during unpickling. Arbitrary objects will no longer be allowed to be loaded via this mode unless they are explicitly allowlisted by the user via `torch.serialization.add_safe_globals`. We recommend you start setting `weights_only=True` for any use case where you don't have full control of the loaded file. Please open an issue on GitHub for any issues related to this experimental feature.\n",
      "  checkpoint = torch.load('data/model_a_checkpoint_1.ckpt')\n",
      "/tmp/ipykernel_5144/3857648320.py:20: FutureWarning: You are using `torch.load` with `weights_only=False` (the current default value), which uses the default pickle module implicitly. It is possible to construct malicious pickle data which will execute arbitrary code during unpickling (See https://github.com/pytorch/pytorch/blob/main/SECURITY.md#untrusted-models for more details). In a future release, the default value for `weights_only` will be flipped to `True`. This limits the functions that could be executed during unpickling. Arbitrary objects will no longer be allowed to be loaded via this mode unless they are explicitly allowlisted by the user via `torch.serialization.add_safe_globals`. We recommend you start setting `weights_only=True` for any use case where you don't have full control of the loaded file. Please open an issue on GitHub for any issues related to this experimental feature.\n",
      "  model_cnn.load_state_dict(torch.load('data/model_a_1.ckpt'))  # Замените на путь к вашей модели\n"
     ]
    },
    {
     "data": {
      "text/plain": [
       "<All keys matched successfully>"
      ]
     },
     "execution_count": 20,
     "metadata": {},
     "output_type": "execute_result"
    }
   ],
   "source": [
    "# Загрузка контрольной точки\n",
    "checkpoint = torch.load('data/model_a_checkpoint_1.ckpt')\n",
    "\n",
    "# Восстановление состояния модели и оптимизатора\n",
    "model_cnn.load_state_dict(checkpoint['model_state_dict'])\n",
    "optimizer.load_state_dict(checkpoint['optimizer_state_dict'])\n",
    "\n",
    "# Если нужно, можно восстановить номер эпохи\n",
    "n_epoch = checkpoint['epoch']\n",
    "print(n_epoch)\n",
    "\n",
    "# Восстановление номера эпохи\n",
    "start_epoch = checkpoint['epoch'] + 1  # Начинаем с следующей эпохи\n",
    "\n",
    "# Параметры для продолжения обучения\n",
    "n_epochs_to_continue = 20  # Количество дополнительных эпох\n",
    "\n",
    "# Загрузка предварительно обученной модели\n",
    "model_cnn = CNNModel()  # Предполагается, что модель определена\n",
    "model_cnn.load_state_dict(torch.load('data/model_a_1.ckpt'))  # Замените на путь к вашей модели\n",
    "#model.eval()  # Установка модели в режим оценки"
   ]
  },
  {
   "cell_type": "code",
   "execution_count": 21,
   "id": "33020c3c",
   "metadata": {},
   "outputs": [],
   "source": [
    "# Оптимизатор и функция потерь\n",
    "optimizer = optim.Adam(model_cnn.parameters(), lr=0.0001)  # Используем Adam с малой скоростью обучения\n",
    "loss_function = nn.CrossEntropyLoss()  # Функция потерь для многоклассовой классификации"
   ]
  },
  {
   "cell_type": "code",
   "execution_count": 22,
   "id": "c2ae3504",
   "metadata": {},
   "outputs": [
    {
     "name": "stdout",
     "output_type": "stream",
     "text": [
      "Epoch 51/71, Loss: 0.0658\n",
      "Validation Accuracy: 0.8882\n",
      "Epoch 52/71, Loss: 0.0595\n",
      "Validation Accuracy: 0.8901\n",
      "Epoch 53/71, Loss: 0.0571\n",
      "Validation Accuracy: 0.8907\n",
      "Epoch 54/71, Loss: 0.0553\n",
      "Validation Accuracy: 0.8890\n",
      "Epoch 55/71, Loss: 0.0540\n",
      "Validation Accuracy: 0.8882\n",
      "Epoch 56/71, Loss: 0.0529\n",
      "Validation Accuracy: 0.8882\n",
      "Epoch 57/71, Loss: 0.0505\n",
      "Validation Accuracy: 0.8887\n",
      "Epoch 58/71, Loss: 0.0505\n",
      "Validation Accuracy: 0.8882\n",
      "Epoch 59/71, Loss: 0.0491\n",
      "Validation Accuracy: 0.8887\n",
      "Epoch 60/71, Loss: 0.0489\n",
      "Validation Accuracy: 0.8887\n",
      "Epoch 61/71, Loss: 0.0482\n",
      "Validation Accuracy: 0.8886\n",
      "Epoch 62/71, Loss: 0.0475\n",
      "Validation Accuracy: 0.8896\n",
      "Epoch 63/71, Loss: 0.0475\n",
      "Validation Accuracy: 0.8889\n",
      "Epoch 64/71, Loss: 0.0464\n",
      "Validation Accuracy: 0.8876\n",
      "Epoch 65/71, Loss: 0.0454\n",
      "Validation Accuracy: 0.8888\n",
      "Epoch 66/71, Loss: 0.0451\n",
      "Validation Accuracy: 0.8880\n",
      "Epoch 67/71, Loss: 0.0447\n",
      "Validation Accuracy: 0.8893\n",
      "Epoch 68/71, Loss: 0.0437\n",
      "Validation Accuracy: 0.8878\n",
      "Epoch 69/71, Loss: 0.0433\n",
      "Validation Accuracy: 0.8880\n",
      "Epoch 70/71, Loss: 0.0417\n",
      "Validation Accuracy: 0.8869\n"
     ]
    }
   ],
   "source": [
    "for epoch in range(start_epoch, start_epoch + n_epochs_to_continue):\n",
    "    model_cnn.train()\n",
    "    running_loss = 0.0\n",
    "\n",
    "    for data, target in train_loader:\n",
    "        optimizer.zero_grad()\n",
    "        output = model_cnn(data)\n",
    "        loss = loss_function(output, target)\n",
    "        loss.backward()\n",
    "        optimizer.step()\n",
    "\n",
    "        running_loss += loss.item()\n",
    "\n",
    "    print(f'Epoch {epoch}/{start_epoch + n_epochs_to_continue}, Loss: {running_loss / len(train_loader):.4f}')\n",
    "\n",
    "    # Валидация модели после каждой эпохи\n",
    "    model_cnn.eval()\n",
    "    correct = 0\n",
    "\n",
    "    with torch.no_grad():\n",
    "        for data, target in val_loader:\n",
    "            output = model_cnn(data)\n",
    "            pred = output.argmax(dim=1)\n",
    "            correct += pred.eq(target).sum().item()\n",
    "\n",
    "    accuracy = correct / len(val_loader.dataset)\n",
    "    print(f'Validation Accuracy: {accuracy:.4f}')"
   ]
  },
  {
   "cell_type": "code",
   "execution_count": 23,
   "id": "6d7c1463",
   "metadata": {},
   "outputs": [],
   "source": [
    "# Сохранение модели в формате .ckpt\n",
    "torch.save(model_cnn.state_dict(), 'data/model_a_2.ckpt')\n",
    "\n",
    "# Сохранение обученной модели\n",
    "new_checkpoint = {\n",
    "    'model_state_dict': model_cnn.state_dict(),\n",
    "    'optimizer_state_dict': optimizer.state_dict(),\n",
    "    'epoch': start_epoch + n_epochs_to_continue - 1,\n",
    "}\n",
    "# Сохранение контрольной точки в файл .ckpt\n",
    "torch.save(new_checkpoint, 'data/model_a_checkpoint_2.ckpt')"
   ]
  },
  {
   "cell_type": "markdown",
   "id": "bdd255db",
   "metadata": {
    "id": "bdd255db"
   },
   "source": [
    "# Оценка модели"
   ]
  },
  {
   "cell_type": "code",
   "execution_count": 13,
   "id": "UlBGRY071lw8",
   "metadata": {
    "colab": {
     "base_uri": "https://localhost:8080/"
    },
    "executionInfo": {
     "elapsed": 342,
     "status": "ok",
     "timestamp": 1736094717498,
     "user": {
      "displayName": "Leonard Stuchilin",
      "userId": "12835425704178441738"
     },
     "user_tz": -120
    },
    "id": "UlBGRY071lw8",
    "outputId": "bfa5f8a3-de24-4bdc-9e3c-796a930be478"
   },
   "outputs": [
    {
     "name": "stdout",
     "output_type": "stream",
     "text": [
      "epoches 70\n"
     ]
    },
    {
     "name": "stderr",
     "output_type": "stream",
     "text": [
      "/tmp/ipykernel_5766/634312125.py:5: FutureWarning: You are using `torch.load` with `weights_only=False` (the current default value), which uses the default pickle module implicitly. It is possible to construct malicious pickle data which will execute arbitrary code during unpickling (See https://github.com/pytorch/pytorch/blob/main/SECURITY.md#untrusted-models for more details). In a future release, the default value for `weights_only` will be flipped to `True`. This limits the functions that could be executed during unpickling. Arbitrary objects will no longer be allowed to be loaded via this mode unless they are explicitly allowlisted by the user via `torch.serialization.add_safe_globals`. We recommend you start setting `weights_only=True` for any use case where you don't have full control of the loaded file. Please open an issue on GitHub for any issues related to this experimental feature.\n",
      "  checkpoint = torch.load('data/model_a_checkpoint_2.ckpt')\n",
      "/tmp/ipykernel_5766/634312125.py:23: FutureWarning: You are using `torch.load` with `weights_only=False` (the current default value), which uses the default pickle module implicitly. It is possible to construct malicious pickle data which will execute arbitrary code during unpickling (See https://github.com/pytorch/pytorch/blob/main/SECURITY.md#untrusted-models for more details). In a future release, the default value for `weights_only` will be flipped to `True`. This limits the functions that could be executed during unpickling. Arbitrary objects will no longer be allowed to be loaded via this mode unless they are explicitly allowlisted by the user via `torch.serialization.add_safe_globals`. We recommend you start setting `weights_only=True` for any use case where you don't have full control of the loaded file. Please open an issue on GitHub for any issues related to this experimental feature.\n",
      "  model_cnn.load_state_dict(torch.load('data/model_a_2.ckpt'))  # Замените на путь к вашей модели\n"
     ]
    },
    {
     "data": {
      "text/plain": [
       "CNNModel(\n",
       "  (conv1): Conv2d(1, 32, kernel_size=(3, 3), stride=(1, 1), padding=(1, 1))\n",
       "  (bn1): BatchNorm2d(32, eps=1e-05, momentum=0.1, affine=True, track_running_stats=True)\n",
       "  (conv2): Conv2d(32, 64, kernel_size=(3, 3), stride=(1, 1), padding=(1, 1))\n",
       "  (bn2): BatchNorm2d(64, eps=1e-05, momentum=0.1, affine=True, track_running_stats=True)\n",
       "  (conv3): Conv2d(64, 128, kernel_size=(3, 3), stride=(1, 1), padding=(1, 1))\n",
       "  (bn3): BatchNorm2d(128, eps=1e-05, momentum=0.1, affine=True, track_running_stats=True)\n",
       "  (pool): MaxPool2d(kernel_size=2, stride=2, padding=0, dilation=1, ceil_mode=False)\n",
       "  (fc1): Linear(in_features=1152, out_features=256, bias=True)\n",
       "  (fc2): Linear(in_features=256, out_features=47, bias=True)\n",
       "  (dropout): Dropout(p=0.5, inplace=False)\n",
       ")"
      ]
     },
     "execution_count": 13,
     "metadata": {},
     "output_type": "execute_result"
    }
   ],
   "source": [
    "model_cnn = CNNModel() \n",
    "optimizer = optim.Adam(model_cnn.parameters(), lr=0.0001) \n",
    "\n",
    "# Загрузка контрольной точки\n",
    "checkpoint = torch.load('data/model_a_checkpoint_2.ckpt')\n",
    "\n",
    "# Восстановление состояния модели и оптимизатора\n",
    "model_cnn.load_state_dict(checkpoint['model_state_dict'])\n",
    "optimizer.load_state_dict(checkpoint['optimizer_state_dict'])\n",
    "\n",
    "# Если нужно, можно восстановить номер эпохи\n",
    "n_epoch = checkpoint['epoch']\n",
    "print('epoches', n_epoch)\n",
    "\n",
    "# Восстановление номера эпохи\n",
    "start_epoch = checkpoint['epoch'] + 1  # Начинаем с следующей эпохи\n",
    "\n",
    "# Параметры для продолжения обучения\n",
    "n_epochs_to_continue = 5  # Количество дополнительных эпох\n",
    "\n",
    "# Загрузка предварительно обученной модели\n",
    "model_cnn = CNNModel()  # Предполагается, что модель определена\n",
    "model_cnn.load_state_dict(torch.load('data/model_a_2.ckpt'))  # Замените на путь к вашей модели\n",
    "model_cnn.eval()  # Установка модели в режим оценки"
   ]
  },
  {
   "cell_type": "code",
   "execution_count": 14,
   "id": "zTPQgrkqiXn-",
   "metadata": {
    "colab": {
     "base_uri": "https://localhost:8080/"
    },
    "executionInfo": {
     "elapsed": 18393,
     "status": "ok",
     "timestamp": 1736094739693,
     "user": {
      "displayName": "Leonard Stuchilin",
      "userId": "12835425704178441738"
     },
     "user_tz": -120
    },
    "id": "zTPQgrkqiXn-",
    "outputId": "2d0a99fa-0a88-44b1-d850-c7e1a6e8db58"
   },
   "outputs": [
    {
     "name": "stdout",
     "output_type": "stream",
     "text": [
      "0\n",
      "Accuracy of class 0: 0.67\n",
      "1\n",
      "Accuracy of class 1: 0.66\n",
      "2\n",
      "Accuracy of class 2: 0.90\n",
      "3\n",
      "Accuracy of class 3: 0.98\n",
      "4\n",
      "Accuracy of class 4: 0.93\n",
      "5\n",
      "Accuracy of class 5: 0.91\n",
      "6\n",
      "Accuracy of class 6: 0.93\n",
      "7\n",
      "Accuracy of class 7: 0.98\n",
      "8\n",
      "Accuracy of class 8: 0.96\n",
      "9\n",
      "Accuracy of class 9: 0.73\n",
      "A\n",
      "Accuracy of class 10: 0.98\n",
      "B\n",
      "Accuracy of class 11: 0.97\n",
      "C\n",
      "Accuracy of class 12: 0.95\n",
      "D\n",
      "Accuracy of class 13: 0.92\n",
      "E\n",
      "Accuracy of class 14: 0.98\n",
      "F\n",
      "Accuracy of class 15: 0.70\n",
      "G\n",
      "Accuracy of class 16: 0.97\n",
      "H\n",
      "Accuracy of class 17: 0.97\n",
      "I\n",
      "Accuracy of class 18: 0.65\n",
      "J\n",
      "Accuracy of class 19: 0.95\n",
      "K\n",
      "Accuracy of class 20: 0.98\n",
      "L\n",
      "Accuracy of class 21: 0.49\n",
      "M\n",
      "Accuracy of class 22: 0.97\n",
      "N\n",
      "Accuracy of class 23: 0.98\n",
      "O\n",
      "Accuracy of class 24: 0.65\n",
      "P\n",
      "Accuracy of class 25: 0.96\n",
      "Q\n",
      "Accuracy of class 26: 0.94\n",
      "R\n",
      "Accuracy of class 27: 0.98\n",
      "S\n",
      "Accuracy of class 28: 0.94\n",
      "T\n",
      "Accuracy of class 29: 0.93\n",
      "U\n",
      "Accuracy of class 30: 0.93\n",
      "V\n",
      "Accuracy of class 31: 0.94\n",
      "W\n",
      "Accuracy of class 32: 0.99\n",
      "X\n",
      "Accuracy of class 33: 0.97\n",
      "Y\n",
      "Accuracy of class 34: 0.93\n",
      "Z\n",
      "Accuracy of class 35: 0.93\n",
      "a\n",
      "Accuracy of class 36: 0.92\n",
      "b\n",
      "Accuracy of class 37: 0.94\n",
      "d\n",
      "Accuracy of class 38: 0.97\n",
      "e\n",
      "Accuracy of class 39: 0.97\n",
      "f\n",
      "Accuracy of class 40: 0.59\n",
      "g\n",
      "Accuracy of class 41: 0.69\n",
      "h\n",
      "Accuracy of class 42: 0.95\n",
      "n\n",
      "Accuracy of class 43: 0.93\n",
      "q\n",
      "Accuracy of class 44: 0.62\n",
      "r\n",
      "Accuracy of class 45: 0.95\n",
      "t\n",
      "Accuracy of class 46: 0.92\n"
     ]
    }
   ],
   "source": [
    "\n",
    "# Инициализация переменных для хранения результатов\n",
    "class_correct = [0] * 47  # Для каждого из 47 классов\n",
    "class_total = [0] * 47\n",
    "\n",
    "# Оценка модели на тестовом наборе данных\n",
    "with torch.no_grad():\n",
    "    for data, target in val_loader:\n",
    "        output = model_cnn(data)  # Получение предсказаний от модели\n",
    "        _, predicted = torch.max(output, 1)  # Получение индексов классов с максимальным значением вероятности\n",
    "\n",
    "        # Подсчет правильных предсказаний для каждого класса\n",
    "        for i in range(len(target)):\n",
    "            label = target[i].item()  # Получение метки класса\n",
    "            class_correct[label] += (predicted[i] == label).item()  # Увеличение счетчика для правильного предсказания\n",
    "            class_total[label] += 1  # Увеличение общего количества примеров для данного класса\n",
    "\n",
    "# Вывод результатов по каждому классу\n",
    "for i in range(47):\n",
    "    if class_total[i] > 0:  # Избегаем деления на ноль\n",
    "        accuracy = class_correct[i] / class_total[i]\n",
    "        print(label_dict[i])\n",
    "        print(f'Accuracy of class {i}: {accuracy:.2f}')\n",
    "    else:\n",
    "        print(f'Class {i} has no samples in the test set.')"
   ]
  },
  {
   "cell_type": "code",
   "execution_count": 15,
   "id": "3c-TroxGiYGt",
   "metadata": {
    "colab": {
     "base_uri": "https://localhost:8080/"
    },
    "executionInfo": {
     "elapsed": 401,
     "status": "ok",
     "timestamp": 1736094752875,
     "user": {
      "displayName": "Leonard Stuchilin",
      "userId": "12835425704178441738"
     },
     "user_tz": -120
    },
    "id": "3c-TroxGiYGt",
    "outputId": "369c9d48-d456-4ced-ccf7-d338a6d0b5df"
   },
   "outputs": [
    {
     "name": "stdout",
     "output_type": "stream",
     "text": [
      "Classes with accuracy < 0.87:\n",
      "0\n",
      "Accuracy of class 0: 0.67\n",
      "1\n",
      "Accuracy of class 1: 0.66\n",
      "9\n",
      "Accuracy of class 9: 0.73\n",
      "F\n",
      "Accuracy of class 15: 0.70\n",
      "I\n",
      "Accuracy of class 18: 0.65\n",
      "L\n",
      "Accuracy of class 21: 0.49\n",
      "O\n",
      "Accuracy of class 24: 0.65\n",
      "f\n",
      "Accuracy of class 40: 0.59\n",
      "g\n",
      "Accuracy of class 41: 0.69\n",
      "q\n",
      "Accuracy of class 44: 0.62\n"
     ]
    }
   ],
   "source": [
    "# Вывод результатов по каждому классу с accuracy < 0.87\n",
    "print(\"Classes with accuracy < 0.87:\")\n",
    "for i in range(47):\n",
    "    if class_total[i] > 0:  # Избегаем деления на ноль\n",
    "        accuracy = class_correct[i] / class_total[i]\n",
    "        if accuracy < 0.87:  # Проверяем условие на точность\n",
    "            print(label_dict[i])  # Выводим метку класса\n",
    "            print(f'Accuracy of class {i}: {accuracy:.2f}')\n",
    "    else:\n",
    "        print(f'Class {i} has no samples in the test set.')"
   ]
  },
  {
   "cell_type": "code",
   "execution_count": 16,
   "id": "nSVg_xcbiYdB",
   "metadata": {
    "colab": {
     "base_uri": "https://localhost:8080/"
    },
    "executionInfo": {
     "elapsed": 288,
     "status": "ok",
     "timestamp": 1736094770081,
     "user": {
      "displayName": "Leonard Stuchilin",
      "userId": "12835425704178441738"
     },
     "user_tz": -120
    },
    "id": "nSVg_xcbiYdB",
    "outputId": "c4d89540-b742-4de9-a04c-75de4e4d8bdd"
   },
   "outputs": [
    {
     "name": "stderr",
     "output_type": "stream",
     "text": [
      "[W108 11:10:29.435520263 NNPACK.cpp:61] Could not initialize NNPACK! Reason: Unsupported hardware.\n"
     ]
    },
    {
     "data": {
      "text/plain": [
       "==========================================================================================\n",
       "Layer (type:depth-idx)                   Output Shape              Param #\n",
       "==========================================================================================\n",
       "CNNModel                                 [1, 47]                   --\n",
       "├─Conv2d: 1-1                            [1, 32, 28, 28]           320\n",
       "├─BatchNorm2d: 1-2                       [1, 32, 28, 28]           64\n",
       "├─MaxPool2d: 1-3                         [1, 32, 14, 14]           --\n",
       "├─Conv2d: 1-4                            [1, 64, 14, 14]           18,496\n",
       "├─BatchNorm2d: 1-5                       [1, 64, 14, 14]           128\n",
       "├─MaxPool2d: 1-6                         [1, 64, 7, 7]             --\n",
       "├─Conv2d: 1-7                            [1, 128, 7, 7]            73,856\n",
       "├─BatchNorm2d: 1-8                       [1, 128, 7, 7]            256\n",
       "├─MaxPool2d: 1-9                         [1, 128, 3, 3]            --\n",
       "├─Linear: 1-10                           [1, 256]                  295,168\n",
       "├─Dropout: 1-11                          [1, 256]                  --\n",
       "├─Linear: 1-12                           [1, 47]                   12,079\n",
       "==========================================================================================\n",
       "Total params: 400,367\n",
       "Trainable params: 400,367\n",
       "Non-trainable params: 0\n",
       "Total mult-adds (Units.MEGABYTES): 7.80\n",
       "==========================================================================================\n",
       "Input size (MB): 0.00\n",
       "Forward/backward pass size (MB): 0.70\n",
       "Params size (MB): 1.60\n",
       "Estimated Total Size (MB): 2.31\n",
       "=========================================================================================="
      ]
     },
     "execution_count": 16,
     "metadata": {},
     "output_type": "execute_result"
    }
   ],
   "source": [
    "# Вывод информации о модели\n",
    "summary(model_cnn, input_size=(1, 1, 28, 28))  # Указываем размер входного тензора [batch_size, channels, height, width]"
   ]
  },
  {
   "cell_type": "code",
   "execution_count": 17,
   "id": "63614d9c",
   "metadata": {},
   "outputs": [
    {
     "data": {
      "image/png": "[encoded data removed]",
      "text/plain": [
       "<Figure size 2000x500 with 10 Axes>"
      ]
     },
     "metadata": {},
     "output_type": "display_data"
    }
   ],
   "source": [
    "def predict(image):\n",
    "    # Применяем преобразования к изображению, если они требуются\n",
    "    # image = transform(input_image)  # Примените необходимые преобразования\n",
    "    # Убедитесь, что изображение имеет форму (1, 1, H, W) для модели\n",
    "    if image.dim() == 2:  # Если изображение 2D (H, W)\n",
    "        image = image.unsqueeze(0)  # Добавляем размер канала\n",
    "    image = image.unsqueeze(0)  # Добавляем размер батча\n",
    "\n",
    "    #print('image shape:', image.shape)\n",
    "\n",
    "    with torch.no_grad():  # Отключаем градиенты для повышения производительности\n",
    "        output = model_cnn(image)  # Получаем выход модели\n",
    "        _, predicted_class = torch.max(output.data, 1)  # Находим класс с максимальной вероятностью\n",
    "        predicted_label = predicted_class.item()  # Получаем метку класса как целое число\n",
    "        #print('predicted_label:', predicted_label)\n",
    "\n",
    "        pred = label_dict[predicted_label]  # Получаем предсказанную метку\n",
    "        #print('predicted symbol:', pred)\n",
    "\n",
    "    return pred\n",
    "\n",
    "# Проверяем предсказания\n",
    "fig, axs = plt.subplots(1, 10, figsize=(20, 5))\n",
    "for i in range(10):\n",
    "    random_index = np.random.randint(0, len(train_data))\n",
    "    #print('Random index:', random_index)\n",
    "    image, label = train_data[random_index]\n",
    "\n",
    "    # Преобразование изображения в NumPy массив для корректного отображения\n",
    "    image_np = image.squeeze(0).numpy()  # Убираем размер канала и преобразуем в NumPy массив\n",
    "\n",
    "    pred = predict(image)  # Предсказание для изображения\n",
    "\n",
    "    # Отображаем изображение\n",
    "    axs[i].imshow(image_np, cmap='gray')  # Используем cmap='gray' для черно-белых изображений\n",
    "    # Добавляем отображение истинной метки и предсказанного значения\n",
    "    axs[i].set_title(f'True: {label_dict[label]}\\nPred: {pred}')\n",
    "    axs[i].axis('off')\n",
    "\n",
    "plt.show()\n"
   ]
  },
  {
   "cell_type": "code",
   "execution_count": null,
   "id": "cdf94d24",
   "metadata": {},
   "outputs": [],
   "source": [
    "def evaluate_model(model, test_loader):\n",
    "    model.eval()  # Устанавливаем модель в режим оценки\n",
    "    criterion = nn.CrossEntropyLoss()  # Функция потерь\n",
    "    total_loss = 0.0\n",
    "    correct = 0\n",
    "    class_correct = [0] * 47  # Для каждого из 47 классов\n",
    "    class_total = [0] * 47\n",
    "\n",
    "    with torch.no_grad():\n",
    "        for data, target in test_loader:\n",
    "            output = model(data)  # Получаем предсказания от модели\n",
    "            \n",
    "            # Вычисление потерь\n",
    "            loss = criterion(output, target)\n",
    "            total_loss += loss.item()\n",
    "\n",
    "            # Получение предсказаний\n",
    "            pred = output.argmax(dim=1)\n",
    "            correct += pred.eq(target).sum().item()\n",
    "\n",
    "            # Подсчет правильных предсказаний для каждого класса\n",
    "            for i in range(len(target)):\n",
    "                label = target[i].item()  # Получаем метку класса\n",
    "                class_correct[label] += (pred[i] == label).item()  # Увеличиваем счетчик для правильного предсказания\n",
    "                class_total[label] += 1  # Увеличиваем общее количество примеров для данного класса\n",
    "\n",
    "    # Вычисляем общую точность и среднюю потерю\n",
    "    accuracy = correct / len(test_loader.dataset)\n",
    "    average_loss = total_loss / len(test_loader)\n",
    "\n",
    "    print(f'Overall Accuracy: {accuracy:.4f}')\n",
    "    print(f'Average Loss: {average_loss:.4f}')\n",
    "\n",
    "    # Вывод результатов по каждому классу\n",
    "    for i in range(47):\n",
    "        if class_total[i] > 0:  # Избегаем деления на ноль\n",
    "            class_accuracy = class_correct[i] / class_total[i]\n",
    "            #print(f'Accuracy of class {i}: {class_accuracy:.2f}')\n",
    "        else:\n",
    "            print(f'Class {i} has no samples in the test set.')\n",
    "\n"
   ]
  },
  {
   "cell_type": "code",
   "execution_count": 27,
   "id": "d5db6119",
   "metadata": {},
   "outputs": [
    {
     "name": "stdout",
     "output_type": "stream",
     "text": [
      "Overall Accuracy: 0.8869\n",
      "Average Loss: 0.7548\n"
     ]
    },
    {
     "data": {
      "image/png": "[encoded data removed]",
      "text/plain": [
       "<Figure size 640x480 with 1 Axes>"
      ]
     },
     "metadata": {},
     "output_type": "display_data"
    }
   ],
   "source": [
    "evaluate_model(model_cnn, val_loader)"
   ]
  },
  {
   "cell_type": "code",
   "execution_count": null,
   "id": "04fb0031",
   "metadata": {},
   "outputs": [],
   "source": []
  }
 ],
 "metadata": {
  "colab": {
   "provenance": []
  },
  "kernelspec": {
   "display_name": "torch",
   "language": "python",
   "name": "python3"
  },
  "language_info": {
   "codemirror_mode": {
    "name": "ipython",
    "version": 3
   },
   "file_extension": ".py",
   "mimetype": "text/x-python",
   "name": "python",
   "nbconvert_exporter": "python",
   "pygments_lexer": "ipython3",
   "version": "3.11.11"
  }
 },
 "nbformat": 4,
 "nbformat_minor": 5
}
