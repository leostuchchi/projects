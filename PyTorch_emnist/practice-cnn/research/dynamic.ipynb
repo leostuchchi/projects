{
 "cells": [
  {
   "cell_type": "markdown",
   "id": "f919cb9f",
   "metadata": {
    "id": "f919cb9f"
   },
   "source": [
    "# Библиотеки"
   ]
  },
  {
   "cell_type": "code",
   "execution_count": null,
   "id": "dF95Pr6tz_ok",
   "metadata": {
    "colab": {
     "base_uri": "https://localhost:8080/"
    },
    "executionInfo": {
     "elapsed": 5405,
     "status": "ok",
     "timestamp": 1735906120427,
     "user": {
      "displayName": "Leonard Stuchilin",
      "userId": "12835425704178441738"
     },
     "user_tz": -120
    },
    "id": "dF95Pr6tz_ok",
    "outputId": "c179cd2a-aa51-403f-df5b-a268f6cc09bb"
   },
   "outputs": [
    {
     "name": "stdout",
     "output_type": "stream",
     "text": [
      "Collecting optuna\n",
      "  Downloading optuna-4.1.0-py3-none-any.whl.metadata (16 kB)\n",
      "Collecting alembic>=1.5.0 (from optuna)\n",
      "  Downloading alembic-1.14.0-py3-none-any.whl.metadata (7.4 kB)\n",
      "Collecting colorlog (from optuna)\n",
      "  Downloading colorlog-6.9.0-py3-none-any.whl.metadata (10 kB)\n",
      "Requirement already satisfied: numpy in /usr/local/lib/python3.10/dist-packages (from optuna) (1.26.4)\n",
      "Requirement already satisfied: packaging>=20.0 in /usr/local/lib/python3.10/dist-packages (from optuna) (24.2)\n",
      "Requirement already satisfied: sqlalchemy>=1.4.2 in /usr/local/lib/python3.10/dist-packages (from optuna) (2.0.36)\n",
      "Requirement already satisfied: tqdm in /usr/local/lib/python3.10/dist-packages (from optuna) (4.67.1)\n",
      "Requirement already satisfied: PyYAML in /usr/local/lib/python3.10/dist-packages (from optuna) (6.0.2)\n",
      "Collecting Mako (from alembic>=1.5.0->optuna)\n",
      "  Downloading Mako-1.3.8-py3-none-any.whl.metadata (2.9 kB)\n",
      "Requirement already satisfied: typing-extensions>=4 in /usr/local/lib/python3.10/dist-packages (from alembic>=1.5.0->optuna) (4.12.2)\n",
      "Requirement already satisfied: greenlet!=0.4.17 in /usr/local/lib/python3.10/dist-packages (from sqlalchemy>=1.4.2->optuna) (3.1.1)\n",
      "Requirement already satisfied: MarkupSafe>=0.9.2 in /usr/local/lib/python3.10/dist-packages (from Mako->alembic>=1.5.0->optuna) (3.0.2)\n",
      "Downloading optuna-4.1.0-py3-none-any.whl (364 kB)\n",
      "\u001b[2K   \u001b[90m━━━━━━━━━━━━━━━━━━━━━━━━━━━━━━━━━━━━━━━━\u001b[0m \u001b[32m364.4/364.4 kB\u001b[0m \u001b[31m8.0 MB/s\u001b[0m eta \u001b[36m0:00:00\u001b[0m\n",
      "\u001b[?25hDownloading alembic-1.14.0-py3-none-any.whl (233 kB)\n",
      "\u001b[2K   \u001b[90m━━━━━━━━━━━━━━━━━━━━━━━━━━━━━━━━━━━━━━━━\u001b[0m \u001b[32m233.5/233.5 kB\u001b[0m \u001b[31m15.4 MB/s\u001b[0m eta \u001b[36m0:00:00\u001b[0m\n",
      "\u001b[?25hDownloading colorlog-6.9.0-py3-none-any.whl (11 kB)\n",
      "Downloading Mako-1.3.8-py3-none-any.whl (78 kB)\n",
      "\u001b[2K   \u001b[90m━━━━━━━━━━━━━━━━━━━━━━━━━━━━━━━━━━━━━━━━\u001b[0m \u001b[32m78.6/78.6 kB\u001b[0m \u001b[31m5.7 MB/s\u001b[0m eta \u001b[36m0:00:00\u001b[0m\n",
      "\u001b[?25hInstalling collected packages: Mako, colorlog, alembic, optuna\n",
      "Successfully installed Mako-1.3.8 alembic-1.14.0 colorlog-6.9.0 optuna-4.1.0\n"
     ]
    }
   ],
   "source": [
    "pip install optuna"
   ]
  },
  {
   "cell_type": "code",
   "execution_count": 35,
   "id": "2d826ec1",
   "metadata": {
    "executionInfo": {
     "elapsed": 454,
     "status": "ok",
     "timestamp": 1735911898393,
     "user": {
      "displayName": "Leonard Stuchilin",
      "userId": "12835425704178441738"
     },
     "user_tz": -120
    },
    "id": "2d826ec1"
   },
   "outputs": [],
   "source": [
    "import os\n",
    "import torch\n",
    "import torchvision\n",
    "from torchvision.datasets import EMNIST\n",
    "from torchvision import transforms\n",
    "from torchvision.transforms import ToTensor, Compose, Resize, Normalize\n",
    "import matplotlib.pyplot as plt\n",
    "import numpy as np\n",
    "from torch import nn\n",
    "from torch.utils.data import DataLoader\n",
    "import torch.nn.functional as F\n",
    "import torch.optim as optim\n",
    "from torch.optim.lr_scheduler import StepLR\n",
    "from PIL import Image\n",
    "\n",
    "import torchvision.transforms.functional as TF\n",
    "import cv2\n",
    "#import optuna"
   ]
  },
  {
   "cell_type": "code",
   "execution_count": null,
   "id": "nQLHNoSp03XI",
   "metadata": {
    "colab": {
     "base_uri": "https://localhost:8080/"
    },
    "executionInfo": {
     "elapsed": 24689,
     "status": "ok",
     "timestamp": 1735906171556,
     "user": {
      "displayName": "Leonard Stuchilin",
      "userId": "12835425704178441738"
     },
     "user_tz": -120
    },
    "id": "nQLHNoSp03XI",
    "outputId": "f812587a-69cb-4163-d769-a23b5508e2b0"
   },
   "outputs": [
    {
     "name": "stdout",
     "output_type": "stream",
     "text": [
      "Mounted at /content/drive\n"
     ]
    }
   ],
   "source": [
    "from google.colab import drive\n",
    "drive.mount('/content/drive')"
   ]
  },
  {
   "cell_type": "markdown",
   "id": "c84ac4f0",
   "metadata": {
    "id": "c84ac4f0"
   },
   "source": [
    "# Получение, трансформация, нормализация и контроль данных"
   ]
  },
  {
   "cell_type": "code",
   "execution_count": 36,
   "id": "c9d6caec",
   "metadata": {
    "executionInfo": {
     "elapsed": 653,
     "status": "ok",
     "timestamp": 1735911903236,
     "user": {
      "displayName": "Leonard Stuchilin",
      "userId": "12835425704178441738"
     },
     "user_tz": -120
    },
    "id": "c9d6caec"
   },
   "outputs": [],
   "source": [
    "# Определение трансформаций для нормализации данных\n",
    "transform = transforms.Compose([\n",
    "    transforms.ToTensor(),\n",
    "    transforms.Normalize((0.1307,), (0.3081,))  # Нормализация по среднему и стандартному отклонению\n",
    "])\n",
    "\n",
    "# Загрузка обучающего набора данных с трансформациями\n",
    "train_data = EMNIST('/content/drive/MyDrive/Scientist/Advanced/torch_cnn/data', 'balanced', train=True, download=True,\n",
    "                transform=torchvision.transforms.Compose([ # Поворот и отражение\n",
    "                    lambda img: torchvision.transforms.functional.rotate(img, -90),\n",
    "                    lambda img: torchvision.transforms.functional.hflip(img),\n",
    "                    transform # трансформируем и нормализуем\n",
    "                ]))\n",
    "\n",
    "# Загрузка тестового набора данных с трансформациями\n",
    "test_data = EMNIST('/content/drive/MyDrive/Scientist/Advanced/torch_cnn/data', 'balanced', train=False,\n",
    "                transform=torchvision.transforms.Compose([ # Поворот и отражение\n",
    "                    lambda img: torchvision.transforms.functional.rotate(img, -90),\n",
    "                    lambda img: torchvision.transforms.functional.hflip(img),\n",
    "                    transform # трансформируем и нормализуем\n",
    "                ]))"
   ]
  },
  {
   "cell_type": "code",
   "execution_count": 37,
   "id": "1864e3f0",
   "metadata": {
    "executionInfo": {
     "elapsed": 362,
     "status": "ok",
     "timestamp": 1735911910365,
     "user": {
      "displayName": "Leonard Stuchilin",
      "userId": "12835425704178441738"
     },
     "user_tz": -120
    },
    "id": "1864e3f0"
   },
   "outputs": [],
   "source": [
    "# получение маппинга\n",
    "with open('/content/drive/MyDrive/Scientist/Advanced/torch_cnn/emnist-balanced-mapping.txt', 'r') as f:\n",
    "    mapping = f.readlines()\n",
    "\n",
    "#mapping"
   ]
  },
  {
   "cell_type": "code",
   "execution_count": 38,
   "id": "092862d6",
   "metadata": {
    "executionInfo": {
     "elapsed": 325,
     "status": "ok",
     "timestamp": 1735911913971,
     "user": {
      "displayName": "Leonard Stuchilin",
      "userId": "12835425704178441738"
     },
     "user_tz": -120
    },
    "id": "092862d6"
   },
   "outputs": [],
   "source": [
    "# Создаем словарь соответствий\n",
    "label_dict = {}\n",
    "for entry in mapping:\n",
    "    label, ascii_code = map(int, entry.split())\n",
    "    label_dict[label] = chr(ascii_code)"
   ]
  },
  {
   "cell_type": "code",
   "execution_count": null,
   "id": "18534804",
   "metadata": {
    "colab": {
     "base_uri": "https://localhost:8080/",
     "height": 47
    },
    "executionInfo": {
     "elapsed": 1684,
     "status": "ok",
     "timestamp": 1735885724601,
     "user": {
      "displayName": "Leonard Stuchilin",
      "userId": "12835425704178441738"
     },
     "user_tz": -120
    },
    "id": "18534804",
    "outputId": "ea563700-9663-440d-965e-18365f9f95c2"
   },
   "outputs": [
    {
     "data": {
      "image/png": "[encoded data removed]",
      "text/plain": [
       "<Figure size 2000x500 with 10 Axes>"
      ]
     },
     "metadata": {},
     "output_type": "display_data"
    }
   ],
   "source": [
    "# Проверяем корректность изображений\n",
    "fig, axs = plt.subplots(1, 10, figsize=(20, 5))\n",
    "for i in range(10):\n",
    "    random_index = np.random.randint(0, len(train_data))\n",
    "    #print('Random index:', random_index)\n",
    "    image, label = train_data[random_index]\n",
    "\n",
    "    # Преобразование изображения в NumPy массив для корректного отображения\n",
    "    image_np = image.numpy()  # Прямое преобразование в NumPy массив\n",
    "\n",
    "    # Убираем размерность канала (если она есть)\n",
    "    if image_np.shape[0] == 1:  # Если канал один (черно-белое изображение)\n",
    "        image_np = image_np.squeeze(0)  # Убираем размерность канала\n",
    "\n",
    "    # Отображаем изображение\n",
    "    axs[i].imshow(image_np, cmap='gray')\n",
    "    axs[i].set_title(label_dict[label])  # Используем словарь для отображения метки\n",
    "    axs[i].axis('off')\n",
    "\n",
    "plt.show()"
   ]
  },
  {
   "cell_type": "code",
   "execution_count": 39,
   "id": "499cb0ae",
   "metadata": {
    "executionInfo": {
     "elapsed": 315,
     "status": "ok",
     "timestamp": 1735911918045,
     "user": {
      "displayName": "Leonard Stuchilin",
      "userId": "12835425704178441738"
     },
     "user_tz": -120
    },
    "id": "499cb0ae"
   },
   "outputs": [],
   "source": [
    "# Создание загрузчиков данных\n",
    "train_loader = DataLoader(train_data, batch_size=64, shuffle=True)\n",
    "val_loader = DataLoader(test_data, batch_size=64, shuffle=False)"
   ]
  },
  {
   "cell_type": "code",
   "execution_count": null,
   "id": "ZMaJt3pC6qkZ",
   "metadata": {
    "id": "ZMaJt3pC6qkZ"
   },
   "outputs": [],
   "source": [
    "train_loader = DataLoader(train_data, batch_size=64, shuffle=True, drop_last=True)\n",
    "val_loader = DataLoader(test_data, batch_size=64, shuffle=False, drop_last=True)"
   ]
  },
  {
   "cell_type": "code",
   "execution_count": null,
   "id": "y5be8UFeMuwQ",
   "metadata": {
    "colab": {
     "base_uri": "https://localhost:8080/"
    },
    "executionInfo": {
     "elapsed": 292,
     "status": "ok",
     "timestamp": 1735891681022,
     "user": {
      "displayName": "Leonard Stuchilin",
      "userId": "12835425704178441738"
     },
     "user_tz": -120
    },
    "id": "y5be8UFeMuwQ",
    "outputId": "c6e84693-ed83-4a36-bfd8-b2568d4594f1"
   },
   "outputs": [
    {
     "name": "stdout",
     "output_type": "stream",
     "text": [
      "64\n"
     ]
    },
    {
     "data": {
      "text/plain": [
       "64"
      ]
     },
     "execution_count": 49,
     "metadata": {},
     "output_type": "execute_result"
    }
   ],
   "source": [
    "print(val_loader.batch_size)\n",
    "train_loader.batch_size"
   ]
  },
  {
   "cell_type": "code",
   "execution_count": null,
   "id": "wGM_6O3gyIpb",
   "metadata": {
    "id": "wGM_6O3gyIpb"
   },
   "outputs": [],
   "source": [
    "\n",
    "class ImprovedCNNModel(nn.Module):\n",
    "    def __init__(self):\n",
    "        super(ImprovedCNNModel, self).__init__()\n",
    "        self.conv1 = nn.Conv2d(1, 32, kernel_size=3, padding=1)\n",
    "        self.bn1 = nn.BatchNorm2d(32)\n",
    "        self.pool = nn.MaxPool2d(kernel_size=2, stride=2)\n",
    "\n",
    "        self.conv2 = nn.Conv2d(32, 64, kernel_size=3, padding=1)\n",
    "        self.bn2 = nn.BatchNorm2d(64)\n",
    "\n",
    "        self.conv3 = nn.Conv2d(64, 128, kernel_size=3, padding=1)\n",
    "        self.bn3 = nn.BatchNorm2d(128)\n",
    "\n",
    "        self.fc1 = nn.Linear(128 * 3 * 3, 256)  # размере после сверток и подвыборки\n",
    "        self.fc2 = nn.Linear(256, 47)\n",
    "        self.dropout = nn.Dropout(0.5)\n",
    "\n",
    "    def forward(self, x):\n",
    "        x = self.pool(F.relu(self.bn1(self.conv1(x))))\n",
    "        x = self.pool(F.relu(self.bn2(self.conv2(x))))\n",
    "        x = self.pool(F.relu(self.bn3(self.conv3(x))))\n",
    "\n",
    "        x = x.view(-1, 128 * 3 * 3)  # размер в зависимости от входного размера\n",
    "        x = F.relu(self.fc1(x))\n",
    "        x = self.dropout(x)\n",
    "        x = self.fc2(x)\n",
    "\n",
    "        return x"
   ]
  },
  {
   "cell_type": "code",
   "execution_count": null,
   "id": "TKxrcDJMzJoD",
   "metadata": {
    "id": "TKxrcDJMzJoD"
   },
   "outputs": [],
   "source": [
    "# Инициализация модели и оптимизатора\n",
    "model = ImprovedCNNModel()\n",
    "optimizer = optim.Adam(model.parameters(), lr=0.001)\n",
    "loss_function = nn.CrossEntropyLoss()"
   ]
  },
  {
   "cell_type": "code",
   "execution_count": null,
   "id": "A836ChnWzJ7c",
   "metadata": {
    "colab": {
     "base_uri": "https://localhost:8080/"
    },
    "executionInfo": {
     "elapsed": 3093478,
     "status": "ok",
     "timestamp": 1735896010506,
     "user": {
      "displayName": "Leonard Stuchilin",
      "userId": "12835425704178441738"
     },
     "user_tz": -120
    },
    "id": "A836ChnWzJ7c",
    "outputId": "658c5431-10da-4532-9bd9-dd6bc2f46132"
   },
   "outputs": [
    {
     "name": "stdout",
     "output_type": "stream",
     "text": [
      "Epoch 1/10, Loss: 0.7808\n",
      "Validation Accuracy: 0.8627\n",
      "Epoch 2/10, Loss: 0.4796\n",
      "Validation Accuracy: 0.8694\n",
      "Epoch 3/10, Loss: 0.4255\n",
      "Validation Accuracy: 0.8741\n",
      "Epoch 4/10, Loss: 0.3909\n",
      "Validation Accuracy: 0.8813\n",
      "Epoch 5/10, Loss: 0.3662\n",
      "Validation Accuracy: 0.8839\n",
      "Epoch 6/10, Loss: 0.3448\n",
      "Validation Accuracy: 0.8807\n",
      "Epoch 7/10, Loss: 0.3294\n",
      "Validation Accuracy: 0.8870\n",
      "Epoch 8/10, Loss: 0.3118\n",
      "Validation Accuracy: 0.8845\n",
      "Epoch 9/10, Loss: 0.3019\n",
      "Validation Accuracy: 0.8857\n",
      "Epoch 10/10, Loss: 0.2866\n",
      "Validation Accuracy: 0.8897\n"
     ]
    }
   ],
   "source": [
    "# цикл обучения\n",
    "n_epochs = 10\n",
    "\n",
    "for epoch in range(n_epochs):\n",
    "    model.train()\n",
    "    running_loss = 0.0\n",
    "\n",
    "    for data, target in train_loader:\n",
    "        optimizer.zero_grad()\n",
    "        output = model(data)\n",
    "        loss = loss_function(output, target)\n",
    "        loss.backward()\n",
    "        optimizer.step()\n",
    "\n",
    "        running_loss += loss.item()\n",
    "\n",
    "    print(f'Epoch {epoch + 1}/{n_epochs}, Loss: {running_loss / len(train_loader):.4f}')\n",
    "\n",
    "    # Валидация\n",
    "    model.eval()\n",
    "    correct = 0\n",
    "\n",
    "    with torch.no_grad():\n",
    "        for data, target in val_loader:\n",
    "            output = model(data)\n",
    "            pred = output.argmax(dim=1)\n",
    "            correct += pred.eq(target).sum().item()\n",
    "\n",
    "    accuracy = correct / len(val_loader.dataset)\n",
    "    print(f'Validation Accuracy: {accuracy:.4f}')"
   ]
  },
  {
   "cell_type": "code",
   "execution_count": null,
   "id": "cb5b5c7c",
   "metadata": {
    "id": "cb5b5c7c"
   },
   "outputs": [],
   "source": [
    "# Очищаем состояние для последующей модели\n",
    "def clear_training_state(model, optimizer):\n",
    "    # Удаляем все параметры и градиенты\n",
    "    model.apply(lambda m: m.reset_parameters() if hasattr(m, 'reset_parameters') else None)\n",
    "    optimizer.state.clear()  # Очищаем состояние оптимизатора\n",
    "    optimizer.param_groups.clear()  # Очищаем группы параметров"
   ]
  },
  {
   "cell_type": "code",
   "execution_count": null,
   "id": "88ef1acd",
   "metadata": {
    "id": "88ef1acd"
   },
   "outputs": [],
   "source": [
    "# Используем функцию для очистки состояния\n",
    "#clear_training_state(model, optimizer)\n",
    "\n",
    "# Функция потерь для многоклассовой классификации"
   ]
  },
  {
   "cell_type": "code",
   "execution_count": null,
   "id": "1651aade",
   "metadata": {
    "id": "1651aade"
   },
   "outputs": [],
   "source": [
    "# Сохранение модели в формате .ckpt\n",
    "torch.save(model.state_dict(), '/content/drive/MyDrive/Scientist/Advanced/torch_cnn/data/model_din.ckpt')"
   ]
  },
  {
   "cell_type": "code",
   "execution_count": null,
   "id": "0aa60040",
   "metadata": {
    "colab": {
     "base_uri": "https://localhost:8080/",
     "height": 231
    },
    "executionInfo": {
     "elapsed": 902,
     "status": "ok",
     "timestamp": 1735896035876,
     "user": {
      "displayName": "Leonard Stuchilin",
      "userId": "12835425704178441738"
     },
     "user_tz": -120
    },
    "id": "0aa60040",
    "outputId": "0269b1ec-27d2-4b20-db21-e58180ba685d"
   },
   "outputs": [
    {
     "data": {
      "image/png": "[encoded data removed]",
      "text/plain": [
       "<Figure size 2000x500 with 10 Axes>"
      ]
     },
     "metadata": {},
     "output_type": "display_data"
    }
   ],
   "source": [
    "def predict(image):\n",
    "    # Применяем преобразования к изображению, если они требуются\n",
    "    # image = transform(input_image)  # Примените необходимые преобразования\n",
    "    # Убедитесь, что изображение имеет форму (1, 1, H, W) для модели\n",
    "    if image.dim() == 2:  # Если изображение 2D (H, W)\n",
    "        image = image.unsqueeze(0)  # Добавляем размер канала\n",
    "    image = image.unsqueeze(0)  # Добавляем размер батча\n",
    "\n",
    "    #print('image shape:', image.shape)\n",
    "\n",
    "    with torch.no_grad():  # Отключаем градиенты для повышения производительности\n",
    "        output = model(image)  # Получаем выход модели\n",
    "        _, predicted_class = torch.max(output.data, 1)  # Находим класс с максимальной вероятностью\n",
    "        predicted_label = predicted_class.item()  # Получаем метку класса как целое число\n",
    "        #print('predicted_label:', predicted_label)\n",
    "\n",
    "        pred = label_dict[predicted_label]  # Получаем предсказанную метку\n",
    "        #print('predicted symbol:', pred)\n",
    "\n",
    "    return pred\n",
    "\n",
    "# Проверяем предсказания\n",
    "fig, axs = plt.subplots(1, 10, figsize=(20, 5))\n",
    "for i in range(10):\n",
    "    random_index = np.random.randint(0, len(train_data))\n",
    "    #print('Random index:', random_index)\n",
    "    image, label = train_data[random_index]\n",
    "\n",
    "    # Преобразование изображения в NumPy массив для корректного отображения\n",
    "    image_np = image.squeeze(0).numpy()  # Убираем размер канала и преобразуем в NumPy массив\n",
    "\n",
    "    pred = predict(image)  # Предсказание для изображения\n",
    "\n",
    "    # Отображаем изображение\n",
    "    axs[i].imshow(image_np, cmap='gray')  # Используем cmap='gray' для черно-белых изображений\n",
    "    # Добавляем отображение истинной метки и предсказанного значения\n",
    "    axs[i].set_title(f'True: {label_dict[label]}\\nPred: {pred}')\n",
    "    axs[i].axis('off')\n",
    "\n",
    "plt.show()"
   ]
  },
  {
   "cell_type": "code",
   "execution_count": null,
   "id": "5kVxtlmHgg8m",
   "metadata": {
    "colab": {
     "base_uri": "https://localhost:8080/"
    },
    "executionInfo": {
     "elapsed": 393,
     "status": "ok",
     "timestamp": 1735896865125,
     "user": {
      "displayName": "Leonard Stuchilin",
      "userId": "12835425704178441738"
     },
     "user_tz": -120
    },
    "id": "5kVxtlmHgg8m",
    "outputId": "43cd8534-f6a3-44af-8af1-f82c99c912ee"
   },
   "outputs": [
    {
     "name": "stderr",
     "output_type": "stream",
     "text": [
      "<ipython-input-74-e46f5af2341f>:3: FutureWarning: You are using `torch.load` with `weights_only=False` (the current default value), which uses the default pickle module implicitly. It is possible to construct malicious pickle data which will execute arbitrary code during unpickling (See https://github.com/pytorch/pytorch/blob/main/SECURITY.md#untrusted-models for more details). In a future release, the default value for `weights_only` will be flipped to `True`. This limits the functions that could be executed during unpickling. Arbitrary objects will no longer be allowed to be loaded via this mode unless they are explicitly allowlisted by the user via `torch.serialization.add_safe_globals`. We recommend you start setting `weights_only=True` for any use case where you don't have full control of the loaded file. Please open an issue on GitHub for any issues related to this experimental feature.\n",
      "  model.load_state_dict(torch.load('/content/drive/MyDrive/Scientist/Advanced/torch_cnn/data/model_din.ckpt'))  # Замените на путь к вашей модели\n"
     ]
    },
    {
     "data": {
      "text/plain": [
       "ImprovedCNNModel(\n",
       "  (conv1): Conv2d(1, 32, kernel_size=(3, 3), stride=(1, 1), padding=(1, 1))\n",
       "  (bn1): BatchNorm2d(32, eps=1e-05, momentum=0.1, affine=True, track_running_stats=True)\n",
       "  (pool): MaxPool2d(kernel_size=2, stride=2, padding=0, dilation=1, ceil_mode=False)\n",
       "  (conv2): Conv2d(32, 64, kernel_size=(3, 3), stride=(1, 1), padding=(1, 1))\n",
       "  (bn2): BatchNorm2d(64, eps=1e-05, momentum=0.1, affine=True, track_running_stats=True)\n",
       "  (conv3): Conv2d(64, 128, kernel_size=(3, 3), stride=(1, 1), padding=(1, 1))\n",
       "  (bn3): BatchNorm2d(128, eps=1e-05, momentum=0.1, affine=True, track_running_stats=True)\n",
       "  (fc1): Linear(in_features=1152, out_features=256, bias=True)\n",
       "  (fc2): Linear(in_features=256, out_features=47, bias=True)\n",
       "  (dropout): Dropout(p=0.5, inplace=False)\n",
       ")"
      ]
     },
     "execution_count": 74,
     "metadata": {},
     "output_type": "execute_result"
    }
   ],
   "source": [
    "# Загрузка предварительно обученной модели\n",
    "model = ImprovedCNNModel()  # Предполагается, что ваша модель уже определена\n",
    "model.load_state_dict(torch.load('/content/drive/MyDrive/Scientist/Advanced/torch_cnn/data/model_din.ckpt'))  # Замените на путь к вашей модели\n",
    "model.eval()  # Установка модели в режим оценки"
   ]
  },
  {
   "cell_type": "code",
   "execution_count": null,
   "id": "ZuT4Q_e6gawZ",
   "metadata": {
    "colab": {
     "base_uri": "https://localhost:8080/"
    },
    "executionInfo": {
     "elapsed": 24684,
     "status": "ok",
     "timestamp": 1735897232963,
     "user": {
      "displayName": "Leonard Stuchilin",
      "userId": "12835425704178441738"
     },
     "user_tz": -120
    },
    "id": "ZuT4Q_e6gawZ",
    "outputId": "f5dbd649-d809-4ac9-ef25-51bed2b30e47"
   },
   "outputs": [
    {
     "name": "stdout",
     "output_type": "stream",
     "text": [
      "0\n",
      "Accuracy of class 0: 0.81\n",
      "1\n",
      "Accuracy of class 1: 0.80\n",
      "2\n",
      "Accuracy of class 2: 0.92\n",
      "3\n",
      "Accuracy of class 3: 0.96\n",
      "4\n",
      "Accuracy of class 4: 0.92\n",
      "5\n",
      "Accuracy of class 5: 0.83\n",
      "6\n",
      "Accuracy of class 6: 0.94\n",
      "7\n",
      "Accuracy of class 7: 0.98\n",
      "8\n",
      "Accuracy of class 8: 0.98\n",
      "9\n",
      "Accuracy of class 9: 0.85\n",
      "A\n",
      "Accuracy of class 10: 0.98\n",
      "B\n",
      "Accuracy of class 11: 0.97\n",
      "C\n",
      "Accuracy of class 12: 0.96\n",
      "D\n",
      "Accuracy of class 13: 0.92\n",
      "E\n",
      "Accuracy of class 14: 0.98\n",
      "F\n",
      "Accuracy of class 15: 0.48\n",
      "G\n",
      "Accuracy of class 16: 0.95\n",
      "H\n",
      "Accuracy of class 17: 0.99\n",
      "I\n",
      "Accuracy of class 18: 0.64\n",
      "J\n",
      "Accuracy of class 19: 0.96\n",
      "K\n",
      "Accuracy of class 20: 0.97\n",
      "L\n",
      "Accuracy of class 21: 0.45\n",
      "M\n",
      "Accuracy of class 22: 0.98\n",
      "N\n",
      "Accuracy of class 23: 0.98\n",
      "O\n",
      "Accuracy of class 24: 0.57\n",
      "P\n",
      "Accuracy of class 25: 0.98\n",
      "Q\n",
      "Accuracy of class 26: 0.94\n",
      "R\n",
      "Accuracy of class 27: 0.98\n",
      "S\n",
      "Accuracy of class 28: 0.97\n",
      "T\n",
      "Accuracy of class 29: 0.94\n",
      "U\n",
      "Accuracy of class 30: 0.93\n",
      "V\n",
      "Accuracy of class 31: 0.94\n",
      "W\n",
      "Accuracy of class 32: 0.99\n",
      "X\n",
      "Accuracy of class 33: 0.98\n",
      "Y\n",
      "Accuracy of class 34: 0.92\n",
      "Z\n",
      "Accuracy of class 35: 0.90\n",
      "a\n",
      "Accuracy of class 36: 0.92\n",
      "b\n",
      "Accuracy of class 37: 0.94\n",
      "d\n",
      "Accuracy of class 38: 0.97\n",
      "e\n",
      "Accuracy of class 39: 0.97\n",
      "f\n",
      "Accuracy of class 40: 0.79\n",
      "g\n",
      "Accuracy of class 41: 0.68\n",
      "h\n",
      "Accuracy of class 42: 0.95\n",
      "n\n",
      "Accuracy of class 43: 0.92\n",
      "q\n",
      "Accuracy of class 44: 0.57\n",
      "r\n",
      "Accuracy of class 45: 0.95\n",
      "t\n",
      "Accuracy of class 46: 0.91\n"
     ]
    }
   ],
   "source": [
    "\n",
    "# Инициализация переменных для хранения результатов\n",
    "class_correct = [0] * 47  # Для каждого из 47 классов\n",
    "class_total = [0] * 47\n",
    "\n",
    "# Оценка модели на тестовом наборе данных\n",
    "with torch.no_grad():\n",
    "    for data, target in val_loader:\n",
    "        output = model(data)  # Получение предсказаний от модели\n",
    "        _, predicted = torch.max(output, 1)  # Получение индексов классов с максимальным значением вероятности\n",
    "\n",
    "        # Подсчет правильных предсказаний для каждого класса\n",
    "        for i in range(len(target)):\n",
    "            label = target[i].item()  # Получение метки класса\n",
    "            class_correct[label] += (predicted[i] == label).item()  # Увеличение счетчика для правильного предсказания\n",
    "            class_total[label] += 1  # Увеличение общего количества примеров для данного класса\n",
    "\n",
    "# Вывод результатов по каждому классу\n",
    "for i in range(47):\n",
    "    if class_total[i] > 0:  # Избегаем деления на ноль\n",
    "        accuracy = class_correct[i] / class_total[i]\n",
    "        print(label_dict[i])\n",
    "        print(f'Accuracy of class {i}: {accuracy:.2f}')\n",
    "    else:\n",
    "        print(f'Class {i} has no samples in the test set.')"
   ]
  },
  {
   "cell_type": "code",
   "execution_count": null,
   "id": "c48idYuCiaxk",
   "metadata": {
    "colab": {
     "base_uri": "https://localhost:8080/"
    },
    "executionInfo": {
     "elapsed": 339,
     "status": "ok",
     "timestamp": 1735897397551,
     "user": {
      "displayName": "Leonard Stuchilin",
      "userId": "12835425704178441738"
     },
     "user_tz": -120
    },
    "id": "c48idYuCiaxk",
    "outputId": "01eb92e5-5a8e-488e-d873-9f5b26fb14b8"
   },
   "outputs": [
    {
     "name": "stdout",
     "output_type": "stream",
     "text": [
      "0\n",
      "Accuracy of class 0: 0.81\n",
      "1\n",
      "Accuracy of class 1: 0.80\n",
      "2\n",
      "Accuracy of class 2: 0.92\n",
      "3\n",
      "Accuracy of class 3: 0.96\n",
      "4\n",
      "Accuracy of class 4: 0.92\n",
      "5\n",
      "Accuracy of class 5: 0.83\n",
      "6\n",
      "Accuracy of class 6: 0.94\n",
      "7\n",
      "Accuracy of class 7: 0.98\n",
      "8\n",
      "Accuracy of class 8: 0.98\n",
      "9\n",
      "Accuracy of class 9: 0.85\n",
      "A\n",
      "Accuracy of class 10: 0.98\n",
      "B\n",
      "Accuracy of class 11: 0.97\n",
      "C\n",
      "Accuracy of class 12: 0.96\n",
      "D\n",
      "Accuracy of class 13: 0.92\n",
      "E\n",
      "Accuracy of class 14: 0.98\n",
      "F\n",
      "Accuracy of class 15: 0.48\n",
      "G\n",
      "Accuracy of class 16: 0.95\n",
      "H\n",
      "Accuracy of class 17: 0.99\n",
      "I\n",
      "Accuracy of class 18: 0.64\n",
      "J\n",
      "Accuracy of class 19: 0.96\n",
      "K\n",
      "Accuracy of class 20: 0.97\n",
      "L\n",
      "Accuracy of class 21: 0.45\n",
      "M\n",
      "Accuracy of class 22: 0.98\n",
      "N\n",
      "Accuracy of class 23: 0.98\n",
      "O\n",
      "Accuracy of class 24: 0.57\n",
      "P\n",
      "Accuracy of class 25: 0.98\n",
      "Q\n",
      "Accuracy of class 26: 0.94\n",
      "R\n",
      "Accuracy of class 27: 0.98\n",
      "S\n",
      "Accuracy of class 28: 0.97\n",
      "T\n",
      "Accuracy of class 29: 0.94\n",
      "U\n",
      "Accuracy of class 30: 0.93\n",
      "V\n",
      "Accuracy of class 31: 0.94\n",
      "W\n",
      "Accuracy of class 32: 0.99\n",
      "X\n",
      "Accuracy of class 33: 0.98\n",
      "Y\n",
      "Accuracy of class 34: 0.92\n",
      "Z\n",
      "Accuracy of class 35: 0.90\n",
      "a\n",
      "Accuracy of class 36: 0.92\n",
      "b\n",
      "Accuracy of class 37: 0.94\n",
      "d\n",
      "Accuracy of class 38: 0.97\n",
      "e\n",
      "Accuracy of class 39: 0.97\n",
      "f\n",
      "Accuracy of class 40: 0.79\n",
      "g\n",
      "Accuracy of class 41: 0.68\n",
      "h\n",
      "Accuracy of class 42: 0.95\n",
      "n\n",
      "Accuracy of class 43: 0.92\n",
      "q\n",
      "Accuracy of class 44: 0.57\n",
      "r\n",
      "Accuracy of class 45: 0.95\n",
      "t\n",
      "Accuracy of class 46: 0.91\n"
     ]
    }
   ],
   "source": [
    "# Вывод результатов по каждому классу\n",
    "for i in range(47):\n",
    "    if class_total[i] > 0:  # Избегаем деления на ноль\n",
    "        accuracy = class_correct[i] / class_total[i]\n",
    "        print(label_dict[i])\n",
    "        print(f'Accuracy of class {i}: {accuracy:.2f}')\n",
    "    else:\n",
    "        print(f'Class {i} has no samples in the test set.')"
   ]
  },
  {
   "cell_type": "code",
   "execution_count": null,
   "id": "2H5WkoZS4cG6",
   "metadata": {
    "colab": {
     "base_uri": "https://localhost:8080/"
    },
    "executionInfo": {
     "elapsed": 363,
     "status": "ok",
     "timestamp": 1735903402217,
     "user": {
      "displayName": "Leonard Stuchilin",
      "userId": "12835425704178441738"
     },
     "user_tz": -120
    },
    "id": "2H5WkoZS4cG6",
    "outputId": "d82a9596-181b-4338-bd67-44287663e87a"
   },
   "outputs": [
    {
     "name": "stdout",
     "output_type": "stream",
     "text": [
      "Используемый устройство: cuda\n"
     ]
    }
   ],
   "source": [
    "# Проверяем, доступен ли GPU\n",
    "device = torch.device(\"cuda\" if torch.cuda.is_available() else \"cpu\")\n",
    "print(f\"Используемый устройство: {device}\")"
   ]
  },
  {
   "cell_type": "code",
   "execution_count": null,
   "id": "8cgqUwXQ0aF-",
   "metadata": {
    "id": "8cgqUwXQ0aF-"
   },
   "outputs": [],
   "source": [
    "# Определение модели\n",
    "class ImprovedCNNModel(nn.Module):\n",
    "    def __init__(self, dropout_rate=0.5):\n",
    "        super(ImprovedCNNModel, self).__init__()\n",
    "        self.conv1 = nn.Conv2d(1, 32, kernel_size=3, padding=1)\n",
    "        self.bn1 = nn.BatchNorm2d(32)\n",
    "        self.pool = nn.MaxPool2d(kernel_size=2, stride=2)\n",
    "\n",
    "        self.conv2 = nn.Conv2d(32, 64, kernel_size=3, padding=1)\n",
    "        self.bn2 = nn.BatchNorm2d(64)\n",
    "\n",
    "        self.conv3 = nn.Conv2d(64, 128, kernel_size=3, padding=1)\n",
    "        self.bn3 = nn.BatchNorm2d(128)\n",
    "\n",
    "        # Изменяем размер fc1 в зависимости от входного размера\n",
    "        self.fc1 = nn.Linear(128 * 3 * 3, 256)\n",
    "        self.fc2 = nn.Linear(256, 47)\n",
    "        self.dropout = nn.Dropout(dropout_rate)\n",
    "\n",
    "    def forward(self, x):\n",
    "        x = self.pool(F.relu(self.bn1(self.conv1(x))))\n",
    "        x = self.pool(F.relu(self.bn2(self.conv2(x))))\n",
    "        x = self.pool(F.relu(self.bn3(self.conv3(x))))\n",
    "\n",
    "        x = x.view(-1, 128 * 3 * 3)\n",
    "        x = F.relu(self.fc1(x))\n",
    "        x = self.dropout(x)\n",
    "        x = self.fc2(x)\n",
    "\n",
    "        return x"
   ]
  },
  {
   "cell_type": "code",
   "execution_count": null,
   "id": "5F4NmtyY4qwF",
   "metadata": {
    "id": "5F4NmtyY4qwF"
   },
   "outputs": [],
   "source": [
    "# Инициализация модели и оптимизатора\n",
    "model = ImprovedCNNModel()#.to(device)\n",
    "optimizer = optim.Adam(model.parameters(), lr=0.00218)\n",
    "loss_function = nn.CrossEntropyLoss()"
   ]
  },
  {
   "cell_type": "code",
   "execution_count": null,
   "id": "OaDF9Skaz8DG",
   "metadata": {
    "id": "OaDF9Skaz8DG"
   },
   "outputs": [],
   "source": [
    "# Функция для обучения и валидации модели\n",
    "def objective(trial):\n",
    "    # Подбор гиперпараметров\n",
    "    dropout_rate = trial.suggest_float('dropout_rate', 0.1, 0.5)\n",
    "    lr = trial.suggest_loguniform('lr', 1e-5, 1e-1)\n",
    "\n",
    "    model = ImprovedCNNModel(dropout_rate=dropout_rate)\n",
    "    optimizer = optim.Adam(model.parameters(), lr=lr)\n",
    "    loss_function = nn.CrossEntropyLoss()\n",
    "\n",
    "    # Загрузка данных\n",
    "    #transform = transforms.Compose([\n",
    "        #transforms.Resize((28, 28)),\n",
    "        #transforms.ToTensor(),\n",
    "    #])\n",
    "\n",
    "    #train_dataset = datasets.EMNIST(root='./data', split='letters', train=True,\n",
    "                                     #download=True, transform=transform)\n",
    "    #val_dataset = datasets.EMNIST(root='./data', split='letters', train=False,\n",
    "                                   #download=True, transform=transform)\n",
    "\n",
    "    #train_loader = DataLoader(train_dataset, batch_size=64, shuffle=True)\n",
    "    #val_loader = DataLoader(val_dataset, batch_size=64, shuffle=False)\n",
    "\n",
    "    # Обучение модели\n",
    "    n_epochs = 5\n",
    "    for epoch in range(n_epochs):\n",
    "        model.train()\n",
    "        running_loss = 0.0\n",
    "\n",
    "        for data, target in train_loader:\n",
    "            optimizer.zero_grad()\n",
    "            output = model(data)\n",
    "            loss = loss_function(output, target)\n",
    "            loss.backward()\n",
    "            optimizer.step()\n",
    "            running_loss += loss.item()\n",
    "\n",
    "    # Валидация модели\n",
    "    model.eval()\n",
    "    correct = 0\n",
    "    with torch.no_grad():\n",
    "        for data, target in val_loader:\n",
    "            output = model(data)\n",
    "            pred = output.argmax(dim=1)\n",
    "            correct += pred.eq(target).sum().item()\n",
    "\n",
    "    accuracy = correct / len(val_loader.dataset)\n",
    "\n",
    "    return accuracy"
   ]
  },
  {
   "cell_type": "code",
   "execution_count": null,
   "id": "EKgHFKkq1Ds9",
   "metadata": {
    "colab": {
     "base_uri": "https://localhost:8080/"
    },
    "id": "EKgHFKkq1Ds9",
    "outputId": "e5d26fa8-aaeb-4ff5-d08a-60c33647d8cf"
   },
   "outputs": [
    {
     "name": "stderr",
     "output_type": "stream",
     "text": [
      "[I 2025-01-03 11:28:15,579] A new study created in memory with name: no-name-5e2e1e0f-cc99-41db-b936-2fdde81978df\n",
      "<ipython-input-14-a4d53927d514>:5: FutureWarning: suggest_loguniform has been deprecated in v3.0.0. This feature will be removed in v6.0.0. See https://github.com/optuna/optuna/releases/tag/v3.0.0. Use suggest_float(..., log=True) instead.\n",
      "  lr = trial.suggest_loguniform('lr', 1e-5, 1e-1)\n",
      "[I 2025-01-03 11:44:58,900] Trial 0 finished with value: 0.8798404255319149 and parameters: {'dropout_rate': 0.30540906788124494, 'lr': 0.0021843695129641185}. Best is trial 0 with value: 0.8798404255319149.\n",
      "[I 2025-01-03 12:01:44,151] Trial 1 finished with value: 0.8789361702127659 and parameters: {'dropout_rate': 0.3531347456105278, 'lr': 0.00013372793504250568}. Best is trial 0 with value: 0.8798404255319149.\n"
     ]
    }
   ],
   "source": [
    "# Запуск оптимизации гиперпараметров с помощью Optuna\n",
    "study = optuna.create_study(direction='maximize')\n",
    "study.optimize(objective, n_trials=5)\n",
    "\n",
    "# Вывод лучших гиперпараметров\n",
    "print(\"Best hyperparameters: \", study.best_params)\n",
    "print(\"Best accuracy: \", study.best_value)"
   ]
  },
  {
   "cell_type": "code",
   "execution_count": null,
   "id": "OPnaEjsEC18M",
   "metadata": {
    "id": "OPnaEjsEC18M"
   },
   "outputs": [],
   "source": [
    "dropout_rate = 0.30540906788124\n",
    "lr = 0.002184369512"
   ]
  },
  {
   "cell_type": "code",
   "execution_count": null,
   "id": "WAB175bzDVZ5",
   "metadata": {
    "colab": {
     "base_uri": "https://localhost:8080/"
    },
    "executionInfo": {
     "elapsed": 2971017,
     "status": "ok",
     "timestamp": 1735909227667,
     "user": {
      "displayName": "Leonard Stuchilin",
      "userId": "12835425704178441738"
     },
     "user_tz": -120
    },
    "id": "WAB175bzDVZ5",
    "outputId": "71f6724a-199a-4c50-9595-491e18d0a3cd"
   },
   "outputs": [
    {
     "name": "stdout",
     "output_type": "stream",
     "text": [
      "Epoch 1/10, Loss: 0.8978\n",
      "Validation Accuracy: 0.8318\n",
      "Epoch 2/10, Loss: 0.5731\n",
      "Validation Accuracy: 0.8598\n",
      "Epoch 3/10, Loss: 0.5038\n",
      "Validation Accuracy: 0.8747\n",
      "Epoch 4/10, Loss: 0.4621\n",
      "Validation Accuracy: 0.8716\n",
      "Epoch 5/10, Loss: 0.4274\n",
      "Validation Accuracy: 0.8730\n",
      "Epoch 6/10, Loss: 0.4021\n",
      "Validation Accuracy: 0.8778\n",
      "Epoch 7/10, Loss: 0.3829\n",
      "Validation Accuracy: 0.8838\n",
      "Epoch 8/10, Loss: 0.3667\n",
      "Validation Accuracy: 0.8779\n",
      "Epoch 9/10, Loss: 0.3504\n",
      "Validation Accuracy: 0.8811\n",
      "Epoch 10/10, Loss: 0.3365\n",
      "Validation Accuracy: 0.8827\n"
     ]
    }
   ],
   "source": [
    "# цикл обучения\n",
    "n_epochs = 10\n",
    "\n",
    "for epoch in range(n_epochs):\n",
    "    model.train()\n",
    "    running_loss = 0.0\n",
    "\n",
    "    for data, target in train_loader:\n",
    "        optimizer.zero_grad()\n",
    "        output = model(data)\n",
    "        loss = loss_function(output, target)\n",
    "        loss.backward()\n",
    "        optimizer.step()\n",
    "\n",
    "        running_loss += loss.item()\n",
    "\n",
    "    print(f'Epoch {epoch + 1}/{n_epochs}, Loss: {running_loss / len(train_loader):.4f}')\n",
    "\n",
    "    # Валидация\n",
    "    model.eval()\n",
    "    correct = 0\n",
    "\n",
    "    with torch.no_grad():\n",
    "        for data, target in val_loader:\n",
    "            output = model(data)\n",
    "            pred = output.argmax(dim=1)\n",
    "            correct += pred.eq(target).sum().item()\n",
    "\n",
    "    accuracy = correct / len(val_loader.dataset)\n",
    "    print(f'Validation Accuracy: {accuracy:.4f}')"
   ]
  },
  {
   "cell_type": "code",
   "execution_count": null,
   "id": "ChjKmD5BkJBc",
   "metadata": {
    "colab": {
     "base_uri": "https://localhost:8080/",
     "height": 1000
    },
    "executionInfo": {
     "elapsed": 810,
     "status": "error",
     "timestamp": 1735897865540,
     "user": {
      "displayName": "Leonard Stuchilin",
      "userId": "12835425704178441738"
     },
     "user_tz": -120
    },
    "id": "ChjKmD5BkJBc",
    "outputId": "99399006-009c-462b-d002-99101eb736cf"
   },
   "outputs": [
    {
     "name": "stderr",
     "output_type": "stream",
     "text": [
      "<ipython-input-83-b163e93553a2>:4: FutureWarning: You are using `torch.load` with `weights_only=False` (the current default value), which uses the default pickle module implicitly. It is possible to construct malicious pickle data which will execute arbitrary code during unpickling (See https://github.com/pytorch/pytorch/blob/main/SECURITY.md#untrusted-models for more details). In a future release, the default value for `weights_only` will be flipped to `True`. This limits the functions that could be executed during unpickling. Arbitrary objects will no longer be allowed to be loaded via this mode unless they are explicitly allowlisted by the user via `torch.serialization.add_safe_globals`. We recommend you start setting `weights_only=True` for any use case where you don't have full control of the loaded file. Please open an issue on GitHub for any issues related to this experimental feature.\n",
      "  model.load_state_dict(torch.load('/content/drive/MyDrive/Scientist/Advanced/practice-cnn/myapp/model_from_archive.ckpt'))# Замените на путь к вашей модели\n"
     ]
    },
    {
     "ename": "RuntimeError",
     "evalue": "Error(s) in loading state_dict for ImprovedCNNModel:\n\tMissing key(s) in state_dict: \"conv1.weight\", \"conv1.bias\", \"bn1.weight\", \"bn1.bias\", \"bn1.running_mean\", \"bn1.running_var\", \"conv2.weight\", \"conv2.bias\", \"bn2.weight\", \"bn2.bias\", \"bn2.running_mean\", \"bn2.running_var\", \"conv3.weight\", \"conv3.bias\", \"bn3.weight\", \"bn3.bias\", \"bn3.running_mean\", \"bn3.running_var\", \"fc1.weight\", \"fc1.bias\", \"fc2.weight\", \"fc2.bias\". \n\tUnexpected key(s) in state_dict: \"fc.0.weight\", \"fc.0.bias\", \"fc.3.weight\", \"fc.3.bias\", \"conv1.0.weight\", \"conv1.0.bias\", \"conv2.0.weight\", \"conv2.0.bias\". ",
     "output_type": "error",
     "traceback": [
      "\u001b[0;31m---------------------------------------------------------------------------\u001b[0m",
      "\u001b[0;31mRuntimeError\u001b[0m                              Traceback (most recent call last)",
      "\u001b[0;32m<ipython-input-83-b163e93553a2>\u001b[0m in \u001b[0;36m<cell line: 4>\u001b[0;34m()\u001b[0m\n\u001b[1;32m      2\u001b[0m \u001b[0mmodel\u001b[0m \u001b[0;34m=\u001b[0m \u001b[0mImprovedCNNModel\u001b[0m\u001b[0;34m(\u001b[0m\u001b[0;34m)\u001b[0m  \u001b[0;31m# Предполагается, что ваша модель уже определена\u001b[0m\u001b[0;34m\u001b[0m\u001b[0;34m\u001b[0m\u001b[0m\n\u001b[1;32m      3\u001b[0m \u001b[0;31m#model.load_state_dict(torch.load('/content/drive/MyDrive/Scientist/Advanced/torch_cnn/data/model_din.ckpt'))\u001b[0m\u001b[0;34m\u001b[0m\u001b[0;34m\u001b[0m\u001b[0m\n\u001b[0;32m----> 4\u001b[0;31m \u001b[0mmodel\u001b[0m\u001b[0;34m.\u001b[0m\u001b[0mload_state_dict\u001b[0m\u001b[0;34m(\u001b[0m\u001b[0mtorch\u001b[0m\u001b[0;34m.\u001b[0m\u001b[0mload\u001b[0m\u001b[0;34m(\u001b[0m\u001b[0;34m'/content/drive/MyDrive/Scientist/Advanced/practice-cnn/myapp/model_from_archive.ckpt'\u001b[0m\u001b[0;34m)\u001b[0m\u001b[0;34m)\u001b[0m\u001b[0;31m# Замените на путь к вашей модели\u001b[0m\u001b[0;34m\u001b[0m\u001b[0;34m\u001b[0m\u001b[0m\n\u001b[0m\u001b[1;32m      5\u001b[0m \u001b[0mmodel\u001b[0m\u001b[0;34m.\u001b[0m\u001b[0meval\u001b[0m\u001b[0;34m(\u001b[0m\u001b[0;34m)\u001b[0m\u001b[0;34m\u001b[0m\u001b[0;34m\u001b[0m\u001b[0m\n",
      "\u001b[0;32m/usr/local/lib/python3.10/dist-packages/torch/nn/modules/module.py\u001b[0m in \u001b[0;36mload_state_dict\u001b[0;34m(self, state_dict, strict, assign)\u001b[0m\n\u001b[1;32m   2582\u001b[0m \u001b[0;34m\u001b[0m\u001b[0m\n\u001b[1;32m   2583\u001b[0m         \u001b[0;32mif\u001b[0m \u001b[0mlen\u001b[0m\u001b[0;34m(\u001b[0m\u001b[0merror_msgs\u001b[0m\u001b[0;34m)\u001b[0m \u001b[0;34m>\u001b[0m \u001b[0;36m0\u001b[0m\u001b[0;34m:\u001b[0m\u001b[0;34m\u001b[0m\u001b[0;34m\u001b[0m\u001b[0m\n\u001b[0;32m-> 2584\u001b[0;31m             raise RuntimeError(\n\u001b[0m\u001b[1;32m   2585\u001b[0m                 \"Error(s) in loading state_dict for {}:\\n\\t{}\".format(\n\u001b[1;32m   2586\u001b[0m                     \u001b[0mself\u001b[0m\u001b[0;34m.\u001b[0m\u001b[0m__class__\u001b[0m\u001b[0;34m.\u001b[0m\u001b[0m__name__\u001b[0m\u001b[0;34m,\u001b[0m \u001b[0;34m\"\\n\\t\"\u001b[0m\u001b[0;34m.\u001b[0m\u001b[0mjoin\u001b[0m\u001b[0;34m(\u001b[0m\u001b[0merror_msgs\u001b[0m\u001b[0;34m)\u001b[0m\u001b[0;34m\u001b[0m\u001b[0;34m\u001b[0m\u001b[0m\n",
      "\u001b[0;31mRuntimeError\u001b[0m: Error(s) in loading state_dict for ImprovedCNNModel:\n\tMissing key(s) in state_dict: \"conv1.weight\", \"conv1.bias\", \"bn1.weight\", \"bn1.bias\", \"bn1.running_mean\", \"bn1.running_var\", \"conv2.weight\", \"conv2.bias\", \"bn2.weight\", \"bn2.bias\", \"bn2.running_mean\", \"bn2.running_var\", \"conv3.weight\", \"conv3.bias\", \"bn3.weight\", \"bn3.bias\", \"bn3.running_mean\", \"bn3.running_var\", \"fc1.weight\", \"fc1.bias\", \"fc2.weight\", \"fc2.bias\". \n\tUnexpected key(s) in state_dict: \"fc.0.weight\", \"fc.0.bias\", \"fc.3.weight\", \"fc.3.bias\", \"conv1.0.weight\", \"conv1.0.bias\", \"conv2.0.weight\", \"conv2.0.bias\". "
     ]
    }
   ],
   "source": [
    "# Загрузка предварительно обученной модели\n",
    "model = ImprovedCNNModel()  # Предполагается, что ваша модель уже определена\n",
    "#model.load_state_dict(torch.load('/content/drive/MyDrive/Scientist/Advanced/torch_cnn/data/model_din.ckpt'))\n",
    "model.load_state_dict(torch.load('/content/drive/MyDrive/Scientist/Advanced/practice-cnn/myapp/model_from_archive.ckpt'))# Замените на путь к вашей модели\n",
    "model.eval()"
   ]
  },
  {
   "cell_type": "code",
   "execution_count": null,
   "id": "J4cWrhK5mJia",
   "metadata": {
    "colab": {
     "base_uri": "https://localhost:8080/"
    },
    "executionInfo": {
     "elapsed": 19948,
     "status": "ok",
     "timestamp": 1735909417784,
     "user": {
      "displayName": "Leonard Stuchilin",
      "userId": "12835425704178441738"
     },
     "user_tz": -120
    },
    "id": "J4cWrhK5mJia",
    "outputId": "bc9f4e55-ee45-4d3a-907c-8524f8a7a17f"
   },
   "outputs": [
    {
     "name": "stdout",
     "output_type": "stream",
     "text": [
      "0\n",
      "Accuracy of class 0: 0.66\n",
      "1\n",
      "Accuracy of class 1: 0.82\n",
      "2\n",
      "Accuracy of class 2: 0.90\n",
      "3\n",
      "Accuracy of class 3: 0.98\n",
      "4\n",
      "Accuracy of class 4: 0.94\n",
      "5\n",
      "Accuracy of class 5: 0.89\n",
      "6\n",
      "Accuracy of class 6: 0.93\n",
      "7\n",
      "Accuracy of class 7: 0.99\n",
      "8\n",
      "Accuracy of class 8: 0.97\n",
      "9\n",
      "Accuracy of class 9: 0.91\n",
      "A\n",
      "Accuracy of class 10: 0.97\n",
      "B\n",
      "Accuracy of class 11: 0.96\n",
      "C\n",
      "Accuracy of class 12: 0.97\n",
      "D\n",
      "Accuracy of class 13: 0.91\n",
      "E\n",
      "Accuracy of class 14: 0.97\n",
      "F\n",
      "Accuracy of class 15: 0.50\n",
      "G\n",
      "Accuracy of class 16: 0.95\n",
      "H\n",
      "Accuracy of class 17: 0.97\n",
      "I\n",
      "Accuracy of class 18: 0.63\n",
      "J\n",
      "Accuracy of class 19: 0.94\n",
      "K\n",
      "Accuracy of class 20: 0.96\n",
      "L\n",
      "Accuracy of class 21: 0.37\n",
      "M\n",
      "Accuracy of class 22: 0.98\n",
      "N\n",
      "Accuracy of class 23: 0.97\n",
      "O\n",
      "Accuracy of class 24: 0.70\n",
      "P\n",
      "Accuracy of class 25: 0.95\n",
      "Q\n",
      "Accuracy of class 26: 0.94\n",
      "R\n",
      "Accuracy of class 27: 0.95\n",
      "S\n",
      "Accuracy of class 28: 0.95\n",
      "T\n",
      "Accuracy of class 29: 0.94\n",
      "U\n",
      "Accuracy of class 30: 0.95\n",
      "V\n",
      "Accuracy of class 31: 0.90\n",
      "W\n",
      "Accuracy of class 32: 0.99\n",
      "X\n",
      "Accuracy of class 33: 0.96\n",
      "Y\n",
      "Accuracy of class 34: 0.90\n",
      "Z\n",
      "Accuracy of class 35: 0.90\n",
      "a\n",
      "Accuracy of class 36: 0.92\n",
      "b\n",
      "Accuracy of class 37: 0.95\n",
      "d\n",
      "Accuracy of class 38: 0.96\n",
      "e\n",
      "Accuracy of class 39: 0.98\n",
      "f\n",
      "Accuracy of class 40: 0.75\n",
      "g\n",
      "Accuracy of class 41: 0.64\n",
      "h\n",
      "Accuracy of class 42: 0.94\n",
      "n\n",
      "Accuracy of class 43: 0.93\n",
      "q\n",
      "Accuracy of class 44: 0.49\n",
      "r\n",
      "Accuracy of class 45: 0.93\n",
      "t\n",
      "Accuracy of class 46: 0.91\n"
     ]
    }
   ],
   "source": [
    "\n",
    "# Инициализация переменных для хранения результатов\n",
    "class_correct = [0] * 47  # Для каждого из 47 классов\n",
    "class_total = [0] * 47\n",
    "\n",
    "# Оценка модели на тестовом наборе данных\n",
    "with torch.no_grad():\n",
    "    for data, target in val_loader:\n",
    "        output = model(data)  # Получение предсказаний от модели\n",
    "        _, predicted = torch.max(output, 1)  # Получение индексов классов с максимальным значением вероятности\n",
    "\n",
    "        # Подсчет правильных предсказаний для каждого класса\n",
    "        for i in range(len(target)):\n",
    "            label = target[i].item()  # Получение метки класса\n",
    "            class_correct[label] += (predicted[i] == label).item()  # Увеличение счетчика для правильного предсказания\n",
    "            class_total[label] += 1  # Увеличение общего количества примеров для данного класса\n",
    "\n",
    "# Вывод результатов по каждому классу\n",
    "for i in range(47):\n",
    "    if class_total[i] > 0:  # Избегаем деления на ноль\n",
    "        accuracy = class_correct[i] / class_total[i]\n",
    "        print(label_dict[i])\n",
    "        print(f'Accuracy of class {i}: {accuracy:.2f}')\n",
    "    else:\n",
    "        print(f'Class {i} has no samples in the test set.')"
   ]
  },
  {
   "cell_type": "code",
   "execution_count": null,
   "id": "Uq1Zl0BuQ432",
   "metadata": {
    "id": "Uq1Zl0BuQ432"
   },
   "outputs": [],
   "source": [
    "# Сохранение модели в формате .ckpt\n",
    "torch.save(model.state_dict(), '/content/drive/MyDrive/Scientist/Advanced/torch_cnn/data/model_opt.ckpt')"
   ]
  },
  {
   "cell_type": "code",
   "execution_count": null,
   "id": "WqNS56RgSrq6",
   "metadata": {
    "colab": {
     "base_uri": "https://localhost:8080/"
    },
    "executionInfo": {
     "elapsed": 411,
     "status": "ok",
     "timestamp": 1735909895714,
     "user": {
      "displayName": "Leonard Stuchilin",
      "userId": "12835425704178441738"
     },
     "user_tz": -120
    },
    "id": "WqNS56RgSrq6",
    "outputId": "2c491e5d-310b-444e-9dd2-a77e6e310a27"
   },
   "outputs": [
    {
     "name": "stdout",
     "output_type": "stream",
     "text": [
      "odict_keys(['conv1.0.weight', 'conv1.0.bias', 'conv2.0.weight', 'conv2.0.bias', 'fc.0.weight', 'fc.0.bias', 'fc.3.weight', 'fc.3.bias'])\n"
     ]
    },
    {
     "name": "stderr",
     "output_type": "stream",
     "text": [
      "<ipython-input-16-e6bd94ed5c61>:1: FutureWarning: You are using `torch.load` with `weights_only=False` (the current default value), which uses the default pickle module implicitly. It is possible to construct malicious pickle data which will execute arbitrary code during unpickling (See https://github.com/pytorch/pytorch/blob/main/SECURITY.md#untrusted-models for more details). In a future release, the default value for `weights_only` will be flipped to `True`. This limits the functions that could be executed during unpickling. Arbitrary objects will no longer be allowed to be loaded via this mode unless they are explicitly allowlisted by the user via `torch.serialization.add_safe_globals`. We recommend you start setting `weights_only=True` for any use case where you don't have full control of the loaded file. Please open an issue on GitHub for any issues related to this experimental feature.\n",
      "  checkpoint = torch.load('/content/drive/MyDrive/Scientist/Advanced/practice-cnn/myapp/model_from_archive.ckpt')\n"
     ]
    }
   ],
   "source": [
    "checkpoint = torch.load('/content/drive/MyDrive/Scientist/Advanced/practice-cnn/myapp/model_from_archive.ckpt')\n",
    "print(checkpoint.keys())  # Вывод ключей в контрольной точке"
   ]
  },
  {
   "cell_type": "code",
   "execution_count": 40,
   "id": "v3z7nXc8UELq",
   "metadata": {
    "colab": {
     "base_uri": "https://localhost:8080/"
    },
    "executionInfo": {
     "elapsed": 325,
     "status": "ok",
     "timestamp": 1735912020461,
     "user": {
      "displayName": "Leonard Stuchilin",
      "userId": "12835425704178441738"
     },
     "user_tz": -120
    },
    "id": "v3z7nXc8UELq",
    "outputId": "990816a0-2077-40aa-a8dd-8c968dd0d0e9"
   },
   "outputs": [
    {
     "name": "stdout",
     "output_type": "stream",
     "text": [
      "Output shape: torch.Size([1, 47])\n"
     ]
    },
    {
     "name": "stderr",
     "output_type": "stream",
     "text": [
      "<ipython-input-40-a1d4adf2897c>:27: FutureWarning: You are using `torch.load` with `weights_only=False` (the current default value), which uses the default pickle module implicitly. It is possible to construct malicious pickle data which will execute arbitrary code during unpickling (See https://github.com/pytorch/pytorch/blob/main/SECURITY.md#untrusted-models for more details). In a future release, the default value for `weights_only` will be flipped to `True`. This limits the functions that could be executed during unpickling. Arbitrary objects will no longer be allowed to be loaded via this mode unless they are explicitly allowlisted by the user via `torch.serialization.add_safe_globals`. We recommend you start setting `weights_only=True` for any use case where you don't have full control of the loaded file. Please open an issue on GitHub for any issues related to this experimental feature.\n",
      "  checkpoint = torch.load(checkpoint_path)\n"
     ]
    }
   ],
   "source": [
    "import torch\n",
    "import torch.nn as nn\n",
    "import torch.nn.functional as F\n",
    "\n",
    "# Определение модели (пример)\n",
    "class ImprovedCNNModel(nn.Module):\n",
    "    def __init__(self):\n",
    "        super(ImprovedCNNModel, self).__init__()\n",
    "        self.conv1 = nn.Conv2d(1, 32, kernel_size=3, padding=1)\n",
    "        self.bn1 = nn.BatchNorm2d(32)\n",
    "        self.pool = nn.MaxPool2d(kernel_size=2, stride=2)\n",
    "        self.conv2 = nn.Conv2d(32, 64, kernel_size=3, padding=1)\n",
    "        self.bn2 = nn.BatchNorm2d(64)\n",
    "        self.fc1 = nn.Linear(64 * 7 * 7, 128)  # Убедитесь в правильном размере\n",
    "        self.fc2 = nn.Linear(128, 47)  # Например, для 10 классов\n",
    "\n",
    "    def forward(self, x):\n",
    "        x = self.pool(F.relu(self.bn1(self.conv1(x))))\n",
    "        x = self.pool(F.relu(self.bn2(self.conv2(x))))\n",
    "        x = x.view(-1, 64 * 7 * 7)\n",
    "        x = F.relu(self.fc1(x))\n",
    "        x = self.fc2(x)\n",
    "        return x\n",
    "\n",
    "# Загрузка контрольной точки\n",
    "checkpoint_path = '/content/drive/MyDrive/Scientist/Advanced/practice-cnn/myapp/model_from_archive.ckpt'\n",
    "checkpoint = torch.load(checkpoint_path)\n",
    "\n",
    "# Создание экземпляра модели\n",
    "model = ImprovedCNNModel()\n",
    "\n",
    "# Загрузка параметров с использованием strict=False для игнорирования отсутствующих ключей\n",
    "try:\n",
    "    model.load_state_dict(checkpoint, strict=False)  # Загрузка без строгого соответствия ключей\n",
    "except RuntimeError as e:\n",
    "    print(\"Ошибка при загрузке state_dict:\", e)\n",
    "\n",
    "# Установка режима оценки\n",
    "model.eval()\n",
    "\n",
    "# Пример использования модели для предсказаний (замените на ваши данные)\n",
    "input_data = torch.randn(1, 1, 28, 28)   # Пример входного тензора\n",
    "output = model(input_data)\n",
    "\n",
    "print(\"Output shape:\", output.shape)"
   ]
  },
  {
   "cell_type": "code",
   "execution_count": 41,
   "id": "T3jzhE4xbcQp",
   "metadata": {
    "colab": {
     "base_uri": "https://localhost:8080/"
    },
    "executionInfo": {
     "elapsed": 996,
     "status": "ok",
     "timestamp": 1735912193932,
     "user": {
      "displayName": "Leonard Stuchilin",
      "userId": "12835425704178441738"
     },
     "user_tz": -120
    },
    "id": "T3jzhE4xbcQp",
    "outputId": "67c493c2-69a3-410b-b7e1-1a4e151ab474"
   },
   "outputs": [
    {
     "name": "stdout",
     "output_type": "stream",
     "text": [
      "Parameter name: conv1.weight, Parameter shape: torch.Size([32, 1, 3, 3])\n",
      "Parameter name: conv1.bias, Parameter shape: torch.Size([32])\n",
      "Parameter name: bn1.weight, Parameter shape: torch.Size([32])\n",
      "Parameter name: bn1.bias, Parameter shape: torch.Size([32])\n",
      "Parameter name: conv2.weight, Parameter shape: torch.Size([64, 32, 3, 3])\n",
      "Parameter name: conv2.bias, Parameter shape: torch.Size([64])\n",
      "Parameter name: bn2.weight, Parameter shape: torch.Size([64])\n",
      "Parameter name: bn2.bias, Parameter shape: torch.Size([64])\n",
      "Parameter name: fc1.weight, Parameter shape: torch.Size([128, 3136])\n",
      "Parameter name: fc1.bias, Parameter shape: torch.Size([128])\n",
      "Parameter name: fc2.weight, Parameter shape: torch.Size([47, 128])\n",
      "Parameter name: fc2.bias, Parameter shape: torch.Size([47])\n"
     ]
    }
   ],
   "source": [
    "# Получение всех параметров модели\n",
    "for name, param in model.named_parameters():\n",
    "    print(f\"Parameter name: {name}, Parameter shape: {param.shape}\")"
   ]
  },
  {
   "cell_type": "code",
   "execution_count": 42,
   "id": "dZbvMU5HbkL3",
   "metadata": {
    "colab": {
     "base_uri": "https://localhost:8080/"
    },
    "executionInfo": {
     "elapsed": 351,
     "status": "ok",
     "timestamp": 1735912248262,
     "user": {
      "displayName": "Leonard Stuchilin",
      "userId": "12835425704178441738"
     },
     "user_tz": -120
    },
    "id": "dZbvMU5HbkL3",
    "outputId": "01e11ccd-6811-4d7d-bd65-7b89c37f706c"
   },
   "outputs": [
    {
     "name": "stdout",
     "output_type": "stream",
     "text": [
      "ImprovedCNNModel(\n",
      "  (conv1): Conv2d(1, 32, kernel_size=(3, 3), stride=(1, 1), padding=(1, 1))\n",
      "  (bn1): BatchNorm2d(32, eps=1e-05, momentum=0.1, affine=True, track_running_stats=True)\n",
      "  (pool): MaxPool2d(kernel_size=2, stride=2, padding=0, dilation=1, ceil_mode=False)\n",
      "  (conv2): Conv2d(32, 64, kernel_size=(3, 3), stride=(1, 1), padding=(1, 1))\n",
      "  (bn2): BatchNorm2d(64, eps=1e-05, momentum=0.1, affine=True, track_running_stats=True)\n",
      "  (fc1): Linear(in_features=3136, out_features=128, bias=True)\n",
      "  (fc2): Linear(in_features=128, out_features=47, bias=True)\n",
      ")\n"
     ]
    }
   ],
   "source": [
    "print(model)"
   ]
  },
  {
   "cell_type": "code",
   "execution_count": 43,
   "id": "UIJlL9Auby3N",
   "metadata": {
    "colab": {
     "base_uri": "https://localhost:8080/"
    },
    "executionInfo": {
     "elapsed": 328,
     "status": "ok",
     "timestamp": 1735912289797,
     "user": {
      "displayName": "Leonard Stuchilin",
      "userId": "12835425704178441738"
     },
     "user_tz": -120
    },
    "id": "UIJlL9Auby3N",
    "outputId": "8d7ff23e-8936-47c5-a30c-9367382bba4d"
   },
   "outputs": [
    {
     "name": "stdout",
     "output_type": "stream",
     "text": [
      "Keys in checkpoint: odict_keys(['conv1.0.weight', 'conv1.0.bias', 'conv2.0.weight', 'conv2.0.bias', 'fc.0.weight', 'fc.0.bias', 'fc.3.weight', 'fc.3.bias'])\n"
     ]
    }
   ],
   "source": [
    "# Вывод ключей в контрольной точке\n",
    "print(\"Keys in checkpoint:\", checkpoint.keys())\n",
    "\n",
    "# Если есть дополнительные метаданные\n",
    "if 'optimizer_state_dict' in checkpoint:\n",
    "    print(\"Optimizer state dict keys:\", checkpoint['optimizer_state_dict'].keys())\n",
    "if 'epoch' in checkpoint:\n",
    "    print(\"Epoch:\", checkpoint['epoch'])\n",
    "if 'loss' in checkpoint:\n",
    "    print(\"Last recorded loss:\", checkpoint['loss'])"
   ]
  },
  {
   "cell_type": "code",
   "execution_count": 45,
   "id": "hUOsd3dPb5xe",
   "metadata": {
    "executionInfo": {
     "elapsed": 370,
     "status": "ok",
     "timestamp": 1735912338653,
     "user": {
      "displayName": "Leonard Stuchilin",
      "userId": "12835425704178441738"
     },
     "user_tz": -120
    },
    "id": "hUOsd3dPb5xe"
   },
   "outputs": [],
   "source": [
    "if 'train_metrics' in checkpoint:\n",
    "    print(\"Training metrics:\", checkpoint['train_metrics'])"
   ]
  },
  {
   "cell_type": "code",
   "execution_count": 46,
   "id": "JzkMInLCcE5u",
   "metadata": {
    "executionInfo": {
     "elapsed": 323,
     "status": "ok",
     "timestamp": 1735912366551,
     "user": {
      "displayName": "Leonard Stuchilin",
      "userId": "12835425704178441738"
     },
     "user_tz": -120
    },
    "id": "JzkMInLCcE5u"
   },
   "outputs": [],
   "source": [
    "checkpoint = torch.load(checkpoint_path, weights_only=True)"
   ]
  },
  {
   "cell_type": "code",
   "execution_count": 48,
   "id": "QAXCW2QbcKt9",
   "metadata": {
    "colab": {
     "base_uri": "https://localhost:8080/"
    },
    "executionInfo": {
     "elapsed": 332,
     "status": "ok",
     "timestamp": 1735912468647,
     "user": {
      "displayName": "Leonard Stuchilin",
      "userId": "12835425704178441738"
     },
     "user_tz": -120
    },
    "id": "QAXCW2QbcKt9",
    "outputId": "d9c26ddf-abce-47a6-d7bf-12175a6a7312"
   },
   "outputs": [
    {
     "name": "stdout",
     "output_type": "stream",
     "text": [
      "Model parameters:\n",
      "Parameter name: conv1.weight, Parameter shape: torch.Size([32, 1, 3, 3])\n",
      "Parameter name: conv1.bias, Parameter shape: torch.Size([32])\n",
      "Parameter name: bn1.weight, Parameter shape: torch.Size([32])\n",
      "Parameter name: bn1.bias, Parameter shape: torch.Size([32])\n",
      "Parameter name: conv2.weight, Parameter shape: torch.Size([64, 32, 3, 3])\n",
      "Parameter name: conv2.bias, Parameter shape: torch.Size([64])\n",
      "Parameter name: bn2.weight, Parameter shape: torch.Size([64])\n",
      "Parameter name: bn2.bias, Parameter shape: torch.Size([64])\n",
      "Parameter name: fc1.weight, Parameter shape: torch.Size([128, 3136])\n",
      "Parameter name: fc1.bias, Parameter shape: torch.Size([128])\n",
      "Parameter name: fc2.weight, Parameter shape: torch.Size([47, 128])\n",
      "Parameter name: fc2.bias, Parameter shape: torch.Size([47])\n",
      "Keys in checkpoint: odict_keys(['conv1.0.weight', 'conv1.0.bias', 'conv2.0.weight', 'conv2.0.bias', 'fc.0.weight', 'fc.0.bias', 'fc.3.weight', 'fc.3.bias'])\n",
      "Output shape: torch.Size([1, 47])\n",
      "ImprovedCNNModel(\n",
      "  (conv1): Conv2d(1, 32, kernel_size=(3, 3), stride=(1, 1), padding=(1, 1))\n",
      "  (bn1): BatchNorm2d(32, eps=1e-05, momentum=0.1, affine=True, track_running_stats=True)\n",
      "  (pool): MaxPool2d(kernel_size=2, stride=2, padding=0, dilation=1, ceil_mode=False)\n",
      "  (conv2): Conv2d(32, 64, kernel_size=(3, 3), stride=(1, 1), padding=(1, 1))\n",
      "  (bn2): BatchNorm2d(64, eps=1e-05, momentum=0.1, affine=True, track_running_stats=True)\n",
      "  (fc1): Linear(in_features=3136, out_features=128, bias=True)\n",
      "  (fc2): Linear(in_features=128, out_features=47, bias=True)\n",
      ")\n"
     ]
    },
    {
     "name": "stderr",
     "output_type": "stream",
     "text": [
      "<ipython-input-48-ffce7553f2ac>:27: FutureWarning: You are using `torch.load` with `weights_only=False` (the current default value), which uses the default pickle module implicitly. It is possible to construct malicious pickle data which will execute arbitrary code during unpickling (See https://github.com/pytorch/pytorch/blob/main/SECURITY.md#untrusted-models for more details). In a future release, the default value for `weights_only` will be flipped to `True`. This limits the functions that could be executed during unpickling. Arbitrary objects will no longer be allowed to be loaded via this mode unless they are explicitly allowlisted by the user via `torch.serialization.add_safe_globals`. We recommend you start setting `weights_only=True` for any use case where you don't have full control of the loaded file. Please open an issue on GitHub for any issues related to this experimental feature.\n",
      "  checkpoint = torch.load(checkpoint_path)\n"
     ]
    }
   ],
   "source": [
    "import torch\n",
    "import torch.nn as nn\n",
    "import torch.nn.functional as F\n",
    "\n",
    "# Определение модели (пример)\n",
    "class ImprovedCNNModel(nn.Module):\n",
    "    def __init__(self):\n",
    "        super(ImprovedCNNModel, self).__init__()\n",
    "        self.conv1 = nn.Conv2d(1, 32, kernel_size=3, padding=1)\n",
    "        self.bn1 = nn.BatchNorm2d(32)\n",
    "        self.pool = nn.MaxPool2d(kernel_size=2, stride=2)\n",
    "        self.conv2 = nn.Conv2d(32, 64, kernel_size=3, padding=1)\n",
    "        self.bn2 = nn.BatchNorm2d(64)\n",
    "        self.fc1 = nn.Linear(64 * 7 * 7, 128)  # Убедитесь в правильном размере\n",
    "        self.fc2 = nn.Linear(128, 47)  # Например, для 47 классов\n",
    "\n",
    "    def forward(self, x):\n",
    "        x = self.pool(F.relu(self.bn1(self.conv1(x))))\n",
    "        x = self.pool(F.relu(self.bn2(self.conv2(x))))\n",
    "        x = x.view(-1, 64 * 7 * 7)\n",
    "        x = F.relu(self.fc1(x))\n",
    "        x = self.fc2(x)\n",
    "        return x\n",
    "\n",
    "# Загрузка контрольной точки\n",
    "checkpoint_path = '/content/drive/MyDrive/Scientist/Advanced/practice-cnn/myapp/model_from_archive.ckpt'\n",
    "checkpoint = torch.load(checkpoint_path)\n",
    "\n",
    "# Создание экземпляра модели\n",
    "model = ImprovedCNNModel()\n",
    "\n",
    "# Загрузка параметров с использованием strict=False для игнорирования отсутствующих ключей\n",
    "try:\n",
    "    model.load_state_dict(checkpoint, strict=False)  # Загрузка без строгого соответствия ключей\n",
    "except RuntimeError as e:\n",
    "    print(\"Ошибка при загрузке state_dict:\", e)\n",
    "\n",
    "# Установка режима оценки\n",
    "model.eval()\n",
    "\n",
    "# Извлечение информации о параметрах модели\n",
    "print(\"Model parameters:\")\n",
    "for name, param in model.named_parameters():\n",
    "    print(f\"Parameter name: {name}, Parameter shape: {param.shape}\")\n",
    "\n",
    "# Изучение содержимого контрольной точки\n",
    "print(\"Keys in checkpoint:\", checkpoint.keys())\n",
    "if 'optimizer_state_dict' in checkpoint:\n",
    "    print(\"Optimizer state dict keys:\", checkpoint['optimizer_state_dict'].keys())\n",
    "if 'epoch' in checkpoint:\n",
    "    print(\"Epoch:\", checkpoint.get('epoch', 'Not available'))\n",
    "if 'loss' in checkpoint:\n",
    "    print(\"Last recorded loss:\", checkpoint.get('loss', 'Not available'))\n",
    "\n",
    "# Пример использования модели для предсказаний (замените на ваши данные)\n",
    "input_data = torch.randn(1, 1, 28, 28)   # Пример входного тензора\n",
    "output = model(input_data)\n",
    "\n",
    "print(\"Output shape:\", output.shape)\n",
    "\n",
    "print(model)"
   ]
  },
  {
   "cell_type": "code",
   "execution_count": 34,
   "id": "nOP7xdqvaNWC",
   "metadata": {
    "colab": {
     "base_uri": "https://localhost:8080/"
    },
    "executionInfo": {
     "elapsed": 18441,
     "status": "ok",
     "timestamp": 1735911881421,
     "user": {
      "displayName": "Leonard Stuchilin",
      "userId": "12835425704178441738"
     },
     "user_tz": -120
    },
    "id": "nOP7xdqvaNWC",
    "outputId": "a95e8235-2c4f-427c-e0da-40f4fa6483bf"
   },
   "outputs": [
    {
     "name": "stdout",
     "output_type": "stream",
     "text": [
      "0\n",
      "Accuracy of class 0: 0.00\n",
      "1\n",
      "Accuracy of class 1: 0.00\n",
      "2\n",
      "Accuracy of class 2: 0.00\n",
      "3\n",
      "Accuracy of class 3: 0.00\n",
      "4\n",
      "Accuracy of class 4: 0.00\n",
      "5\n",
      "Accuracy of class 5: 0.00\n",
      "6\n",
      "Accuracy of class 6: 0.00\n",
      "7\n",
      "Accuracy of class 7: 0.69\n",
      "8\n",
      "Accuracy of class 8: 0.00\n",
      "9\n",
      "Accuracy of class 9: 0.00\n",
      "A\n",
      "Accuracy of class 10: 0.00\n",
      "B\n",
      "Accuracy of class 11: 0.00\n",
      "C\n",
      "Accuracy of class 12: 0.01\n",
      "D\n",
      "Accuracy of class 13: 0.00\n",
      "E\n",
      "Accuracy of class 14: 0.00\n",
      "F\n",
      "Accuracy of class 15: 0.00\n",
      "G\n",
      "Accuracy of class 16: 0.00\n",
      "H\n",
      "Accuracy of class 17: 0.11\n",
      "I\n",
      "Accuracy of class 18: 0.00\n",
      "J\n",
      "Accuracy of class 19: 0.00\n",
      "K\n",
      "Accuracy of class 20: 0.00\n",
      "L\n",
      "Accuracy of class 21: 0.00\n",
      "M\n",
      "Accuracy of class 22: 0.00\n",
      "N\n",
      "Accuracy of class 23: 0.00\n",
      "O\n",
      "Accuracy of class 24: 0.00\n",
      "P\n",
      "Accuracy of class 25: 0.00\n",
      "Q\n",
      "Accuracy of class 26: 0.00\n",
      "R\n",
      "Accuracy of class 27: 0.00\n",
      "S\n",
      "Accuracy of class 28: 0.00\n",
      "T\n",
      "Accuracy of class 29: 0.66\n",
      "U\n",
      "Accuracy of class 30: 0.00\n",
      "V\n",
      "Accuracy of class 31: 0.00\n",
      "W\n",
      "Accuracy of class 32: 0.00\n",
      "X\n",
      "Accuracy of class 33: 0.01\n",
      "Y\n",
      "Accuracy of class 34: 0.01\n",
      "Z\n",
      "Accuracy of class 35: 0.00\n",
      "a\n",
      "Accuracy of class 36: 0.00\n",
      "b\n",
      "Accuracy of class 37: 0.00\n",
      "d\n",
      "Accuracy of class 38: 0.00\n",
      "e\n",
      "Accuracy of class 39: 0.00\n",
      "f\n",
      "Accuracy of class 40: 0.00\n",
      "g\n",
      "Accuracy of class 41: 0.00\n",
      "h\n",
      "Accuracy of class 42: 0.00\n",
      "n\n",
      "Accuracy of class 43: 0.00\n",
      "q\n",
      "Accuracy of class 44: 0.06\n",
      "r\n",
      "Accuracy of class 45: 0.00\n",
      "t\n",
      "Accuracy of class 46: 0.00\n"
     ]
    }
   ],
   "source": [
    "\n",
    "# Инициализация переменных для хранения результатов\n",
    "class_correct = [0] * 47  # Для каждого из 47 классов\n",
    "class_total = [0] * 47\n",
    "\n",
    "# Оценка модели на тестовом наборе данных\n",
    "with torch.no_grad():\n",
    "    for data, target in val_loader:\n",
    "        output = model(data)  # Получение предсказаний от модели\n",
    "        _, predicted = torch.max(output, 1)  # Получение индексов классов с максимальным значением вероятности\n",
    "\n",
    "        # Подсчет правильных предсказаний для каждого класса\n",
    "        for i in range(len(target)):\n",
    "            label = target[i].item()  # Получение метки класса\n",
    "            class_correct[label] += (predicted[i] == label).item()  # Увеличение счетчика для правильного предсказания\n",
    "            class_total[label] += 1  # Увеличение общего количества примеров для данного класса\n",
    "\n",
    "# Вывод результатов по каждому классу\n",
    "for i in range(47):\n",
    "    if class_total[i] > 0:  # Избегаем деления на ноль\n",
    "        accuracy = class_correct[i] / class_total[i]\n",
    "        print(label_dict[i])\n",
    "        print(f'Accuracy of class {i}: {accuracy:.2f}')\n",
    "    else:\n",
    "        print(f'Class {i} has no samples in the test set.')"
   ]
  },
  {
   "cell_type": "code",
   "execution_count": 49,
   "id": "Crt1Q2BueGTc",
   "metadata": {
    "executionInfo": {
     "elapsed": 859,
     "status": "ok",
     "timestamp": 1735912892508,
     "user": {
      "displayName": "Leonard Stuchilin",
      "userId": "12835425704178441738"
     },
     "user_tz": -120
    },
    "id": "Crt1Q2BueGTc"
   },
   "outputs": [],
   "source": [
    "# Определение модели\n",
    "class ImprovedCNNModel(nn.Module):\n",
    "    def __init__(self):\n",
    "        super(ImprovedCNNModel, self).__init__()\n",
    "        self.conv1 = nn.Conv2d(1, 32, kernel_size=3, padding=1)\n",
    "        self.bn1 = nn.BatchNorm2d(32)\n",
    "        self.pool = nn.MaxPool2d(kernel_size=2, stride=2)\n",
    "        self.conv2 = nn.Conv2d(32, 64, kernel_size=3, padding=1)\n",
    "        self.bn2 = nn.BatchNorm2d(64)\n",
    "        self.fc1 = nn.Linear(64 * 7 * 7, 128)  # Убедитесь в правильном размере\n",
    "        self.fc2 = nn.Linear(128, 47)  # Для 47 классов\n",
    "\n",
    "    def forward(self, x):\n",
    "        x = self.pool(F.relu(self.bn1(self.conv1(x))))\n",
    "        x = self.pool(F.relu(self.bn2(self.conv2(x))))\n",
    "        x = x.view(-1, 64 * 7 * 7)\n",
    "        x = F.relu(self.fc1(x))\n",
    "        x = self.fc2(x)\n",
    "        return x"
   ]
  },
  {
   "cell_type": "code",
   "execution_count": 50,
   "id": "KhbrJY2XeZn1",
   "metadata": {
    "colab": {
     "base_uri": "https://localhost:8080/"
    },
    "executionInfo": {
     "elapsed": 2359589,
     "status": "ok",
     "timestamp": 1735915332227,
     "user": {
      "displayName": "Leonard Stuchilin",
      "userId": "12835425704178441738"
     },
     "user_tz": -120
    },
    "id": "KhbrJY2XeZn1",
    "outputId": "79f5a5f0-d7d5-44f8-8ab5-9d2434f70f1e"
   },
   "outputs": [
    {
     "name": "stdout",
     "output_type": "stream",
     "text": [
      "Epoch 1/10, Loss: 0.6457\n",
      "Validation Accuracy: 0.8380\n",
      "Epoch 2/10, Loss: 0.4101\n",
      "Validation Accuracy: 0.8569\n",
      "Epoch 3/10, Loss: 0.3620\n",
      "Validation Accuracy: 0.8680\n",
      "Epoch 4/10, Loss: 0.3293\n",
      "Validation Accuracy: 0.8720\n",
      "Epoch 5/10, Loss: 0.3046\n",
      "Validation Accuracy: 0.8709\n",
      "Epoch 6/10, Loss: 0.2840\n",
      "Validation Accuracy: 0.8707\n",
      "Epoch 7/10, Loss: 0.2623\n",
      "Validation Accuracy: 0.8763\n",
      "Epoch 8/10, Loss: 0.2479\n",
      "Validation Accuracy: 0.8738\n",
      "Epoch 9/10, Loss: 0.2336\n",
      "Validation Accuracy: 0.8732\n",
      "Epoch 10/10, Loss: 0.2188\n",
      "Validation Accuracy: 0.8722\n"
     ]
    }
   ],
   "source": [
    "# Инициализация модели и оптимизатора\n",
    "model = ImprovedCNNModel()\n",
    "optimizer = optim.Adam(model.parameters(), lr=0.001)\n",
    "loss_function = nn.CrossEntropyLoss()\n",
    "\n",
    "# Обучение модели\n",
    "n_epochs = 10\n",
    "\n",
    "for epoch in range(n_epochs):\n",
    "    model.train()\n",
    "    running_loss = 0.0\n",
    "\n",
    "    for data, target in train_loader:\n",
    "        optimizer.zero_grad()\n",
    "        output = model(data)\n",
    "        loss = loss_function(output, target)\n",
    "        loss.backward()\n",
    "        optimizer.step()\n",
    "\n",
    "        running_loss += loss.item()\n",
    "\n",
    "    print(f'Epoch {epoch + 1}/{n_epochs}, Loss: {running_loss / len(train_loader):.4f}')\n",
    "\n",
    "    # Валидация модели после каждой эпохи\n",
    "    model.eval()\n",
    "    correct = 0\n",
    "\n",
    "    with torch.no_grad():\n",
    "        for data, target in val_loader:\n",
    "            output = model(data)\n",
    "            pred = output.argmax(dim=1)\n",
    "            correct += pred.eq(target).sum().item()\n",
    "\n",
    "    accuracy = correct / len(val_loader.dataset)\n",
    "    print(f'Validation Accuracy: {accuracy:.4f}')"
   ]
  },
  {
   "cell_type": "code",
   "execution_count": 51,
   "id": "U-U1BHdbemMC",
   "metadata": {
    "colab": {
     "base_uri": "https://localhost:8080/"
    },
    "executionInfo": {
     "elapsed": 17115,
     "status": "ok",
     "timestamp": 1735915380845,
     "user": {
      "displayName": "Leonard Stuchilin",
      "userId": "12835425704178441738"
     },
     "user_tz": -120
    },
    "id": "U-U1BHdbemMC",
    "outputId": "e8d61012-e57a-447b-e220-e854e68b4e14"
   },
   "outputs": [
    {
     "name": "stdout",
     "output_type": "stream",
     "text": [
      "0\n",
      "Accuracy of class 0: 0.84\n",
      "1\n",
      "Accuracy of class 1: 0.69\n",
      "2\n",
      "Accuracy of class 2: 0.86\n",
      "3\n",
      "Accuracy of class 3: 0.98\n",
      "4\n",
      "Accuracy of class 4: 0.91\n",
      "5\n",
      "Accuracy of class 5: 0.85\n",
      "6\n",
      "Accuracy of class 6: 0.95\n",
      "7\n",
      "Accuracy of class 7: 0.99\n",
      "8\n",
      "Accuracy of class 8: 0.93\n",
      "9\n",
      "Accuracy of class 9: 0.65\n",
      "A\n",
      "Accuracy of class 10: 0.91\n",
      "B\n",
      "Accuracy of class 11: 0.95\n",
      "C\n",
      "Accuracy of class 12: 0.96\n",
      "D\n",
      "Accuracy of class 13: 0.88\n",
      "E\n",
      "Accuracy of class 14: 0.96\n",
      "F\n",
      "Accuracy of class 15: 0.55\n",
      "G\n",
      "Accuracy of class 16: 0.95\n",
      "H\n",
      "Accuracy of class 17: 0.91\n",
      "I\n",
      "Accuracy of class 18: 0.54\n",
      "J\n",
      "Accuracy of class 19: 0.94\n",
      "K\n",
      "Accuracy of class 20: 0.97\n",
      "L\n",
      "Accuracy of class 21: 0.57\n",
      "M\n",
      "Accuracy of class 22: 0.97\n",
      "N\n",
      "Accuracy of class 23: 0.96\n",
      "O\n",
      "Accuracy of class 24: 0.53\n",
      "P\n",
      "Accuracy of class 25: 0.97\n",
      "Q\n",
      "Accuracy of class 26: 0.90\n",
      "R\n",
      "Accuracy of class 27: 0.98\n",
      "S\n",
      "Accuracy of class 28: 0.95\n",
      "T\n",
      "Accuracy of class 29: 0.87\n",
      "U\n",
      "Accuracy of class 30: 0.91\n",
      "V\n",
      "Accuracy of class 31: 0.93\n",
      "W\n",
      "Accuracy of class 32: 0.98\n",
      "X\n",
      "Accuracy of class 33: 0.94\n",
      "Y\n",
      "Accuracy of class 34: 0.93\n",
      "Z\n",
      "Accuracy of class 35: 0.94\n",
      "a\n",
      "Accuracy of class 36: 0.88\n",
      "b\n",
      "Accuracy of class 37: 0.90\n",
      "d\n",
      "Accuracy of class 38: 0.96\n",
      "e\n",
      "Accuracy of class 39: 0.95\n",
      "f\n",
      "Accuracy of class 40: 0.73\n",
      "g\n",
      "Accuracy of class 41: 0.66\n",
      "h\n",
      "Accuracy of class 42: 0.95\n",
      "n\n",
      "Accuracy of class 43: 0.92\n",
      "q\n",
      "Accuracy of class 44: 0.69\n",
      "r\n",
      "Accuracy of class 45: 0.95\n",
      "t\n",
      "Accuracy of class 46: 0.91\n"
     ]
    }
   ],
   "source": [
    "\n",
    "# Инициализация переменных для хранения результатов\n",
    "class_correct = [0] * 47  # Для каждого из 47 классов\n",
    "class_total = [0] * 47\n",
    "\n",
    "# Оценка модели на тестовом наборе данных\n",
    "with torch.no_grad():\n",
    "    for data, target in val_loader:\n",
    "        output = model(data)  # Получение предсказаний от модели\n",
    "        _, predicted = torch.max(output, 1)  # Получение индексов классов с максимальным значением вероятности\n",
    "\n",
    "        # Подсчет правильных предсказаний для каждого класса\n",
    "        for i in range(len(target)):\n",
    "            label = target[i].item()  # Получение метки класса\n",
    "            class_correct[label] += (predicted[i] == label).item()  # Увеличение счетчика для правильного предсказания\n",
    "            class_total[label] += 1  # Увеличение общего количества примеров для данного класса\n",
    "\n",
    "# Вывод результатов по каждому классу\n",
    "for i in range(47):\n",
    "    if class_total[i] > 0:  # Избегаем деления на ноль\n",
    "        accuracy = class_correct[i] / class_total[i]\n",
    "        print(label_dict[i])\n",
    "        print(f'Accuracy of class {i}: {accuracy:.2f}')\n",
    "    else:\n",
    "        print(f'Class {i} has no samples in the test set.')"
   ]
  },
  {
   "cell_type": "code",
   "execution_count": null,
   "id": "7857c1f6",
   "metadata": {},
   "outputs": [],
   "source": [
    "# Вывод результатов по каждому классу с accuracy < 0.87\n",
    "print(\"Classes with accuracy < 0.87:\")\n",
    "for i in range(47):\n",
    "    if class_total[i] > 0:  # Избегаем деления на ноль\n",
    "        accuracy = class_correct[i] / class_total[i]\n",
    "        if accuracy < 0.87:  # Проверяем условие на точность\n",
    "            print(label_dict[i])  # Выводим метку класса\n",
    "            print(f'Accuracy of class {i}: {accuracy:.2f}')\n",
    "    else:\n",
    "        print(f'Class {i} has no samples in the test set.')"
   ]
  }
 ],
 "metadata": {
  "colab": {
   "provenance": [
    {
     "file_id": "1HNAhdf7YfRQIyPFcaLAN4L6rSVwzK1AK",
     "timestamp": 1735884325730
    }
   ]
  },
  "kernelspec": {
   "display_name": "Python 3",
   "name": "python3"
  },
  "language_info": {
   "codemirror_mode": {
    "name": "ipython",
    "version": 3
   },
   "file_extension": ".py",
   "mimetype": "text/x-python",
   "name": "python",
   "nbconvert_exporter": "python",
   "pygments_lexer": "ipython3",
   "version": "3.11.11"
  }
 },
 "nbformat": 4,
 "nbformat_minor": 5
}
