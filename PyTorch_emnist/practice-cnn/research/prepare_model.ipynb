{
 "cells": [
  {
   "cell_type": "markdown",
   "id": "003d3879",
   "metadata": {},
   "source": [
    "# Подготовка модели распознавания рукописных букв и цифр:\n",
    "\n",
    "\n",
    "Применение ротации и отражения к данным.\n",
    "\n",
    "Обучение модели PyTorch.\n",
    "\n",
    "Итоги и выводы."
   ]
  },
  {
   "cell_type": "markdown",
   "id": "f919cb9f",
   "metadata": {},
   "source": [
    "# Библиотеки"
   ]
  },
  {
   "cell_type": "code",
   "execution_count": 1,
   "id": "2d826ec1",
   "metadata": {},
   "outputs": [],
   "source": [
    "import os\n",
    "import torch\n",
    "import torchvision\n",
    "from torchvision.datasets import EMNIST\n",
    "from torchvision import transforms\n",
    "from torchvision.transforms import ToTensor, Compose, Resize, Normalize\n",
    "import matplotlib.pyplot as plt\n",
    "import numpy as np\n",
    "from torch import nn\n",
    "from torch.utils.data import DataLoader\n",
    "import torch.nn.functional as F\n",
    "import torch.optim as optim\n",
    "from torch.optim.lr_scheduler import StepLR"
   ]
  },
  {
   "cell_type": "markdown",
   "id": "c84ac4f0",
   "metadata": {},
   "source": [
    "# Получение, трансформация, нормализация и контроль данных"
   ]
  },
  {
   "cell_type": "code",
   "execution_count": 2,
   "id": "c9d6caec",
   "metadata": {},
   "outputs": [],
   "source": [
    "# Определение трансформаций для нормализации данных\n",
    "transform = transforms.Compose([\n",
    "    transforms.ToTensor(),\n",
    "    transforms.Normalize((0.1307,), (0.3081,))  # Нормализация по среднему и стандартному отклонению\n",
    "])"
   ]
  },
  {
   "cell_type": "code",
   "execution_count": 3,
   "id": "3c285ca5",
   "metadata": {},
   "outputs": [],
   "source": [
    "# !!! Данная функция не применяется для обработки данных\n",
    "\n",
    "'''Для обработки изображений х EMNIST с использованием методов Eroding, Dilating и Smoothing Images, \n",
    " создадим функцию, для предобработки перед передачей изображений в модель'''\n",
    "\n",
    "\n",
    "def preprocess_image(img):\n",
    "    # Преобразуем изображение PIL в массив NumPy\n",
    "    img_np = np.array(img)\n",
    "\n",
    "    # Применяем сглаживание (Gaussian Blur)\n",
    "    img_blurred = cv2.GaussianBlur(img_np, (5, 5), 0)\n",
    "\n",
    "    # Применяем эрозию\n",
    "    kernel = np.ones((3, 3), np.uint8)\n",
    "    img_eroded = cv2.erode(img_blurred, kernel, iterations=1)\n",
    "\n",
    "    # Применяем дилатацию\n",
    "    img_dilated = cv2.dilate(img_eroded, kernel, iterations=1)\n",
    "\n",
    "    # Преобразуем обратно в PIL\n",
    "    img_processed = Image.fromarray(img_dilated)\n",
    "\n",
    "    return img_processed"
   ]
  },
  {
   "cell_type": "code",
   "execution_count": 4,
   "id": "128421ce",
   "metadata": {},
   "outputs": [
    {
     "name": "stdout",
     "output_type": "stream",
     "text": [
      "Downloading https://biometrics.nist.gov/cs_links/EMNIST/gzip.zip to data/EMNIST/raw/gzip.zip\n"
     ]
    },
    {
     "name": "stderr",
     "output_type": "stream",
     "text": [
      "100%|██████████| 562M/562M [10:47<00:00, 868kB/s]  \n"
     ]
    },
    {
     "name": "stdout",
     "output_type": "stream",
     "text": [
      "Extracting data/EMNIST/raw/gzip.zip to data/EMNIST/raw\n"
     ]
    }
   ],
   "source": [
    "# Загрузка обучающего набора данных с трансформациями\n",
    "train_data = EMNIST('data/', 'balanced', train=True, download=True,\n",
    "                transform=torchvision.transforms.Compose([ \n",
    "                    # Применяем обработку изображения\n",
    "                    #preprocess_image,\n",
    "                    # Поворот и отражение\n",
    "                    lambda img: torchvision.transforms.functional.rotate(img, -90),\n",
    "                    lambda img: torchvision.transforms.functional.hflip(img),\n",
    "                    transform # трансформируем и нормализуем\n",
    "                ]))"
   ]
  },
  {
   "cell_type": "code",
   "execution_count": 5,
   "id": "741504e0",
   "metadata": {},
   "outputs": [],
   "source": [
    "# Загрузка тестового набора данных с трансформациями\n",
    "test_data = EMNIST('data/', 'balanced', train=False,\n",
    "                transform=torchvision.transforms.Compose([\n",
    "                    # Применяем обработку изображения\n",
    "                    #preprocess_image,\n",
    "                    # Поворот и отражение\n",
    "                    lambda img: torchvision.transforms.functional.rotate(img, -90),\n",
    "                    lambda img: torchvision.transforms.functional.hflip(img),\n",
    "                    transform # трансформируем и нормализуем\n",
    "                ]))"
   ]
  },
  {
   "cell_type": "code",
   "execution_count": 6,
   "id": "1864e3f0",
   "metadata": {},
   "outputs": [],
   "source": [
    "# получение маппинга\n",
    "with open('data/EMNIST/raw/emnist-balanced-mapping.txt', 'r') as f:\n",
    "    mapping = f.readlines()\n",
    "\n",
    "#mapping"
   ]
  },
  {
   "cell_type": "code",
   "execution_count": 7,
   "id": "092862d6",
   "metadata": {},
   "outputs": [],
   "source": [
    "# Создаем словарь соответствий\n",
    "label_dict = {}\n",
    "for entry in mapping:\n",
    "    label, ascii_code = map(int, entry.split())\n",
    "    label_dict[label] = chr(ascii_code)"
   ]
  },
  {
   "cell_type": "code",
   "execution_count": 8,
   "id": "357c70cd",
   "metadata": {},
   "outputs": [
    {
     "name": "stdout",
     "output_type": "stream",
     "text": [
      "Количество тренировочных семплов для каждого символа:\n"
     ]
    }
   ],
   "source": [
    "# Подсчитываем количество тренировочных семплов для каждого лейбла\n",
    "label_counts = np.bincount(train_data.targets)\n",
    "\n",
    "# Выводим символы и количество семплов\n",
    "print(\"Количество тренировочных семплов для каждого символа:\")\n",
    "for label, count in enumerate(label_counts):\n",
    "    if count > 0:  # Печатаем только те лейблы, которые встречаются в выборке\n",
    "        symbol = label_dict.get(label, '?')  # Получаем символ\n",
    "        #print(f'Символ: {symbol}, Лейбл: {label}, Количество: {count}')"
   ]
  },
  {
   "cell_type": "code",
   "execution_count": 9,
   "id": "18534804",
   "metadata": {},
   "outputs": [
    {
     "data": {
      "image/png": "[encoded data removed]",
      "text/plain": [
       "<Figure size 2000x500 with 10 Axes>"
      ]
     },
     "metadata": {},
     "output_type": "display_data"
    }
   ],
   "source": [
    "# Проверяем корректность изображений\n",
    "fig, axs = plt.subplots(1, 10, figsize=(20, 5))\n",
    "for i in range(10):\n",
    "    random_index = np.random.randint(0, len(train_data))\n",
    "    #print('Random index:', random_index)\n",
    "    image, label = train_data[random_index]\n",
    "\n",
    "    # Преобразование изображения в NumPy массив для корректного отображения\n",
    "    image_np = image.numpy()  # Прямое преобразование в NumPy массив\n",
    "\n",
    "    # Убираем размерность канала (если она есть)\n",
    "    if image_np.shape[0] == 1:  # Если канал один (черно-белое изображение)\n",
    "        image_np = image_np.squeeze(0)  # Убираем размерность канала\n",
    "\n",
    "    # Отображаем изображение\n",
    "    axs[i].imshow(image_np, cmap='gray')\n",
    "    axs[i].set_title(label_dict[label])  # Используем словарь для отображения метки\n",
    "    axs[i].axis('off')\n",
    "\n",
    "plt.show()\n"
   ]
  },
  {
   "cell_type": "markdown",
   "id": "62437173",
   "metadata": {},
   "source": [
    "# Моделирование\n",
    "\n",
    "Сверточная нейронная сеть (CNN)"
   ]
  },
  {
   "cell_type": "code",
   "execution_count": 10,
   "id": "872e7edd",
   "metadata": {},
   "outputs": [],
   "source": [
    "# Очищаем состояние для последующей модели\n",
    "def clear_training_state(model, optimizer):\n",
    "    # Удаляем все параметры и градиенты\n",
    "    model.apply(lambda m: m.reset_parameters() if hasattr(m, 'reset_parameters') else None)\n",
    "    optimizer.state.clear()  # Очищаем состояние оптимизатора\n",
    "    optimizer.param_groups.clear()  # Очищаем группы параметров\n",
    "\n",
    "# Используем функцию для очистки состояния\n",
    "#clear_training_state(model, optimizer)"
   ]
  },
  {
   "cell_type": "code",
   "execution_count": 11,
   "id": "22cc34fa",
   "metadata": {},
   "outputs": [],
   "source": [
    "# Создание загрузчиков данных\n",
    "train_loader = DataLoader(train_data, batch_size=64, shuffle=True)\n",
    "val_loader = DataLoader(test_data, batch_size=64, shuffle=False)"
   ]
  },
  {
   "cell_type": "code",
   "execution_count": 12,
   "id": "c9310dd0",
   "metadata": {},
   "outputs": [],
   "source": [
    "class BigCNNModel(nn.Module):\n",
    "    def __init__(self):\n",
    "        super(BigCNNModel, self).__init__()\n",
    "        # Первый свертка + активация + подвыборка\n",
    "        self.conv1 = nn.Conv2d(1, 32, kernel_size=3, padding=1)  # 32 фильтра\n",
    "        self.bn1 = nn.BatchNorm2d(32)  # Нормализация\n",
    "        self.pool = nn.MaxPool2d(kernel_size=2, stride=2)  # Подвыборка\n",
    "        # Второй свертка + активация + подвыборка\n",
    "        self.conv2 = nn.Conv2d(32, 64, kernel_size=3, padding=1)  # 64 фильтра\n",
    "        self.bn2 = nn.BatchNorm2d(64)  # Нормализация\n",
    "        # Третий свертка\n",
    "        self.conv3 = nn.Conv2d(64, 128, kernel_size=3, padding=1)  # 128 фильтров\n",
    "        self.bn3 = nn.BatchNorm2d(128)  # Нормализация\n",
    "        # Полносвязные слои\n",
    "        self.fc1 = nn.Linear(128 * 3 * 3, 256)  # Измените размер в зависимости от входного размера\n",
    "        self.fc2 = nn.Linear(256, 47)  # Выходной слой для 47 классов\n",
    "        self.dropout = nn.Dropout(0.5)  # Дропаут для регуляризации\n",
    "\n",
    "    def forward(self, x):\n",
    "        x = self.pool(F.relu(self.bn1(self.conv1(x))))  # Свертка 1\n",
    "        x = self.pool(F.relu(self.bn2(self.conv2(x))))  # Свертка 2\n",
    "        x = self.pool(F.relu(self.bn3(self.conv3(x))))  # Свертка 3\n",
    "        x = x.view(-1, 128 * 3 * 3)  # Преобразование в вектор для полносвязного слоя\n",
    "        x = F.relu(self.fc1(x))\n",
    "        x = self.dropout(x)  # Применение дропаута\n",
    "        x = self.fc2(x)\n",
    "        return x"
   ]
  },
  {
   "cell_type": "code",
   "execution_count": 13,
   "id": "cea2b8b9",
   "metadata": {},
   "outputs": [],
   "source": [
    "# Инициализация модели\n",
    "model_cnn_3 = BigCNNModel()\n",
    "\n",
    "# Оптимизатор и функция потерь\n",
    "optimizer = optim.Adam(model_cnn_3.parameters(), lr=0.001)  # Используем Adam с малой скоростью обучения\n",
    "loss_function = nn.CrossEntropyLoss()  # Функция потерь для многоклассовой классификации"
   ]
  },
  {
   "cell_type": "code",
   "execution_count": 14,
   "id": "fb71bb02",
   "metadata": {},
   "outputs": [
    {
     "name": "stdout",
     "output_type": "stream",
     "text": [
      "Epoch 1/10, Loss: 0.8245\n",
      "Validation Accuracy: 0.8579\n",
      "Epoch 2/10, Loss: 0.5041\n",
      "Validation Accuracy: 0.8740\n",
      "Epoch 3/10, Loss: 0.4441\n",
      "Validation Accuracy: 0.8760\n",
      "Epoch 4/10, Loss: 0.4085\n",
      "Validation Accuracy: 0.8796\n",
      "Epoch 5/10, Loss: 0.3803\n",
      "Validation Accuracy: 0.8823\n",
      "Epoch 6/10, Loss: 0.3606\n",
      "Validation Accuracy: 0.8835\n",
      "Epoch 7/10, Loss: 0.3419\n",
      "Validation Accuracy: 0.8829\n",
      "Epoch 8/10, Loss: 0.3240\n",
      "Validation Accuracy: 0.8859\n",
      "Epoch 9/10, Loss: 0.3085\n",
      "Validation Accuracy: 0.8887\n",
      "Epoch 10/10, Loss: 0.2981\n",
      "Validation Accuracy: 0.8899\n"
     ]
    }
   ],
   "source": [
    "n_epochs = 10\n",
    "\n",
    "for epoch in range(n_epochs):\n",
    "    model_cnn_3.train()  # Устанавливаем режим обучения\n",
    "    running_loss = 0.0\n",
    "\n",
    "    for data, target in train_loader:\n",
    "        optimizer.zero_grad()  # Обнуляем градиенты\n",
    "        output = model_cnn_3(data)  # Прямой проход через модель\n",
    "        loss = loss_function(output, target)  # Вычисление потерь\n",
    "        loss.backward()  # Обратный проход (вычисление градиентов)\n",
    "        optimizer.step()  # Обновление параметров\n",
    "\n",
    "        running_loss += loss.item()\n",
    "\n",
    "    print(f'Epoch {epoch + 1}/{n_epochs}, Loss: {running_loss / len(train_loader):.4f}')\n",
    "\n",
    "    # Валидация модели после каждой эпохи\n",
    "    model_cnn_3.eval()\n",
    "    correct = 0\n",
    "\n",
    "    with torch.no_grad():\n",
    "        for data, target in val_loader:\n",
    "            output = model_cnn_3(data)\n",
    "            pred = output.argmax(dim=1)\n",
    "            correct += pred.eq(target).sum().item()\n",
    "\n",
    "    accuracy = correct / len(val_loader.dataset)\n",
    "    print(f'Validation Accuracy: {accuracy:.4f}')"
   ]
  },
  {
   "cell_type": "code",
   "execution_count": 15,
   "id": "9f91334b",
   "metadata": {},
   "outputs": [],
   "source": [
    "# Сохранение модели в формате .ckpt\n",
    "torch.save(model_cnn_3.state_dict(), 'myapp/model.ckpt') "
   ]
  },
  {
   "cell_type": "code",
   "execution_count": 16,
   "id": "c742bea4",
   "metadata": {},
   "outputs": [],
   "source": [
    "def predict(image):\n",
    "    # Применяем преобразования к изображению, если они требуются\n",
    "    # image = transform(input_image)  # Примените необходимые преобразования\n",
    "    # Убедитесь, что изображение имеет форму (1, 1, H, W) для модели\n",
    "    if image.dim() == 2:  # Если изображение 2D (H, W)\n",
    "        image = image.unsqueeze(0)  # Добавляем размер канала\n",
    "    image = image.unsqueeze(0)  # Добавляем размер батча\n",
    "\n",
    "    #print('image shape:', image.shape)\n",
    "\n",
    "    with torch.no_grad():  # Отключаем градиенты для повышения производительности\n",
    "        output = model_cnn_3(image)  # Получаем выход модели\n",
    "        _, predicted_class = torch.max(output.data, 1)  # Находим класс с максимальной вероятностью\n",
    "        predicted_label = predicted_class.item()  # Получаем метку класса как целое число\n",
    "        #print('predicted_label:', predicted_label)\n",
    "\n",
    "        pred = label_dict[predicted_label]  # Получаем предсказанную метку\n",
    "        #print('predicted symbol:', pred)\n",
    "\n",
    "    return pred"
   ]
  },
  {
   "cell_type": "code",
   "execution_count": 17,
   "id": "f190b905",
   "metadata": {},
   "outputs": [
    {
     "name": "stderr",
     "output_type": "stream",
     "text": [
      "[W102 16:16:30.558864315 NNPACK.cpp:61] Could not initialize NNPACK! Reason: Unsupported hardware.\n"
     ]
    },
    {
     "data": {
      "image/png": "[encoded data removed]",
      "text/plain": [
       "<Figure size 2000x500 with 10 Axes>"
      ]
     },
     "metadata": {},
     "output_type": "display_data"
    }
   ],
   "source": [
    "# Проверяем предсказания\n",
    "fig, axs = plt.subplots(1, 10, figsize=(20, 5))\n",
    "for i in range(10):\n",
    "    random_index = np.random.randint(0, len(train_data))\n",
    "    #print('Random index:', random_index)\n",
    "    image, label = train_data[random_index]\n",
    "\n",
    "    # Преобразование изображения в NumPy массив для корректного отображения\n",
    "    image_np = image.squeeze(0).numpy()  # Убираем размер канала и преобразуем в NumPy массив\n",
    "\n",
    "    pred = predict(image)  # Предсказание для изображения\n",
    "\n",
    "    # Отображаем изображение\n",
    "    axs[i].imshow(image_np, cmap='gray')  # Используем cmap='gray' для черно-белых изображений\n",
    "    # Добавляем отображение истинной метки и предсказанного значения\n",
    "    axs[i].set_title(f'True: {label_dict[label]}\\nPred: {pred}')\n",
    "    axs[i].axis('off')\n",
    "\n",
    "plt.show()\n"
   ]
  },
  {
   "cell_type": "markdown",
   "id": "7018851c",
   "metadata": {},
   "source": [
    "# Итоги зкспериментов и выводы:"
   ]
  },
  {
   "cell_type": "markdown",
   "id": "80c9ec3e",
   "metadata": {},
   "source": []
  },
  {
   "cell_type": "markdown",
   "id": "fc88dbeb",
   "metadata": {},
   "source": [
    "\n",
    "    Изображение загружается в оттенках серого.\n",
    "    Применяется гауссов фильтр для сглаживания.\n",
    "    Бинаризация выполняется с использованием порогового значения.\n",
    "    Эрозия применяется для удаления мелких шумов.\n",
    "    Дилатация восстанавливает целостность символов.\n",
    "\n",
    "Этот подход поможет улучшить качество входных данных для модели EMNIST и повысит точность распознавания рукописных символов.\n"
   ]
  }
 ],
 "metadata": {
  "kernelspec": {
   "display_name": "torch",
   "language": "python",
   "name": "python3"
  },
  "language_info": {
   "codemirror_mode": {
    "name": "ipython",
    "version": 3
   },
   "file_extension": ".py",
   "mimetype": "text/x-python",
   "name": "python",
   "nbconvert_exporter": "python",
   "pygments_lexer": "ipython3",
   "version": "3.11.11"
  }
 },
 "nbformat": 4,
 "nbformat_minor": 5
}
