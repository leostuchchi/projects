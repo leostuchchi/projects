{
 "cells": [
  {
   "cell_type": "markdown",
   "id": "003d3879",
   "metadata": {},
   "source": [
    "# Подготовка модели распознавания рукописных букв и цифр"
   ]
  },
  {
   "cell_type": "markdown",
   "id": "f919cb9f",
   "metadata": {},
   "source": [
    "## Библиотеки"
   ]
  },
  {
   "cell_type": "code",
   "execution_count": 1,
   "id": "2d826ec1",
   "metadata": {},
   "outputs": [],
   "source": [
    "import os\n",
    "import torch\n",
    "import torchvision\n",
    "from torchvision.datasets import EMNIST\n",
    "from torchvision import transforms\n",
    "from torchvision.transforms import ToTensor, Compose, Resize, Normalize\n",
    "import matplotlib.pyplot as plt\n",
    "import numpy as np\n",
    "from torch import nn\n",
    "from torch.utils.data import DataLoader\n",
    "import torch.nn.functional as F"
   ]
  },
  {
   "cell_type": "markdown",
   "id": "58262f99",
   "metadata": {},
   "source": [
    "## Просмотр данных и создание словаря соответствий"
   ]
  },
  {
   "cell_type": "markdown",
   "id": "445dd6c6",
   "metadata": {},
   "source": [
    "сразу при загрузке повернем и отразим данные\n",
    "\n",
    "Функция: torchvision.transforms.functional.hflip(img)\n",
    "\n",
    "    Параметры:\n",
    "        img: Изображение, которое нужно отразить. Это может быть объект типа PIL Image или тензор. Если это тензор, он должен быть в формате [...,H,W][...,H,W], где ...... может иметь произвольное количество ведущих размерностей.\n",
    "    Возвращает:\n",
    "        Горизонтально отраженное изображение в том же формате, что и входное изображение (либо PIL Image, либо тензор).\n"
   ]
  },
  {
   "cell_type": "code",
   "execution_count": 2,
   "id": "17fa0c85",
   "metadata": {},
   "outputs": [
    {
     "name": "stdout",
     "output_type": "stream",
     "text": [
      "Размер dataset: 112800\n",
      "Размер обучающего набора: 112800\n",
      "Размер тестового набора: 18800\n"
     ]
    }
   ],
   "source": [
    "dataset = EMNIST('data/', 'balanced', download=False, \n",
    "                transform=torchvision.transforms.Compose([ # поворачиваем и отражаем изображения\n",
    "                    lambda img: torchvision.transforms.functional.rotate(img, -90),\n",
    "                    lambda img: torchvision.transforms.functional.hflip(img),\n",
    "                    torchvision.transforms.ToTensor()\n",
    "                ]))\n",
    "train_data = EMNIST('data/', 'balanced', train=True, download=True,\n",
    "                transform=torchvision.transforms.Compose([ # поворачиваем и отражаем изображения\n",
    "                    lambda img: torchvision.transforms.functional.rotate(img, -90),\n",
    "                    lambda img: torchvision.transforms.functional.hflip(img),\n",
    "                    torchvision.transforms.ToTensor()\n",
    "                ]) )\n",
    "test_data = EMNIST('data/', 'balanced', train=False,\n",
    "                transform=torchvision.transforms.Compose([ # поворачиваем и отражаем изображения\n",
    "                    lambda img: torchvision.transforms.functional.rotate(img, -90),\n",
    "                    lambda img: torchvision.transforms.functional.hflip(img),\n",
    "                    torchvision.transforms.ToTensor()\n",
    "                ]) )\n",
    "\n",
    "# Проверка размера загруженных данных\n",
    "print(f\"Размер dataset: {len(dataset)}\")\n",
    "print(f\"Размер обучающего набора: {len(train_data)}\")\n",
    "print(f\"Размер тестового набора: {len(test_data)}\")"
   ]
  },
  {
   "cell_type": "markdown",
   "id": "92fce065",
   "metadata": {},
   "source": [
    "Параметры загрузки\n",
    "\n",
    "    root: Путь к директории, в которую будут загружены данные. Если данные уже загружены, они будут загружены из этой директории.\n",
    "    split: Определяет, какую часть набора данных загружать. Возможные значения:\n",
    "        \"byclass\": Загружает данные по классам.\n",
    "        \"bymerge\": Объединяет классы.\n",
    "        \"balanced\": Сбалансированный набор.\n",
    "        \"letters\": Буквы.\n",
    "        \"digits\": Цифры.\n",
    "        \"mnist\": Стандартный MNIST.\n",
    "    train: Если True, загружается обучающий набор; если False, тестовый набор.\n",
    "    download: Если True, данные будут загружены из интернета, если они еще не существуют в указанной директории."
   ]
  },
  {
   "cell_type": "code",
   "execution_count": 3,
   "id": "963886cc",
   "metadata": {},
   "outputs": [
    {
     "data": {
      "text/plain": [
       "tensor([45, 36, 43,  ..., 23, 31,  8])"
      ]
     },
     "execution_count": 3,
     "metadata": {},
     "output_type": "execute_result"
    }
   ],
   "source": [
    "# метки train\n",
    "train_data.targets"
   ]
  },
  {
   "cell_type": "code",
   "execution_count": 4,
   "id": "60a99aa9",
   "metadata": {},
   "outputs": [
    {
     "name": "stdout",
     "output_type": "stream",
     "text": [
      "Первые 10 меток обучающего набора: [45, 36, 43, 15, 4, 42, 26, 32, 20, 1]\n",
      "Первые 10 меток тестового набора: [41, 39, 9, 26, 44, 33, 14, 11, 3, 12]\n"
     ]
    }
   ],
   "source": [
    "# Извлечение меток\n",
    "train_labels = [label for _, label in train_data]\n",
    "test_labels = [label for _, label in test_data]\n",
    "\n",
    "# Проверка первых 10 меток\n",
    "print(\"Первые 10 меток обучающего набора:\", train_labels[:10])\n",
    "print(\"Первые 10 меток тестового набора:\", test_labels[:10])"
   ]
  },
  {
   "cell_type": "code",
   "execution_count": 5,
   "id": "4a0b5cc1",
   "metadata": {},
   "outputs": [
    {
     "data": {
      "text/plain": [
       "['0 48\\n',\n",
       " '1 49\\n',\n",
       " '2 50\\n',\n",
       " '3 51\\n',\n",
       " '4 52\\n',\n",
       " '5 53\\n',\n",
       " '6 54\\n',\n",
       " '7 55\\n',\n",
       " '8 56\\n',\n",
       " '9 57\\n',\n",
       " '10 65\\n',\n",
       " '11 66\\n',\n",
       " '12 67\\n',\n",
       " '13 68\\n',\n",
       " '14 69\\n',\n",
       " '15 70\\n',\n",
       " '16 71\\n',\n",
       " '17 72\\n',\n",
       " '18 73\\n',\n",
       " '19 74\\n',\n",
       " '20 75\\n',\n",
       " '21 76\\n',\n",
       " '22 77\\n',\n",
       " '23 78\\n',\n",
       " '24 79\\n',\n",
       " '25 80\\n',\n",
       " '26 81\\n',\n",
       " '27 82\\n',\n",
       " '28 83\\n',\n",
       " '29 84\\n',\n",
       " '30 85\\n',\n",
       " '31 86\\n',\n",
       " '32 87\\n',\n",
       " '33 88\\n',\n",
       " '34 89\\n',\n",
       " '35 90\\n',\n",
       " '36 97\\n',\n",
       " '37 98\\n',\n",
       " '38 100\\n',\n",
       " '39 101\\n',\n",
       " '40 102\\n',\n",
       " '41 103\\n',\n",
       " '42 104\\n',\n",
       " '43 110\\n',\n",
       " '44 113\\n',\n",
       " '45 114\\n',\n",
       " '46 116\\n']"
      ]
     },
     "execution_count": 5,
     "metadata": {},
     "output_type": "execute_result"
    }
   ],
   "source": [
    "# получение маппинга\n",
    "with open('data/EMNIST/raw/emnist-balanced-mapping.txt', 'r') as f:\n",
    "    mapping = f.readlines()\n",
    "\n",
    "mapping"
   ]
  },
  {
   "cell_type": "code",
   "execution_count": 6,
   "id": "8ceed5f8",
   "metadata": {},
   "outputs": [],
   "source": [
    "# Создаем словарь соответствий\n",
    "label_dict = {}\n",
    "for entry in mapping:\n",
    "    label, ascii_code = map(int, entry.split())\n",
    "    label_dict[label] = chr(ascii_code)"
   ]
  },
  {
   "cell_type": "code",
   "execution_count": 7,
   "id": "31494229",
   "metadata": {},
   "outputs": [],
   "source": [
    "# Подсчитываем количество тренировочных семплов для каждого лейбла\n",
    "label_counts = np.bincount(train_data.targets)"
   ]
  },
  {
   "cell_type": "code",
   "execution_count": 8,
   "id": "8c2075ea",
   "metadata": {},
   "outputs": [
    {
     "name": "stdout",
     "output_type": "stream",
     "text": [
      "Количество тренировочных семплов для каждого символа:\n",
      "Символ: 0, Лейбл: 0, Количество: 2400\n",
      "Символ: 1, Лейбл: 1, Количество: 2400\n",
      "Символ: 2, Лейбл: 2, Количество: 2400\n",
      "Символ: 3, Лейбл: 3, Количество: 2400\n",
      "Символ: 4, Лейбл: 4, Количество: 2400\n",
      "Символ: 5, Лейбл: 5, Количество: 2400\n",
      "Символ: 6, Лейбл: 6, Количество: 2400\n",
      "Символ: 7, Лейбл: 7, Количество: 2400\n",
      "Символ: 8, Лейбл: 8, Количество: 2400\n",
      "Символ: 9, Лейбл: 9, Количество: 2400\n",
      "Символ: A, Лейбл: 10, Количество: 2400\n",
      "Символ: B, Лейбл: 11, Количество: 2400\n",
      "Символ: C, Лейбл: 12, Количество: 2400\n",
      "Символ: D, Лейбл: 13, Количество: 2400\n",
      "Символ: E, Лейбл: 14, Количество: 2400\n",
      "Символ: F, Лейбл: 15, Количество: 2400\n",
      "Символ: G, Лейбл: 16, Количество: 2400\n",
      "Символ: H, Лейбл: 17, Количество: 2400\n",
      "Символ: I, Лейбл: 18, Количество: 2400\n",
      "Символ: J, Лейбл: 19, Количество: 2400\n",
      "Символ: K, Лейбл: 20, Количество: 2400\n",
      "Символ: L, Лейбл: 21, Количество: 2400\n",
      "Символ: M, Лейбл: 22, Количество: 2400\n",
      "Символ: N, Лейбл: 23, Количество: 2400\n",
      "Символ: O, Лейбл: 24, Количество: 2400\n",
      "Символ: P, Лейбл: 25, Количество: 2400\n",
      "Символ: Q, Лейбл: 26, Количество: 2400\n",
      "Символ: R, Лейбл: 27, Количество: 2400\n",
      "Символ: S, Лейбл: 28, Количество: 2400\n",
      "Символ: T, Лейбл: 29, Количество: 2400\n",
      "Символ: U, Лейбл: 30, Количество: 2400\n",
      "Символ: V, Лейбл: 31, Количество: 2400\n",
      "Символ: W, Лейбл: 32, Количество: 2400\n",
      "Символ: X, Лейбл: 33, Количество: 2400\n",
      "Символ: Y, Лейбл: 34, Количество: 2400\n",
      "Символ: Z, Лейбл: 35, Количество: 2400\n",
      "Символ: a, Лейбл: 36, Количество: 2400\n",
      "Символ: b, Лейбл: 37, Количество: 2400\n",
      "Символ: d, Лейбл: 38, Количество: 2400\n",
      "Символ: e, Лейбл: 39, Количество: 2400\n",
      "Символ: f, Лейбл: 40, Количество: 2400\n",
      "Символ: g, Лейбл: 41, Количество: 2400\n",
      "Символ: h, Лейбл: 42, Количество: 2400\n",
      "Символ: n, Лейбл: 43, Количество: 2400\n",
      "Символ: q, Лейбл: 44, Количество: 2400\n",
      "Символ: r, Лейбл: 45, Количество: 2400\n",
      "Символ: t, Лейбл: 46, Количество: 2400\n"
     ]
    }
   ],
   "source": [
    "# Выводим символы и количество семплов\n",
    "print(\"Количество тренировочных семплов для каждого символа:\")\n",
    "for label, count in enumerate(label_counts):\n",
    "    if count > 0:  # Печатаем только те лейблы, которые встречаются в выборке\n",
    "        symbol = label_dict.get(label, '?')  # Получаем символ\n",
    "        print(f'Символ: {symbol}, Лейбл: {label}, Количество: {count}')"
   ]
  },
  {
   "cell_type": "code",
   "execution_count": 9,
   "id": "47ac86a3",
   "metadata": {},
   "outputs": [
    {
     "data": {
      "image/png": "[encoded data removed]",
      "text/plain": [
       "<Figure size 2000x500 with 10 Axes>"
      ]
     },
     "metadata": {},
     "output_type": "display_data"
    }
   ],
   "source": [
    "# Отображение 10 изображений и соответствующих меток\n",
    "fig, axs = plt.subplots(1, 10, figsize=(20, 5))\n",
    "for i in range(10):\n",
    "    image, label = train_data[i]\n",
    "    \n",
    "    # Преобразование изображения в NumPy массив для корректного отображения\n",
    "    image_np = image.numpy()  # Прямое преобразование в NumPy массив\n",
    "    \n",
    "    # Убираем размерность канала (если она есть)\n",
    "    if image_np.shape[0] == 1:  # Если канал один (черно-белое изображение)\n",
    "        image_np = image_np.squeeze(0)  # Убираем размерность канала\n",
    "    \n",
    "    # Отображаем изображение\n",
    "    axs[i].imshow(image_np, cmap='gray')\n",
    "    axs[i].set_title(label_dict[label])  # Используем словарь для отображения метки\n",
    "    axs[i].axis('off')\n",
    "\n",
    "plt.show()"
   ]
  },
  {
   "cell_type": "markdown",
   "id": "c84ac4f0",
   "metadata": {},
   "source": [
    "## Загрузка, отражение и поворот, трансформация, нормализация данных"
   ]
  },
  {
   "cell_type": "code",
   "execution_count": 10,
   "id": "89156760",
   "metadata": {},
   "outputs": [],
   "source": [
    "# Обертка трансформации и нормализации\n",
    "transform = Compose([\n",
    "    ToTensor(),\n",
    "    Normalize([0.5], [0.5])\n",
    "])"
   ]
  },
  {
   "cell_type": "code",
   "execution_count": 11,
   "id": "128421ce",
   "metadata": {},
   "outputs": [],
   "source": [
    "# Загрузка обучающего набора данных с трансформациями\n",
    "train_data = EMNIST('data/', 'balanced', train=True, download=True,\n",
    "                transform=torchvision.transforms.Compose([ # Поворот и отражение\n",
    "                    lambda img: torchvision.transforms.functional.rotate(img, -90),\n",
    "                    lambda img: torchvision.transforms.functional.hflip(img),\n",
    "                    transform # трансформируем и нормализуем\n",
    "                ]))"
   ]
  },
  {
   "cell_type": "code",
   "execution_count": 12,
   "id": "741504e0",
   "metadata": {},
   "outputs": [],
   "source": [
    "# Загрузка тестового набора данных с трансформациями\n",
    "test_data = EMNIST('data/', 'balanced', train=False,\n",
    "                transform=torchvision.transforms.Compose([ # Поворот и отражение\n",
    "                    lambda img: torchvision.transforms.functional.rotate(img, -90),\n",
    "                    lambda img: torchvision.transforms.functional.hflip(img),\n",
    "                    transform # трансформируем и нормализуем\n",
    "                ]))"
   ]
  },
  {
   "cell_type": "code",
   "execution_count": 13,
   "id": "18534804",
   "metadata": {},
   "outputs": [
    {
     "data": {
      "image/png": "[encoded data removed]",
      "text/plain": [
       "<Figure size 2000x500 with 10 Axes>"
      ]
     },
     "metadata": {},
     "output_type": "display_data"
    }
   ],
   "source": [
    "# Проверяем корректгость изображений\n",
    "fig, axs = plt.subplots(1, 10, figsize=(20, 5))\n",
    "for i in range(10):\n",
    "    image, label = train_data[i]\n",
    "    \n",
    "    # Преобразование изображения в NumPy массив для корректного отображения\n",
    "    image_np = image.numpy()  # Прямое преобразование в NumPy массив\n",
    "    \n",
    "    # Убираем размерность канала (если она есть)\n",
    "    if image_np.shape[0] == 1:  # Если канал один (черно-белое изображение)\n",
    "        image_np = image_np.squeeze(0)  # Убираем размерность канала\n",
    "    \n",
    "    # Отображаем изображение\n",
    "    axs[i].imshow(image_np, cmap='gray')  \n",
    "    axs[i].set_title(label_dict[label])  # Используем словарь для отображения метки\n",
    "    axs[i].axis('off')\n",
    "\n",
    "plt.show()\n"
   ]
  },
  {
   "cell_type": "markdown",
   "id": "62437173",
   "metadata": {},
   "source": [
    "## Эксперименты моделирования\n",
    "\n",
    "Любой класс модели должен наследоваться от `torch.nn.Module` и иметь метод `forward()` для вызова модели. Первым делом мы попробуем написать логистическую регрессию для мультиклассовой классификации, она же Softmax-регрессия."
   ]
  },
  {
   "cell_type": "code",
   "execution_count": 14,
   "id": "72734f78",
   "metadata": {},
   "outputs": [],
   "source": [
    "class LogReg(nn.Module):\n",
    "    def __init__(self, in_features, n_classes):\n",
    "        super(LogReg, self).__init__()\n",
    "        self.fc = nn.Linear(in_features, n_classes)\n",
    "\n",
    "    def forward(self, x):\n",
    "        return self.fc(x)"
   ]
  },
  {
   "cell_type": "code",
   "execution_count": 15,
   "id": "84174583",
   "metadata": {},
   "outputs": [],
   "source": [
    "# Создание загрузчиков данных\n",
    "train_loader = DataLoader(train_data, batch_size=1000, shuffle=True)\n",
    "val_loader = DataLoader(test_data, batch_size=1000)"
   ]
  },
  {
   "cell_type": "code",
   "execution_count": 16,
   "id": "e8934b62",
   "metadata": {},
   "outputs": [
    {
     "data": {
      "text/plain": [
       "47"
      ]
     },
     "execution_count": 16,
     "metadata": {},
     "output_type": "execute_result"
    }
   ],
   "source": [
    "len(label_dict)"
   ]
  },
  {
   "cell_type": "code",
   "execution_count": 17,
   "id": "3ec84fbc",
   "metadata": {},
   "outputs": [
    {
     "name": "stdout",
     "output_type": "stream",
     "text": [
      "Epoch: 0 \tLoss: 2.051995\n",
      "Epoch: 1 \tLoss: 1.445789\n",
      "Val Loss: 1.389982 \tAccuracy: 0.6242021276595745\n",
      "Epoch: 2 \tLoss: 1.332186\n",
      "Epoch: 3 \tLoss: 1.276256\n",
      "Val Loss: 1.285440 \tAccuracy: 0.6475\n",
      "Epoch: 4 \tLoss: 1.241004\n",
      "Epoch: 5 \tLoss: 1.215251\n",
      "Val Loss: 1.240454 \tAccuracy: 0.6595212765957447\n",
      "Epoch: 6 \tLoss: 1.196584\n",
      "Epoch: 7 \tLoss: 1.182594\n",
      "Val Loss: 1.211493 \tAccuracy: 0.6670744680851064\n",
      "Epoch: 8 \tLoss: 1.170549\n",
      "Epoch: 9 \tLoss: 1.160786\n",
      "Val Loss: 1.199952 \tAccuracy: 0.6706914893617021\n"
     ]
    }
   ],
   "source": [
    "model = LogReg(in_features=28*28, n_classes=47) #!!! n_classes - указываем количество классов!!!\n",
    "loss_f = nn.CrossEntropyLoss()\n",
    "\n",
    "optimizer = torch.optim.SGD(model.parameters(), lr=1e-1)\n",
    "\n",
    "n_epoch = 10  # количество эпох\n",
    "val_fre = 2  # переменная, которая определяет, через сколько эпох будет выполняться валидация модели\n",
    "\n",
    "model.train()\n",
    "for epoch in range(n_epoch):\n",
    "    loss_sum = 0\n",
    "    for step, (data, target) in enumerate(train_loader):\n",
    "        data = data.flatten(start_dim=1)\n",
    "        optimizer.zero_grad()\n",
    "        output = model(data)\n",
    "        loss = loss_f(output, target)\n",
    "        loss.backward()\n",
    "        optimizer.step()\n",
    "\n",
    "        loss_sum += loss.item()\n",
    "\n",
    "    print(f'Epoch: {epoch} \\tLoss: {loss_sum / (step + 1):.6f}')\n",
    "\n",
    "    if (epoch+1) % val_fre == 0:\n",
    "        model.eval()\n",
    "        loss_sum = 0\n",
    "        correct = 0\n",
    "        for step, (data, target) in enumerate(val_loader):\n",
    "            data = data.flatten(start_dim=1)\n",
    "            with torch.no_grad():\n",
    "                output = model(data)\n",
    "                loss = loss_f(output, target)\n",
    "            loss_sum += loss.item()\n",
    "            pred = output.argmax(dim=1, keepdim=True)\n",
    "            correct += pred.eq(target.view_as(pred)).sum().item()\n",
    "        acc = correct / len(val_loader.dataset)\n",
    "        print(f'Val Loss: {loss_sum / (step + 1):.6f} \\tAccuracy: {acc}')\n",
    "        model.train()"
   ]
  },
  {
   "cell_type": "markdown",
   "id": "e063dc87",
   "metadata": {},
   "source": [
    "Если обучение модели не завершено, то [аналогичным образом](https://pytorch.org/tutorials/beginner/saving_loading_models.html) можно сохранить и оптимизатор, и scheduler."
   ]
  },
  {
   "cell_type": "code",
   "execution_count": 18,
   "id": "cac28781",
   "metadata": {},
   "outputs": [
    {
     "name": "stderr",
     "output_type": "stream",
     "text": [
      "/tmp/ipykernel_4978/1950930618.py:5: FutureWarning: You are using `torch.load` with `weights_only=False` (the current default value), which uses the default pickle module implicitly. It is possible to construct malicious pickle data which will execute arbitrary code during unpickling (See https://github.com/pytorch/pytorch/blob/main/SECURITY.md#untrusted-models for more details). In a future release, the default value for `weights_only` will be flipped to `True`. This limits the functions that could be executed during unpickling. Arbitrary objects will no longer be allowed to be loaded via this mode unless they are explicitly allowlisted by the user via `torch.serialization.add_safe_globals`. We recommend you start setting `weights_only=True` for any use case where you don't have full control of the loaded file. Please open an issue on GitHub for any issues related to this experimental feature.\n",
      "  model.load_state_dict(torch.load('data/checkpoints/logreg.pth'))\n"
     ]
    },
    {
     "data": {
      "text/plain": [
       "<All keys matched successfully>"
      ]
     },
     "execution_count": 18,
     "metadata": {},
     "output_type": "execute_result"
    }
   ],
   "source": [
    "os.makedirs('data/checkpoints/', exist_ok=True)\n",
    "torch.save(model.state_dict(), 'data/checkpoints/logreg.pth')\n",
    "\n",
    "model = LogReg(in_features=28*28, n_classes=47)\n",
    "model.load_state_dict(torch.load('data/checkpoints/logreg.pth'))"
   ]
  },
  {
   "cell_type": "markdown",
   "id": "1e6edad3",
   "metadata": {},
   "source": [
    "## Улучшение модели"
   ]
  },
  {
   "cell_type": "markdown",
   "id": "c08334f5",
   "metadata": {},
   "source": [
    "Выбор архитектуры модели\n",
    "Для задачи классификации изображений можно использовать различные архитектуры нейронных сетей.\n",
    "\n",
    "    Полносвязная нейронная сеть (MLP):\n",
    "        Простая и эффективная для небольших наборов данных.\n",
    "        Можно использовать несколько скрытых слоев с функциями активации ReLU.\n",
    "    \n",
    "    Сверточная нейронная сеть (CNN):\n",
    "        Лучше подходит для обработки изображений, так как учитывает пространственные зависимости.\n",
    "        Рекомендуется использовать сверточные слои, за которыми следуют слои подвыборки (pooling) и полносвязные слои.\n"
   ]
  },
  {
   "cell_type": "markdown",
   "id": "25bb2280",
   "metadata": {},
   "source": [
    "### CNN сверточная нейронная сеть для задачи классификации "
   ]
  },
  {
   "cell_type": "code",
   "execution_count": 19,
   "id": "8be49970",
   "metadata": {},
   "outputs": [],
   "source": [
    "class CNNModel(nn.Module):\n",
    "    def __init__(self):\n",
    "        super(CNNModel, self).__init__()\n",
    "        self.conv1 = nn.Conv2d(1, 32, kernel_size=3, padding=1)  # Вход: 1 канал (черно-белое изображение)\n",
    "        self.conv2 = nn.Conv2d(32, 64, kernel_size=3, padding=1)\n",
    "        self.pool = nn.MaxPool2d(kernel_size=2, stride=2)\n",
    "        self.fc1 = nn.Linear(64 * 7 * 7, 128)  # Вход: 64 * 7 * 7 после свертки и подвыборки\n",
    "        self.fc2 = nn.Linear(128, 47)  # Выход: 47 классов\n",
    "\n",
    "    def forward(self, x):\n",
    "        x = self.pool(F.relu(self.conv1(x)))\n",
    "        x = self.pool(F.relu(self.conv2(x)))\n",
    "        x = x.view(-1, 64 * 7 * 7)  # Преобразование в вектор\n",
    "        x = F.relu(self.fc1(x))\n",
    "        x = self.fc2(x)\n",
    "        return x"
   ]
  },
  {
   "cell_type": "markdown",
   "id": "e2f66bd1",
   "metadata": {},
   "source": [
    "Подбор гиперпараметров\n",
    "\n",
    "    Скорость обучения (lr): Начальная скорость обучения может быть установлена на уровне 1e−31e−3 или 1e−41e−4. Можно использовать torch.optim.lr_scheduler для динамического изменения скорости обучения.\n",
    "    Размер пакета (batch_size): Обычно выбирается от 3232 до 256256. Размер пакета влияет на стабильность градиентов и скорость обучения.\n",
    "    Количество эпох (n_epoch): Начните с 20−5020−50 эпох и следите за производительностью на валидационном наборе.\n",
    "    Функция потерь: Для многоклассовой классификации используйте nn.CrossEntropyLoss().\n"
   ]
  },
  {
   "cell_type": "code",
   "execution_count": 20,
   "id": "3ca5818b",
   "metadata": {},
   "outputs": [],
   "source": [
    "# Создание загрузчиков данных\n",
    "train_loader = DataLoader(train_data, batch_size=64, shuffle=True)\n",
    "val_loader = DataLoader(test_data, batch_size=64)"
   ]
  },
  {
   "cell_type": "code",
   "execution_count": 21,
   "id": "213eaa1f",
   "metadata": {},
   "outputs": [],
   "source": [
    "# Инициализация модели, функции потерь и оптимизатора\n",
    "model = CNNModel()\n",
    "loss_f = nn.CrossEntropyLoss()\n",
    "optimizer = torch.optim.Adam(model.parameters(), lr=1e-3)"
   ]
  },
  {
   "cell_type": "code",
   "execution_count": 22,
   "id": "8fee8f8b",
   "metadata": {},
   "outputs": [
    {
     "name": "stdout",
     "output_type": "stream",
     "text": [
      "Epoch 1/30, Loss: 0.7011\n",
      "Validation Loss: 0.5032, Accuracy: 0.8311\n",
      "Epoch 2/30, Loss: 0.4066\n",
      "Validation Loss: 0.4137, Accuracy: 0.8611\n",
      "Epoch 3/30, Loss: 0.3528\n",
      "Validation Loss: 0.3983, Accuracy: 0.8645\n",
      "Epoch 4/30, Loss: 0.3167\n",
      "Validation Loss: 0.3859, Accuracy: 0.8680\n",
      "Epoch 5/30, Loss: 0.2905\n",
      "Validation Loss: 0.3712, Accuracy: 0.8729\n",
      "Epoch 6/30, Loss: 0.2672\n",
      "Validation Loss: 0.3837, Accuracy: 0.8709\n",
      "Epoch 7/30, Loss: 0.2475\n",
      "Validation Loss: 0.3846, Accuracy: 0.8724\n",
      "Epoch 8/30, Loss: 0.2308\n",
      "Validation Loss: 0.3887, Accuracy: 0.8702\n",
      "Epoch 9/30, Loss: 0.2153\n",
      "Validation Loss: 0.4194, Accuracy: 0.8646\n",
      "Epoch 10/30, Loss: 0.2028\n",
      "Validation Loss: 0.4321, Accuracy: 0.8707\n",
      "Epoch 11/30, Loss: 0.1893\n",
      "Validation Loss: 0.4599, Accuracy: 0.8629\n",
      "Epoch 12/30, Loss: 0.1782\n",
      "Validation Loss: 0.4932, Accuracy: 0.8641\n",
      "Epoch 13/30, Loss: 0.1687\n",
      "Validation Loss: 0.5009, Accuracy: 0.8630\n",
      "Epoch 14/30, Loss: 0.1601\n",
      "Validation Loss: 0.5063, Accuracy: 0.8656\n",
      "Epoch 15/30, Loss: 0.1501\n",
      "Validation Loss: 0.5522, Accuracy: 0.8609\n",
      "Epoch 16/30, Loss: 0.1438\n",
      "Validation Loss: 0.5789, Accuracy: 0.8634\n",
      "Epoch 17/30, Loss: 0.1366\n",
      "Validation Loss: 0.6169, Accuracy: 0.8576\n",
      "Epoch 18/30, Loss: 0.1305\n",
      "Validation Loss: 0.6496, Accuracy: 0.8623\n",
      "Epoch 19/30, Loss: 0.1253\n",
      "Validation Loss: 0.6617, Accuracy: 0.8554\n",
      "Epoch 20/30, Loss: 0.1199\n",
      "Validation Loss: 0.6832, Accuracy: 0.8557\n",
      "Epoch 21/30, Loss: 0.1148\n",
      "Validation Loss: 0.7090, Accuracy: 0.8532\n",
      "Epoch 22/30, Loss: 0.1089\n",
      "Validation Loss: 0.7486, Accuracy: 0.8555\n",
      "Epoch 23/30, Loss: 0.1074\n",
      "Validation Loss: 0.7957, Accuracy: 0.8530\n",
      "Epoch 24/30, Loss: 0.1013\n",
      "Validation Loss: 0.7917, Accuracy: 0.8566\n",
      "Epoch 25/30, Loss: 0.0991\n",
      "Validation Loss: 0.8584, Accuracy: 0.8557\n",
      "Epoch 26/30, Loss: 0.0947\n",
      "Validation Loss: 0.8889, Accuracy: 0.8515\n",
      "Epoch 27/30, Loss: 0.0918\n",
      "Validation Loss: 0.8798, Accuracy: 0.8566\n",
      "Epoch 28/30, Loss: 0.0889\n",
      "Validation Loss: 0.9348, Accuracy: 0.8545\n",
      "Epoch 29/30, Loss: 0.0858\n",
      "Validation Loss: 0.9732, Accuracy: 0.8516\n",
      "Epoch 30/30, Loss: 0.0823\n",
      "Validation Loss: 0.9743, Accuracy: 0.8554\n"
     ]
    }
   ],
   "source": [
    "# Обучение модели\n",
    "n_epoch = 30\n",
    "for epoch in range(n_epoch):\n",
    "    model.train()\n",
    "    total_loss = 0\n",
    "    for data, target in train_loader:\n",
    "        optimizer.zero_grad()\n",
    "        output = model(data)\n",
    "        loss = loss_f(output, target)\n",
    "        loss.backward()\n",
    "        optimizer.step()\n",
    "        \n",
    "        total_loss += loss.item()\n",
    "\n",
    "    print(f'Epoch {epoch + 1}/{n_epoch}, Loss: {total_loss / len(train_loader):.4f}')\n",
    "\n",
    "    # Валидация\n",
    "    model.eval()\n",
    "    val_loss = 0\n",
    "    correct = 0\n",
    "    with torch.no_grad():\n",
    "        for data, target in val_loader:\n",
    "            output = model(data)\n",
    "            val_loss += loss_f(output, target).item()\n",
    "            pred = output.argmax(dim=1)\n",
    "            correct += pred.eq(target).sum().item()\n",
    "\n",
    "    accuracy = correct / len(val_loader.dataset)\n",
    "    print(f'Validation Loss: {val_loss / len(val_loader):.4f}, Accuracy: {accuracy:.4f}')"
   ]
  },
  {
   "cell_type": "markdown",
   "id": "3d702bf2",
   "metadata": {},
   "source": [
    "Оценка производительности\n",
    "После завершения обучения важно оценить производительность модели на тестовом наборе данных. Это поможет понять, насколько хорошо модель обобщает на новых данных.\n",
    "\n",
    "\n",
    "Дополнительные улучшения\n",
    "Если результаты не удовлетворяют требованиям:\n",
    "\n",
    "    Измените архитектуру: Попробуйте добавить больше слоев или использовать более сложные архитектуры (например, ResNet).\n",
    "    Регуляризация: Используйте методы регуляризации (например, Dropout) для предотвращения переобучения.\n",
    "    Аугментация данных: Применяйте аугментацию данных для увеличения разнообразия обучающего набора.\n"
   ]
  },
  {
   "cell_type": "markdown",
   "id": "bea14545",
   "metadata": {},
   "source": [
    "Упакуем обучение и валидацию в функции и попробуем заменить линейный слой на двухслойный перцептрон."
   ]
  },
  {
   "cell_type": "code",
   "execution_count": 23,
   "id": "774508ee",
   "metadata": {},
   "outputs": [],
   "source": [
    "def train(model, optimizer, loss_f, train_loader, val_loader, n_epoch, val_fre):\n",
    "    model.train()\n",
    "    for epoch in range(n_epoch):\n",
    "        loss_sum = 0\n",
    "        for step, (data, target) in enumerate(train_loader):\n",
    "            data = data.flatten(start_dim=1)\n",
    "            optimizer.zero_grad()\n",
    "            output = model(data)\n",
    "            loss = loss_f(output, target)\n",
    "            loss.backward()\n",
    "            optimizer.step()\n",
    "\n",
    "            loss_sum += loss.item()\n",
    "\n",
    "        print(f'Epoch: {epoch} \\tLoss: {loss_sum / (step + 1):.6f}')\n",
    "\n",
    "        if epoch % val_fre == 0:\n",
    "            validate(model, val_loader)\n",
    "\n",
    "def validate(model, val_loader):\n",
    "    model.eval()\n",
    "    loss_sum = 0\n",
    "    correct = 0\n",
    "    for step, (data, target) in enumerate(val_loader):\n",
    "        data = data.flatten(start_dim=1)\n",
    "        with torch.no_grad():\n",
    "            output = model(data)\n",
    "            loss = loss_f(output, target)\n",
    "        loss_sum += loss.item()\n",
    "        pred = output.argmax(dim=1, keepdim=True)\n",
    "        correct += pred.eq(target.view_as(pred)).sum().item()\n",
    "    acc = correct / len(val_loader.dataset)\n",
    "    print(f'Val Loss: {loss_sum / (step + 1):.6f} \\tAccuracy: {acc}')\n",
    "    model.train()"
   ]
  },
  {
   "cell_type": "code",
   "execution_count": 24,
   "id": "95884b33",
   "metadata": {},
   "outputs": [],
   "source": [
    "class MLP(nn.Module):\n",
    "    def __init__(self, in_features, hid_features, n_classes):\n",
    "        super(MLP, self).__init__()\n",
    "        self.fc1 = nn.Linear(in_features, hid_features)\n",
    "        self.relu = nn.ReLU()\n",
    "        self.fc2 = nn.Linear(hid_features, n_classes)\n",
    "\n",
    "    def forward(self, x):\n",
    "        x = self.fc1(x)\n",
    "        x = self.relu(x)\n",
    "        x = self.fc2(x)\n",
    "        return x"
   ]
  },
  {
   "cell_type": "code",
   "execution_count": 25,
   "id": "bd4c83df",
   "metadata": {},
   "outputs": [
    {
     "name": "stdout",
     "output_type": "stream",
     "text": [
      "MLP(\n",
      "  (fc1): Linear(in_features=784, out_features=1024, bias=True)\n",
      "  (relu): ReLU()\n",
      "  (fc2): Linear(in_features=1024, out_features=47, bias=True)\n",
      ")\n"
     ]
    }
   ],
   "source": [
    "model_mlp = MLP(in_features=28*28, hid_features=1024, n_classes=47)\n",
    "print(model_mlp)\n",
    "loss_f = nn.CrossEntropyLoss()\n",
    "optimizer = torch.optim.SGD(model_mlp.parameters(), lr=1e-1)\n",
    "\n",
    "n_epoch = 20\n",
    "val_fre = 10"
   ]
  },
  {
   "cell_type": "code",
   "execution_count": 26,
   "id": "05464536",
   "metadata": {},
   "outputs": [
    {
     "name": "stdout",
     "output_type": "stream",
     "text": [
      "Epoch: 0 \tLoss: 1.087236\n",
      "Val Loss: 0.745565 \tAccuracy: 0.778031914893617\n",
      "Epoch: 1 \tLoss: 0.633283\n",
      "Epoch: 2 \tLoss: 0.527932\n",
      "Epoch: 3 \tLoss: 0.470035\n",
      "Epoch: 4 \tLoss: 0.431633\n",
      "Epoch: 5 \tLoss: 0.401665\n",
      "Epoch: 6 \tLoss: 0.377602\n",
      "Epoch: 7 \tLoss: 0.356307\n",
      "Epoch: 8 \tLoss: 0.337469\n",
      "Epoch: 9 \tLoss: 0.321400\n",
      "Epoch: 10 \tLoss: 0.306957\n",
      "Val Loss: 0.499938 \tAccuracy: 0.8376595744680851\n",
      "Epoch: 11 \tLoss: 0.292278\n",
      "Epoch: 12 \tLoss: 0.278498\n",
      "Epoch: 13 \tLoss: 0.266362\n",
      "Epoch: 14 \tLoss: 0.255640\n",
      "Epoch: 15 \tLoss: 0.246572\n",
      "Epoch: 16 \tLoss: 0.236515\n",
      "Epoch: 17 \tLoss: 0.227422\n",
      "Epoch: 18 \tLoss: 0.218157\n",
      "Epoch: 19 \tLoss: 0.209058\n",
      "Val Loss: 0.505793 \tAccuracy: 0.8449468085106383\n"
     ]
    }
   ],
   "source": [
    "train(model_mlp, optimizer, loss_f, train_loader, val_loader, n_epoch, val_fre)\n",
    "validate(model_mlp, val_loader)"
   ]
  },
  {
   "cell_type": "code",
   "execution_count": 27,
   "id": "19be6885",
   "metadata": {},
   "outputs": [],
   "source": [
    "# Сохранение обученной модели\n",
    "checkpoint = {\n",
    "    'model_state_dict': model_mlp.state_dict(),  # Состояние модели\n",
    "    'optimizer_state_dict': optimizer.state_dict(),  # Состояние оптимизатора\n",
    "    'epoch': n_epoch  # Текущий номер эпохи (если нужно возобновить обучение)\n",
    "}\n",
    "# "
   ]
  },
  {
   "cell_type": "markdown",
   "id": "4aaec882",
   "metadata": {},
   "source": [
    "создаем словарь checkpoint, который содержит:\n",
    "\n",
    "    model_state_dict: состояние модели, полученное с помощью model_mlp.state_dict(). Это включает все параметры (веса и смещения) модели.\n",
    "    optimizer_state_dict: состояние оптимизатора, полученное с помощью optimizer.state_dict(). Это необходимо для восстановления состояния оптимизации при возобновлении обучения.\n",
    "    epoch: номер текущей эпохи. Для продолжения обучения с этого места.\n"
   ]
  },
  {
   "cell_type": "code",
   "execution_count": 28,
   "id": "2047d935",
   "metadata": {},
   "outputs": [],
   "source": [
    "# Сохранение контрольной точки в файл .ckpt\n",
    "torch.save(checkpoint, 'data/model_mlp.ckpt')"
   ]
  },
  {
   "cell_type": "code",
   "execution_count": 29,
   "id": "bb0806cf",
   "metadata": {},
   "outputs": [
    {
     "name": "stdout",
     "output_type": "stream",
     "text": [
      "Val Loss: 0.505793 \tAccuracy: 0.8449468085106383\n"
     ]
    }
   ],
   "source": [
    "# Валидация модели\n",
    "validate(model_mlp, val_loader)"
   ]
  },
  {
   "cell_type": "markdown",
   "id": "67323815",
   "metadata": {},
   "source": [
    "### Загрузка модели из контрольной точки\n",
    "\n",
    " загрузить модель из сохраненного файла .ckpt:\n",
    "\n"
   ]
  },
  {
   "cell_type": "code",
   "execution_count": 30,
   "id": "249d6948",
   "metadata": {},
   "outputs": [
    {
     "name": "stderr",
     "output_type": "stream",
     "text": [
      "/tmp/ipykernel_4978/903723652.py:2: FutureWarning: You are using `torch.load` with `weights_only=False` (the current default value), which uses the default pickle module implicitly. It is possible to construct malicious pickle data which will execute arbitrary code during unpickling (See https://github.com/pytorch/pytorch/blob/main/SECURITY.md#untrusted-models for more details). In a future release, the default value for `weights_only` will be flipped to `True`. This limits the functions that could be executed during unpickling. Arbitrary objects will no longer be allowed to be loaded via this mode unless they are explicitly allowlisted by the user via `torch.serialization.add_safe_globals`. We recommend you start setting `weights_only=True` for any use case where you don't have full control of the loaded file. Please open an issue on GitHub for any issues related to this experimental feature.\n",
      "  checkpoint = torch.load('data/model_mlp.ckpt')\n"
     ]
    }
   ],
   "source": [
    "# Загрузка контрольной точки\n",
    "checkpoint = torch.load('data/model_mlp.ckpt')\n",
    "\n",
    "# Восстановление состояния модели и оптимизатора\n",
    "model_mlp.load_state_dict(checkpoint['model_state_dict'])\n",
    "optimizer.load_state_dict(checkpoint['optimizer_state_dict'])"
   ]
  },
  {
   "cell_type": "code",
   "execution_count": 31,
   "id": "41a78fdc",
   "metadata": {},
   "outputs": [],
   "source": [
    "# Если нужно, можно восстановить номер эпохи\n",
    "#n_epoch = checkpoint['epoch']\n",
    "\n",
    "# Переключение модели в режим оценки \n",
    "#model_mlp.eval()"
   ]
  }
 ],
 "metadata": {
  "kernelspec": {
   "display_name": "torch",
   "language": "python",
   "name": "python3"
  },
  "language_info": {
   "codemirror_mode": {
    "name": "ipython",
    "version": 3
   },
   "file_extension": ".py",
   "mimetype": "text/x-python",
   "name": "python",
   "nbconvert_exporter": "python",
   "pygments_lexer": "ipython3",
   "version": "3.11.11"
  }
 },
 "nbformat": 4,
 "nbformat_minor": 5
}
