{
 "cells": [
  {
   "cell_type": "markdown",
   "id": "f919cb9f",
   "metadata": {
    "id": "f919cb9f"
   },
   "source": [
    "# Библиотеки"
   ]
  },
  {
   "cell_type": "code",
   "execution_count": 28,
   "id": "2d826ec1",
   "metadata": {
    "id": "2d826ec1"
   },
   "outputs": [],
   "source": [
    "import os\n",
    "import torch\n",
    "import torchvision\n",
    "from torchvision.datasets import EMNIST\n",
    "from torchvision import transforms\n",
    "from torchvision.transforms import ToTensor, Compose, Resize, Normalize\n",
    "import matplotlib.pyplot as plt\n",
    "import numpy as np\n",
    "from torch import nn\n",
    "from torch.utils.data import DataLoader\n",
    "import torch.nn.functional as F\n",
    "import torch.optim as optim\n",
    "from torch.optim.lr_scheduler import StepLR\n",
    "from PIL import Image\n",
    "\n",
    "import torchvision.transforms.functional as TF\n",
    "import cv2\n",
    "import optuna\n",
    "from torchinfo import summary"
   ]
  },
  {
   "cell_type": "markdown",
   "id": "c84ac4f0",
   "metadata": {
    "id": "c84ac4f0"
   },
   "source": [
    "# Получение, трансформация, нормализация и контроль данных"
   ]
  },
  {
   "cell_type": "code",
   "execution_count": 2,
   "id": "c9d6caec",
   "metadata": {
    "id": "c9d6caec"
   },
   "outputs": [],
   "source": [
    "# Определение трансформаций для нормализации данных\n",
    "transform = transforms.Compose([\n",
    "    transforms.ToTensor(),\n",
    "    transforms.Normalize((0.1307,), (0.3081,))  # Нормализация по среднему и стандартному отклонению\n",
    "])\n",
    "\n",
    "# Загрузка обучающего набора данных с трансформациями\n",
    "train_data = EMNIST('data_r/', 'balanced', train=True, download=True,\n",
    "                transform=torchvision.transforms.Compose([ # Поворот и отражение\n",
    "                    lambda img: torchvision.transforms.functional.rotate(img, -90),\n",
    "                    lambda img: torchvision.transforms.functional.hflip(img),\n",
    "                    transform # трансформируем и нормализуем\n",
    "                ]))\n",
    "\n",
    "# Загрузка тестового набора данных с трансформациями\n",
    "test_data = EMNIST('data_r/', 'balanced', train=False,\n",
    "                transform=torchvision.transforms.Compose([ # Поворот и отражение\n",
    "                    lambda img: torchvision.transforms.functional.rotate(img, -90),\n",
    "                    lambda img: torchvision.transforms.functional.hflip(img),\n",
    "                    transform # трансформируем и нормализуем\n",
    "                ]))"
   ]
  },
  {
   "cell_type": "code",
   "execution_count": 3,
   "id": "1864e3f0",
   "metadata": {
    "id": "1864e3f0"
   },
   "outputs": [],
   "source": [
    "# получение маппинга\n",
    "with open('emnist-balanced-mapping.txt', 'r') as f:\n",
    "    mapping = f.readlines()\n",
    "\n",
    "#mapping"
   ]
  },
  {
   "cell_type": "code",
   "execution_count": 4,
   "id": "092862d6",
   "metadata": {
    "id": "092862d6"
   },
   "outputs": [],
   "source": [
    "# Создаем словарь соответствий\n",
    "label_dict = {}\n",
    "for entry in mapping:\n",
    "    label, ascii_code = map(int, entry.split())\n",
    "    label_dict[label] = chr(ascii_code)"
   ]
  },
  {
   "cell_type": "code",
   "execution_count": 5,
   "id": "18534804",
   "metadata": {
    "id": "18534804",
    "outputId": "0cad163f-2218-4152-ca6b-4c3e0cf0af6f"
   },
   "outputs": [
    {
     "data": {
      "image/png": "[encoded data removed]",
      "text/plain": [
       "<Figure size 2000x500 with 10 Axes>"
      ]
     },
     "metadata": {},
     "output_type": "display_data"
    }
   ],
   "source": [
    "# Проверяем корректность изображений\n",
    "fig, axs = plt.subplots(1, 10, figsize=(20, 5))\n",
    "for i in range(10):\n",
    "    random_index = np.random.randint(0, len(train_data))\n",
    "    #print('Random index:', random_index)\n",
    "    image, label = train_data[random_index]\n",
    "\n",
    "    # Преобразование изображения в NumPy массив для корректного отображения\n",
    "    image_np = image.numpy()  # Прямое преобразование в NumPy массив\n",
    "\n",
    "    # Убираем размерность канала (если она есть)\n",
    "    if image_np.shape[0] == 1:  # Если канал один (черно-белое изображение)\n",
    "        image_np = image_np.squeeze(0)  # Убираем размерность канала\n",
    "\n",
    "    # Отображаем изображение\n",
    "    axs[i].imshow(image_np, cmap='gray')\n",
    "    axs[i].set_title(label_dict[label])  # Используем словарь для отображения метки\n",
    "    axs[i].axis('off')\n",
    "\n",
    "plt.show()\n"
   ]
  },
  {
   "cell_type": "code",
   "execution_count": 5,
   "id": "499cb0ae",
   "metadata": {},
   "outputs": [],
   "source": [
    "# Создание загрузчиков данных\n",
    "train_loader = DataLoader(train_data, batch_size=64, shuffle=True)\n",
    "val_loader = DataLoader(test_data, batch_size=64, shuffle=False)"
   ]
  },
  {
   "cell_type": "code",
   "execution_count": 34,
   "id": "83c52ea1",
   "metadata": {},
   "outputs": [],
   "source": [
    "# простая модель\n",
    "class CNNModel(nn.Module):\n",
    "    def __init__(self):\n",
    "        super(CNNModel, self).__init__()\n",
    "        self.conv1 = nn.Conv2d(1, 32, kernel_size=3, padding=1)  # Свертка с 32 фильтрами\n",
    "        self.conv2 = nn.Conv2d(32, 64, kernel_size=3, padding=1)  # Свертка с 64 фильтрами\n",
    "        self.pool = nn.MaxPool2d(kernel_size=2, stride=2)  # Подвыборка\n",
    "        self.fc1 = nn.Linear(64 * 7 * 7, 128)  # Полносвязный слой\n",
    "        self.fc2 = nn.Linear(128, 47)  # Выходной слой для 47 классов\n",
    "\n",
    "    def forward(self, x):\n",
    "        x = self.pool(F.relu(self.conv1(x)))  # Применение свертки и активации ReLU\n",
    "        x = self.pool(F.relu(self.conv2(x)))  # Применение свертки и активации ReLU\n",
    "        x = x.view(-1, 64 * 7 * 7)  # Преобразование в вектор для полносвязного слоя\n",
    "        x = F.relu(self.fc1(x))  \n",
    "        x = self.fc2(x)  \n",
    "        return x"
   ]
  },
  {
   "cell_type": "code",
   "execution_count": 15,
   "id": "cb5b5c7c",
   "metadata": {},
   "outputs": [],
   "source": [
    "# Очищаем состояние для последующей модели\n",
    "def clear_training_state(model, optimizer):\n",
    "    # Удаляем все параметры и градиенты\n",
    "    model.apply(lambda m: m.reset_parameters() if hasattr(m, 'reset_parameters') else None)\n",
    "    optimizer.state.clear()  # Очищаем состояние оптимизатора\n",
    "    optimizer.param_groups.clear()  # Очищаем группы параметров"
   ]
  },
  {
   "cell_type": "code",
   "execution_count": 9,
   "id": "88ef1acd",
   "metadata": {},
   "outputs": [],
   "source": [
    "# Используем функцию для очистки состояния\n",
    "#clear_training_state(model, optimizer)\n",
    "\n",
    "# Инициализация модели\n",
    "model_cnn = CNNModel()\n",
    "\n",
    "# Оптимизатор и функция потерь\n",
    "optimizer = optim.Adam(model_cnn.parameters(), lr=0.001)  # Используем Adam с малой скоростью обучения\n",
    "loss_function = nn.CrossEntropyLoss()  # Функция потерь для многоклассовой классификации"
   ]
  },
  {
   "cell_type": "code",
   "execution_count": 10,
   "id": "dc643a57",
   "metadata": {},
   "outputs": [
    {
     "name": "stdout",
     "output_type": "stream",
     "text": [
      "Epoch 1/10, Loss: 0.6189\n",
      "Validation Accuracy: 0.8539\n",
      "Epoch 2/10, Loss: 0.3756\n",
      "Validation Accuracy: 0.8636\n",
      "Epoch 3/10, Loss: 0.3220\n",
      "Validation Accuracy: 0.8746\n",
      "Epoch 4/10, Loss: 0.2852\n",
      "Validation Accuracy: 0.8727\n",
      "Epoch 5/10, Loss: 0.2575\n",
      "Validation Accuracy: 0.8735\n",
      "Epoch 6/10, Loss: 0.2307\n",
      "Validation Accuracy: 0.8680\n",
      "Epoch 7/10, Loss: 0.2096\n",
      "Validation Accuracy: 0.8702\n",
      "Epoch 8/10, Loss: 0.1900\n",
      "Validation Accuracy: 0.8722\n",
      "Epoch 9/10, Loss: 0.1739\n",
      "Validation Accuracy: 0.8701\n",
      "Epoch 10/10, Loss: 0.1584\n",
      "Validation Accuracy: 0.8637\n"
     ]
    }
   ],
   "source": [
    "n_epochs = 10\n",
    "\n",
    "for epoch in range(n_epochs):\n",
    "    model_cnn.train()  # Устанавливаем режим обучения\n",
    "    running_loss = 0.0\n",
    "\n",
    "    for data, target in train_loader:\n",
    "        optimizer.zero_grad()  # Обнуляем градиенты\n",
    "        output = model_cnn(data)  # Прямой проход через модель\n",
    "        loss = loss_function(output, target)  # Вычисление потерь\n",
    "        loss.backward()  # Обратный проход (вычисление градиентов)\n",
    "        optimizer.step()  # Обновление параметров\n",
    "\n",
    "        running_loss += loss.item()\n",
    "\n",
    "    print(f'Epoch {epoch + 1}/{n_epochs}, Loss: {running_loss / len(train_loader):.4f}')\n",
    "\n",
    "    # Валидация модели после каждой эпохи\n",
    "    model_cnn.eval()\n",
    "    correct = 0\n",
    "\n",
    "    with torch.no_grad():\n",
    "        for data, target in val_loader:\n",
    "            output = model_cnn(data)\n",
    "            pred = output.argmax(dim=1)\n",
    "            correct += pred.eq(target).sum().item()\n",
    "\n",
    "    accuracy = correct / len(val_loader.dataset)\n",
    "    print(f'Validation Accuracy: {accuracy:.4f}')"
   ]
  },
  {
   "cell_type": "code",
   "execution_count": 11,
   "id": "1651aade",
   "metadata": {},
   "outputs": [],
   "source": [
    "# Сохранение модели в формате .ckpt\n",
    "torch.save(model_cnn.state_dict(), 'model_r_1.ckpt')"
   ]
  },
  {
   "cell_type": "code",
   "execution_count": 35,
   "id": "82eddb35",
   "metadata": {},
   "outputs": [
    {
     "name": "stderr",
     "output_type": "stream",
     "text": [
      "/tmp/ipykernel_6454/1872050039.py:3: FutureWarning: You are using `torch.load` with `weights_only=False` (the current default value), which uses the default pickle module implicitly. It is possible to construct malicious pickle data which will execute arbitrary code during unpickling (See https://github.com/pytorch/pytorch/blob/main/SECURITY.md#untrusted-models for more details). In a future release, the default value for `weights_only` will be flipped to `True`. This limits the functions that could be executed during unpickling. Arbitrary objects will no longer be allowed to be loaded via this mode unless they are explicitly allowlisted by the user via `torch.serialization.add_safe_globals`. We recommend you start setting `weights_only=True` for any use case where you don't have full control of the loaded file. Please open an issue on GitHub for any issues related to this experimental feature.\n",
      "  model.load_state_dict(torch.load('model_r_1.ckpt'))\n"
     ]
    },
    {
     "data": {
      "text/plain": [
       "==========================================================================================\n",
       "Layer (type:depth-idx)                   Output Shape              Param #\n",
       "==========================================================================================\n",
       "CNNModel                                 [1, 47]                   --\n",
       "├─Conv2d: 1-1                            [1, 32, 28, 28]           320\n",
       "├─MaxPool2d: 1-2                         [1, 32, 14, 14]           --\n",
       "├─Conv2d: 1-3                            [1, 64, 14, 14]           18,496\n",
       "├─MaxPool2d: 1-4                         [1, 64, 7, 7]             --\n",
       "├─Linear: 1-5                            [1, 128]                  401,536\n",
       "├─Linear: 1-6                            [1, 47]                   6,063\n",
       "==========================================================================================\n",
       "Total params: 426,415\n",
       "Trainable params: 426,415\n",
       "Non-trainable params: 0\n",
       "Total mult-adds (Units.MEGABYTES): 4.28\n",
       "==========================================================================================\n",
       "Input size (MB): 0.00\n",
       "Forward/backward pass size (MB): 0.30\n",
       "Params size (MB): 1.71\n",
       "Estimated Total Size (MB): 2.01\n",
       "=========================================================================================="
      ]
     },
     "execution_count": 35,
     "metadata": {},
     "output_type": "execute_result"
    }
   ],
   "source": [
    "# Загрузка предварительно обученной модели\n",
    "model = CNNModel()  # модель уже определена\n",
    "model.load_state_dict(torch.load('model_r_1.ckpt'))\n",
    "\n",
    "# Вывод информации о модели\n",
    "summary(model, input_size=(1, 1, 28, 28))  # Указываем размер входного тензора [batch_size, channels, height, width]"
   ]
  },
  {
   "cell_type": "code",
   "execution_count": 32,
   "id": "be786795",
   "metadata": {},
   "outputs": [],
   "source": [
    "#упрощенная модель\n",
    "\n",
    "class SimplifiedCNNModel(nn.Module):\n",
    "    def __init__(self):\n",
    "        super(SimplifiedCNNModel, self).__init__()\n",
    "        # Первый свертка + активация + подвыборка\n",
    "        self.conv1 = nn.Conv2d(1, 16, kernel_size=3, padding=1)  # Уменьшено до 16 фильтров\n",
    "        self.bn1 = nn.BatchNorm2d(16)  # Нормализация\n",
    "        self.pool = nn.MaxPool2d(kernel_size=2, stride=2)  # Подвыборка\n",
    "        \n",
    "        # Второй свертка + активация + подвыборка\n",
    "        self.conv2 = nn.Conv2d(16, 32, kernel_size=3, padding=1)  # Уменьшено до 32 фильтров\n",
    "        self.bn2 = nn.BatchNorm2d(32)  # Нормализация\n",
    "        \n",
    "        # Полносвязные слои\n",
    "        self.fc1 = nn.Linear(32 * 7 * 7, 128)  # Измените размер в зависимости от входного размера\n",
    "        self.fc2 = nn.Linear(128, 47)  # Выходной слой для 47 классов\n",
    "        self.dropout = nn.Dropout(0.5)  # Дропаут для регуляризации\n",
    "\n",
    "    def forward(self, x):\n",
    "        x = self.pool(F.relu(self.bn1(self.conv1(x))))  # Свертка 1\n",
    "        x = self.pool(F.relu(self.bn2(self.conv2(x))))  # Свертка 2\n",
    "        x = x.view(-1, 32 * 7 * 7)  # Преобразование в вектор для полносвязного слоя\n",
    "        x = F.relu(self.fc1(x))\n",
    "        x = self.dropout(x)  # Применение дропаута\n",
    "        x = self.fc2(x)\n",
    "        return x"
   ]
  },
  {
   "cell_type": "code",
   "execution_count": 13,
   "id": "ef9d01bd",
   "metadata": {},
   "outputs": [],
   "source": [
    "# Используем функцию для очистки состояния\n",
    "clear_training_state(model_cnn, optimizer)\n",
    "\n",
    "# Инициализация модели\n",
    "model_cnn_2 = SimplifiedCNNModel()\n",
    "\n",
    "# Оптимизатор и функция потерь\n",
    "optimizer = optim.Adam(model_cnn_2.parameters(), lr=0.001)  # Используем Adam с малой скоростью обучения\n",
    "loss_function = nn.CrossEntropyLoss()  # Функция потерь для многоклассовой классификации"
   ]
  },
  {
   "cell_type": "code",
   "execution_count": 14,
   "id": "3c32a532",
   "metadata": {},
   "outputs": [],
   "source": [
    "# Создание загрузчиков данных\n",
    "train_loader = DataLoader(train_data, batch_size=64, shuffle=True)\n",
    "val_loader = DataLoader(test_data, batch_size=64, shuffle=False)"
   ]
  },
  {
   "cell_type": "code",
   "execution_count": 15,
   "id": "a10beb51",
   "metadata": {
    "id": "a10beb51",
    "outputId": "c9f3e4c5-df0d-4efd-b2ee-383bc62bd939"
   },
   "outputs": [
    {
     "name": "stdout",
     "output_type": "stream",
     "text": [
      "Epoch 1/10, Loss: 1.3163\n",
      "Validation Accuracy: 0.8071\n",
      "Epoch 2/10, Loss: 0.9039\n",
      "Validation Accuracy: 0.8338\n",
      "Epoch 3/10, Loss: 0.8214\n",
      "Validation Accuracy: 0.8366\n",
      "Epoch 4/10, Loss: 0.7704\n",
      "Validation Accuracy: 0.8461\n",
      "Epoch 5/10, Loss: 0.7257\n",
      "Validation Accuracy: 0.8533\n",
      "Epoch 6/10, Loss: 0.6876\n",
      "Validation Accuracy: 0.8545\n",
      "Epoch 7/10, Loss: 0.6575\n",
      "Validation Accuracy: 0.8560\n",
      "Epoch 8/10, Loss: 0.6405\n",
      "Validation Accuracy: 0.8606\n",
      "Epoch 9/10, Loss: 0.6181\n",
      "Validation Accuracy: 0.8632\n",
      "Epoch 10/10, Loss: 0.6052\n",
      "Validation Accuracy: 0.8627\n"
     ]
    }
   ],
   "source": [
    "n_epochs = 10\n",
    "\n",
    "for epoch in range(n_epochs):\n",
    "    model_cnn_2.train()  # Устанавливаем режим обучения\n",
    "    running_loss = 0.0\n",
    "\n",
    "    for data, target in train_loader:\n",
    "        optimizer.zero_grad()  # Обнуляем градиенты\n",
    "        output = model_cnn_2(data)  # Прямой проход через модель\n",
    "        loss = loss_function(output, target)  # Вычисление потерь\n",
    "        loss.backward()  # Обратный проход (вычисление градиентов)\n",
    "        optimizer.step()  # Обновление параметров\n",
    "\n",
    "        running_loss += loss.item()\n",
    "\n",
    "    print(f'Epoch {epoch + 1}/{n_epochs}, Loss: {running_loss / len(train_loader):.4f}')\n",
    "\n",
    "    # Валидация модели после каждой эпохи\n",
    "    model_cnn_2.eval()\n",
    "    correct = 0\n",
    "\n",
    "    with torch.no_grad():\n",
    "        for data, target in val_loader:\n",
    "            output = model_cnn_2(data)\n",
    "            pred = output.argmax(dim=1)\n",
    "            correct += pred.eq(target).sum().item()\n",
    "\n",
    "    accuracy = correct / len(val_loader.dataset)\n",
    "    print(f'Validation Accuracy: {accuracy:.4f}')\n"
   ]
  },
  {
   "cell_type": "code",
   "execution_count": 16,
   "id": "cfaab1ff",
   "metadata": {},
   "outputs": [],
   "source": [
    "# Сохранение модели в формате .ckpt\n",
    "torch.save(model_cnn_2.state_dict(), 'model_r_2.ckpt')"
   ]
  },
  {
   "cell_type": "code",
   "execution_count": 33,
   "id": "61aa0e8e",
   "metadata": {},
   "outputs": [
    {
     "name": "stderr",
     "output_type": "stream",
     "text": [
      "/tmp/ipykernel_6454/1951370409.py:3: FutureWarning: You are using `torch.load` with `weights_only=False` (the current default value), which uses the default pickle module implicitly. It is possible to construct malicious pickle data which will execute arbitrary code during unpickling (See https://github.com/pytorch/pytorch/blob/main/SECURITY.md#untrusted-models for more details). In a future release, the default value for `weights_only` will be flipped to `True`. This limits the functions that could be executed during unpickling. Arbitrary objects will no longer be allowed to be loaded via this mode unless they are explicitly allowlisted by the user via `torch.serialization.add_safe_globals`. We recommend you start setting `weights_only=True` for any use case where you don't have full control of the loaded file. Please open an issue on GitHub for any issues related to this experimental feature.\n",
      "  model.load_state_dict(torch.load('model_r_2.ckpt'))\n"
     ]
    },
    {
     "data": {
      "text/plain": [
       "==========================================================================================\n",
       "Layer (type:depth-idx)                   Output Shape              Param #\n",
       "==========================================================================================\n",
       "SimplifiedCNNModel                       [1, 47]                   --\n",
       "├─Conv2d: 1-1                            [1, 16, 28, 28]           160\n",
       "├─BatchNorm2d: 1-2                       [1, 16, 28, 28]           32\n",
       "├─MaxPool2d: 1-3                         [1, 16, 14, 14]           --\n",
       "├─Conv2d: 1-4                            [1, 32, 14, 14]           4,640\n",
       "├─BatchNorm2d: 1-5                       [1, 32, 14, 14]           64\n",
       "├─MaxPool2d: 1-6                         [1, 32, 7, 7]             --\n",
       "├─Linear: 1-7                            [1, 128]                  200,832\n",
       "├─Dropout: 1-8                           [1, 128]                  --\n",
       "├─Linear: 1-9                            [1, 47]                   6,063\n",
       "==========================================================================================\n",
       "Total params: 211,791\n",
       "Trainable params: 211,791\n",
       "Non-trainable params: 0\n",
       "Total mult-adds (Units.MEGABYTES): 1.24\n",
       "==========================================================================================\n",
       "Input size (MB): 0.00\n",
       "Forward/backward pass size (MB): 0.30\n",
       "Params size (MB): 0.85\n",
       "Estimated Total Size (MB): 1.15\n",
       "=========================================================================================="
      ]
     },
     "execution_count": 33,
     "metadata": {},
     "output_type": "execute_result"
    }
   ],
   "source": [
    "# Загрузка предварительно обученной модели\n",
    "model = SimplifiedCNNModel()  # модель уже определена\n",
    "model.load_state_dict(torch.load('model_r_2.ckpt'))\n",
    "\n",
    "# Вывод информации о модели\n",
    "summary(model, input_size=(1, 1, 28, 28))  # Указываем размер входного тензора [batch_size, channels, height, width]"
   ]
  },
  {
   "cell_type": "code",
   "execution_count": 30,
   "id": "0e227e1d",
   "metadata": {},
   "outputs": [],
   "source": [
    "class BigCNNModel(nn.Module):\n",
    "    def __init__(self):\n",
    "        super(BigCNNModel, self).__init__()\n",
    "        # Первый свертка + активация + подвыборка\n",
    "        self.conv1 = nn.Conv2d(1, 32, kernel_size=3, padding=1)  # 32 фильтра\n",
    "        self.bn1 = nn.BatchNorm2d(32)  # Нормализация\n",
    "        self.pool = nn.MaxPool2d(kernel_size=2, stride=2)  # Подвыборка\n",
    "        # Второй свертка + активация + подвыборка\n",
    "        self.conv2 = nn.Conv2d(32, 64, kernel_size=3, padding=1)  # 64 фильтра\n",
    "        self.bn2 = nn.BatchNorm2d(64)  # Нормализация\n",
    "        # Третий свертка\n",
    "        self.conv3 = nn.Conv2d(64, 128, kernel_size=3, padding=1)  # 128 фильтров\n",
    "        self.bn3 = nn.BatchNorm2d(128)  # Нормализация\n",
    "        # Полносвязные слои\n",
    "        self.fc1 = nn.Linear(128 * 3 * 3, 256)  # Измените размер в зависимости от входного размера\n",
    "        self.fc2 = nn.Linear(256, 47)  # Выходной слой для 47 классов\n",
    "        self.dropout = nn.Dropout(0.5)  # Дропаут для регуляризации\n",
    "\n",
    "    def forward(self, x):\n",
    "        x = self.pool(F.relu(self.bn1(self.conv1(x))))  # Свертка 1\n",
    "        x = self.pool(F.relu(self.bn2(self.conv2(x))))  # Свертка 2\n",
    "        x = self.pool(F.relu(self.bn3(self.conv3(x))))  # Свертка 3\n",
    "        x = x.view(-1, 128 * 3 * 3)  # Преобразование в вектор для полносвязного слоя\n",
    "        x = F.relu(self.fc1(x))\n",
    "        x = self.dropout(x)  # Применение дропаута\n",
    "        x = self.fc2(x)\n",
    "        return x"
   ]
  },
  {
   "cell_type": "code",
   "execution_count": 18,
   "id": "ac426ff8",
   "metadata": {},
   "outputs": [],
   "source": [
    "# Используем функцию для очистки состояния\n",
    "clear_training_state(model_cnn_2, optimizer)\n",
    "\n",
    "# Инициализация модели\n",
    "model_cnn_3 = BigCNNModel()\n",
    "\n",
    "# Оптимизатор и функция потерь\n",
    "optimizer = optim.Adam(model_cnn_3.parameters(), lr=0.001)  # Используем Adam с малой скоростью обучения\n",
    "loss_function = nn.CrossEntropyLoss()  # Функция потерь для многоклассовой классификации"
   ]
  },
  {
   "cell_type": "code",
   "execution_count": 19,
   "id": "744b7daa",
   "metadata": {},
   "outputs": [],
   "source": [
    "# Создание загрузчиков данных\n",
    "train_loader = DataLoader(train_data, batch_size=64, shuffle=True)\n",
    "val_loader = DataLoader(test_data, batch_size=64, shuffle=False)"
   ]
  },
  {
   "cell_type": "code",
   "execution_count": 20,
   "id": "04eeb1af",
   "metadata": {},
   "outputs": [
    {
     "name": "stdout",
     "output_type": "stream",
     "text": [
      "Epoch 1/10, Loss: 0.7890\n",
      "Validation Accuracy: 0.8571\n",
      "Epoch 2/10, Loss: 0.4864\n",
      "Validation Accuracy: 0.8695\n",
      "Epoch 3/10, Loss: 0.4280\n",
      "Validation Accuracy: 0.8720\n",
      "Epoch 4/10, Loss: 0.3953\n",
      "Validation Accuracy: 0.8810\n",
      "Epoch 5/10, Loss: 0.3711\n",
      "Validation Accuracy: 0.8848\n",
      "Epoch 6/10, Loss: 0.3521\n",
      "Validation Accuracy: 0.8843\n",
      "Epoch 7/10, Loss: 0.3326\n",
      "Validation Accuracy: 0.8842\n",
      "Epoch 8/10, Loss: 0.3184\n",
      "Validation Accuracy: 0.8831\n",
      "Epoch 9/10, Loss: 0.3034\n",
      "Validation Accuracy: 0.8866\n",
      "Epoch 10/10, Loss: 0.2920\n",
      "Validation Accuracy: 0.8894\n"
     ]
    }
   ],
   "source": [
    "n_epochs = 10\n",
    "\n",
    "for epoch in range(n_epochs):\n",
    "    model_cnn_3.train()  # Устанавливаем режим обучения\n",
    "    running_loss = 0.0\n",
    "\n",
    "    for data, target in train_loader:\n",
    "        optimizer.zero_grad()  # Обнуляем градиенты\n",
    "        output = model_cnn_3(data)  # Прямой проход через модель\n",
    "        loss = loss_function(output, target)  # Вычисление потерь\n",
    "        loss.backward()  # Обратный проход (вычисление градиентов)\n",
    "        optimizer.step()  # Обновление параметров\n",
    "\n",
    "        running_loss += loss.item()\n",
    "\n",
    "    print(f'Epoch {epoch + 1}/{n_epochs}, Loss: {running_loss / len(train_loader):.4f}')\n",
    "\n",
    "    # Валидация модели после каждой эпохи\n",
    "    model_cnn_3.eval()\n",
    "    correct = 0\n",
    "\n",
    "    with torch.no_grad():\n",
    "        for data, target in val_loader:\n",
    "            output = model_cnn_3(data)\n",
    "            pred = output.argmax(dim=1)\n",
    "            correct += pred.eq(target).sum().item()\n",
    "\n",
    "    accuracy = correct / len(val_loader.dataset)\n",
    "    print(f'Validation Accuracy: {accuracy:.4f}')"
   ]
  },
  {
   "cell_type": "code",
   "execution_count": 21,
   "id": "e46bf105",
   "metadata": {},
   "outputs": [],
   "source": [
    "# Сохранение модели в формате .ckpt\n",
    "torch.save(model_cnn_3.state_dict(), 'model_r_3.ckpt') "
   ]
  },
  {
   "cell_type": "code",
   "execution_count": 31,
   "id": "e5dd8eed",
   "metadata": {},
   "outputs": [
    {
     "name": "stderr",
     "output_type": "stream",
     "text": [
      "/tmp/ipykernel_6454/3100020335.py:3: FutureWarning: You are using `torch.load` with `weights_only=False` (the current default value), which uses the default pickle module implicitly. It is possible to construct malicious pickle data which will execute arbitrary code during unpickling (See https://github.com/pytorch/pytorch/blob/main/SECURITY.md#untrusted-models for more details). In a future release, the default value for `weights_only` will be flipped to `True`. This limits the functions that could be executed during unpickling. Arbitrary objects will no longer be allowed to be loaded via this mode unless they are explicitly allowlisted by the user via `torch.serialization.add_safe_globals`. We recommend you start setting `weights_only=True` for any use case where you don't have full control of the loaded file. Please open an issue on GitHub for any issues related to this experimental feature.\n",
      "  model.load_state_dict(torch.load('model_r_3.ckpt'))\n"
     ]
    },
    {
     "data": {
      "text/plain": [
       "==========================================================================================\n",
       "Layer (type:depth-idx)                   Output Shape              Param #\n",
       "==========================================================================================\n",
       "BigCNNModel                              [1, 47]                   --\n",
       "├─Conv2d: 1-1                            [1, 32, 28, 28]           320\n",
       "├─BatchNorm2d: 1-2                       [1, 32, 28, 28]           64\n",
       "├─MaxPool2d: 1-3                         [1, 32, 14, 14]           --\n",
       "├─Conv2d: 1-4                            [1, 64, 14, 14]           18,496\n",
       "├─BatchNorm2d: 1-5                       [1, 64, 14, 14]           128\n",
       "├─MaxPool2d: 1-6                         [1, 64, 7, 7]             --\n",
       "├─Conv2d: 1-7                            [1, 128, 7, 7]            73,856\n",
       "├─BatchNorm2d: 1-8                       [1, 128, 7, 7]            256\n",
       "├─MaxPool2d: 1-9                         [1, 128, 3, 3]            --\n",
       "├─Linear: 1-10                           [1, 256]                  295,168\n",
       "├─Dropout: 1-11                          [1, 256]                  --\n",
       "├─Linear: 1-12                           [1, 47]                   12,079\n",
       "==========================================================================================\n",
       "Total params: 400,367\n",
       "Trainable params: 400,367\n",
       "Non-trainable params: 0\n",
       "Total mult-adds (Units.MEGABYTES): 7.80\n",
       "==========================================================================================\n",
       "Input size (MB): 0.00\n",
       "Forward/backward pass size (MB): 0.70\n",
       "Params size (MB): 1.60\n",
       "Estimated Total Size (MB): 2.31\n",
       "=========================================================================================="
      ]
     },
     "execution_count": 31,
     "metadata": {},
     "output_type": "execute_result"
    }
   ],
   "source": [
    "# Загрузка предварительно обученной модели\n",
    "model = BigCNNModel()  # модель уже определена\n",
    "model.load_state_dict(torch.load('model_r_3.ckpt'))\n",
    "\n",
    "# Вывод информации о модели\n",
    "summary(model, input_size=(1, 1, 28, 28))  # Указываем размер входного тензора [batch_size, channels, height, width]"
   ]
  },
  {
   "cell_type": "code",
   "execution_count": 22,
   "id": "0aa60040",
   "metadata": {},
   "outputs": [
    {
     "name": "stderr",
     "output_type": "stream",
     "text": [
      "[W1231 21:01:11.107394415 NNPACK.cpp:61] Could not initialize NNPACK! Reason: Unsupported hardware.\n"
     ]
    },
    {
     "data": {
      "image/png": "[encoded data removed]",
      "text/plain": [
       "<Figure size 2000x500 with 10 Axes>"
      ]
     },
     "metadata": {},
     "output_type": "display_data"
    }
   ],
   "source": [
    "def predict(image):\n",
    "    # Применяем преобразования к изображению, если они требуются\n",
    "    # image = transform(input_image)  # Примените необходимые преобразования\n",
    "    # Убедитесь, что изображение имеет форму (1, 1, H, W) для модели\n",
    "    if image.dim() == 2:  # Если изображение 2D (H, W)\n",
    "        image = image.unsqueeze(0)  # Добавляем размер канала\n",
    "    image = image.unsqueeze(0)  # Добавляем размер батча\n",
    "\n",
    "    #print('image shape:', image.shape)\n",
    "\n",
    "    with torch.no_grad():  # Отключаем градиенты для повышения производительности\n",
    "        output = model_cnn_3(image)  # Получаем выход модели\n",
    "        _, predicted_class = torch.max(output.data, 1)  # Находим класс с максимальной вероятностью\n",
    "        predicted_label = predicted_class.item()  # Получаем метку класса как целое число\n",
    "        #print('predicted_label:', predicted_label)\n",
    "\n",
    "        pred = label_dict[predicted_label]  # Получаем предсказанную метку\n",
    "        #print('predicted symbol:', pred)\n",
    "\n",
    "    return pred\n",
    "\n",
    "# Проверяем предсказания\n",
    "fig, axs = plt.subplots(1, 10, figsize=(20, 5))\n",
    "for i in range(10):\n",
    "    random_index = np.random.randint(0, len(train_data))\n",
    "    #print('Random index:', random_index)\n",
    "    image, label = train_data[random_index]\n",
    "\n",
    "    # Преобразование изображения в NumPy массив для корректного отображения\n",
    "    image_np = image.squeeze(0).numpy()  # Убираем размер канала и преобразуем в NumPy массив\n",
    "\n",
    "    pred = predict(image)  # Предсказание для изображения\n",
    "\n",
    "    # Отображаем изображение\n",
    "    axs[i].imshow(image_np, cmap='gray')  # Используем cmap='gray' для черно-белых изображений\n",
    "    # Добавляем отображение истинной метки и предсказанного значения\n",
    "    axs[i].set_title(f'True: {label_dict[label]}\\nPred: {pred}')\n",
    "    axs[i].axis('off')\n",
    "\n",
    "plt.show()\n"
   ]
  },
  {
   "cell_type": "markdown",
   "id": "2b1768fd",
   "metadata": {},
   "source": [
    "# Final model"
   ]
  },
  {
   "cell_type": "code",
   "execution_count": 7,
   "id": "9dc0a38f",
   "metadata": {},
   "outputs": [],
   "source": [
    "# Используем функцию для очистки состояния\n",
    "#clear_training_state(model_cnn_3, optimizer)"
   ]
  },
  {
   "cell_type": "code",
   "execution_count": 8,
   "id": "04ab0394",
   "metadata": {},
   "outputs": [],
   "source": [
    "# Определение модели\n",
    "class ImprovedCNNModel(nn.Module):\n",
    "    def __init__(self):\n",
    "        super(ImprovedCNNModel, self).__init__()\n",
    "        self.conv1 = nn.Conv2d(1, 32, kernel_size=3, padding=1)\n",
    "        self.bn1 = nn.BatchNorm2d(32)\n",
    "        self.pool = nn.MaxPool2d(kernel_size=2, stride=2)\n",
    "        self.conv2 = nn.Conv2d(32, 64, kernel_size=3, padding=1)\n",
    "        self.bn2 = nn.BatchNorm2d(64)\n",
    "        self.fc1 = nn.Linear(64 * 7 * 7, 128)  # Убедитесь в правильном размере\n",
    "        self.fc2 = nn.Linear(128, 47)  # Для 47 классов\n",
    "\n",
    "    def forward(self, x):\n",
    "        x = self.pool(F.relu(self.bn1(self.conv1(x))))\n",
    "        x = self.pool(F.relu(self.bn2(self.conv2(x))))\n",
    "        x = x.view(-1, 64 * 7 * 7)\n",
    "        x = F.relu(self.fc1(x))\n",
    "        x = self.fc2(x)\n",
    "        return x"
   ]
  },
  {
   "cell_type": "code",
   "execution_count": 9,
   "id": "9d205ee3",
   "metadata": {},
   "outputs": [
    {
     "name": "stdout",
     "output_type": "stream",
     "text": [
      "Epoch 1/10, Loss: 0.6351\n",
      "Validation Accuracy: 0.8478\n",
      "Epoch 2/10, Loss: 0.4068\n",
      "Validation Accuracy: 0.8518\n",
      "Epoch 3/10, Loss: 0.3564\n",
      "Validation Accuracy: 0.8661\n",
      "Epoch 4/10, Loss: 0.3216\n",
      "Validation Accuracy: 0.8766\n",
      "Epoch 5/10, Loss: 0.2939\n",
      "Validation Accuracy: 0.8720\n",
      "Epoch 6/10, Loss: 0.2736\n",
      "Validation Accuracy: 0.8768\n",
      "Epoch 7/10, Loss: 0.2520\n",
      "Validation Accuracy: 0.8780\n",
      "Epoch 8/10, Loss: 0.2351\n",
      "Validation Accuracy: 0.8788\n",
      "Epoch 9/10, Loss: 0.2185\n",
      "Validation Accuracy: 0.8737\n",
      "Epoch 10/10, Loss: 0.2035\n",
      "Validation Accuracy: 0.8767\n"
     ]
    }
   ],
   "source": [
    "# Инициализация модели и оптимизатора\n",
    "model = ImprovedCNNModel()\n",
    "optimizer = optim.Adam(model.parameters(), lr=0.001)\n",
    "loss_function = nn.CrossEntropyLoss()\n",
    "\n",
    "# Обучение модели\n",
    "n_epochs = 10\n",
    "\n",
    "for epoch in range(n_epochs):\n",
    "    model.train()\n",
    "    running_loss = 0.0\n",
    "\n",
    "    for data, target in train_loader:\n",
    "        optimizer.zero_grad()\n",
    "        output = model(data)\n",
    "        loss = loss_function(output, target)\n",
    "        loss.backward()\n",
    "        optimizer.step()\n",
    "\n",
    "        running_loss += loss.item()\n",
    "\n",
    "    print(f'Epoch {epoch + 1}/{n_epochs}, Loss: {running_loss / len(train_loader):.4f}')\n",
    "\n",
    "    # Валидация модели после каждой эпохи\n",
    "    model.eval()\n",
    "    correct = 0\n",
    "\n",
    "    with torch.no_grad():\n",
    "        for data, target in val_loader:\n",
    "            output = model(data)\n",
    "            pred = output.argmax(dim=1)\n",
    "            correct += pred.eq(target).sum().item()\n",
    "\n",
    "    accuracy = correct / len(val_loader.dataset)\n",
    "    print(f'Validation Accuracy: {accuracy:.4f}')"
   ]
  },
  {
   "cell_type": "code",
   "execution_count": 10,
   "id": "fb499142",
   "metadata": {},
   "outputs": [
    {
     "name": "stdout",
     "output_type": "stream",
     "text": [
      "0\n",
      "Accuracy of class 0: 0.84\n",
      "1\n",
      "Accuracy of class 1: 0.76\n",
      "2\n",
      "Accuracy of class 2: 0.88\n",
      "3\n",
      "Accuracy of class 3: 0.97\n",
      "4\n",
      "Accuracy of class 4: 0.91\n",
      "5\n",
      "Accuracy of class 5: 0.90\n",
      "6\n",
      "Accuracy of class 6: 0.95\n",
      "7\n",
      "Accuracy of class 7: 0.98\n",
      "8\n",
      "Accuracy of class 8: 0.93\n",
      "9\n",
      "Accuracy of class 9: 0.76\n",
      "A\n",
      "Accuracy of class 10: 0.96\n",
      "B\n",
      "Accuracy of class 11: 0.96\n",
      "C\n",
      "Accuracy of class 12: 0.95\n",
      "D\n",
      "Accuracy of class 13: 0.89\n",
      "E\n",
      "Accuracy of class 14: 0.96\n",
      "F\n",
      "Accuracy of class 15: 0.87\n",
      "G\n",
      "Accuracy of class 16: 0.94\n",
      "H\n",
      "Accuracy of class 17: 0.96\n",
      "I\n",
      "Accuracy of class 18: 0.66\n",
      "J\n",
      "Accuracy of class 19: 0.95\n",
      "K\n",
      "Accuracy of class 20: 0.96\n",
      "L\n",
      "Accuracy of class 21: 0.46\n",
      "M\n",
      "Accuracy of class 22: 0.97\n",
      "N\n",
      "Accuracy of class 23: 0.98\n",
      "O\n",
      "Accuracy of class 24: 0.51\n",
      "P\n",
      "Accuracy of class 25: 0.97\n",
      "Q\n",
      "Accuracy of class 26: 0.94\n",
      "R\n",
      "Accuracy of class 27: 0.96\n",
      "S\n",
      "Accuracy of class 28: 0.93\n",
      "T\n",
      "Accuracy of class 29: 0.93\n",
      "U\n",
      "Accuracy of class 30: 0.93\n",
      "V\n",
      "Accuracy of class 31: 0.94\n",
      "W\n",
      "Accuracy of class 32: 0.98\n",
      "X\n",
      "Accuracy of class 33: 0.95\n",
      "Y\n",
      "Accuracy of class 34: 0.94\n",
      "Z\n",
      "Accuracy of class 35: 0.91\n",
      "a\n",
      "Accuracy of class 36: 0.90\n",
      "b\n",
      "Accuracy of class 37: 0.91\n",
      "d\n",
      "Accuracy of class 38: 0.95\n",
      "e\n",
      "Accuracy of class 39: 0.94\n",
      "f\n",
      "Accuracy of class 40: 0.29\n",
      "g\n",
      "Accuracy of class 41: 0.68\n",
      "h\n",
      "Accuracy of class 42: 0.94\n",
      "n\n",
      "Accuracy of class 43: 0.90\n",
      "q\n",
      "Accuracy of class 44: 0.59\n",
      "r\n",
      "Accuracy of class 45: 0.93\n",
      "t\n",
      "Accuracy of class 46: 0.93\n"
     ]
    }
   ],
   "source": [
    "\n",
    "# Инициализация переменных для хранения результатов\n",
    "class_correct = [0] * 47  # Для каждого из 47 классов\n",
    "class_total = [0] * 47\n",
    "\n",
    "# Оценка модели на тестовом наборе данных\n",
    "with torch.no_grad():\n",
    "    for data, target in val_loader:\n",
    "        output = model(data)  # Получение предсказаний от модели\n",
    "        _, predicted = torch.max(output, 1)  # Получение индексов классов с максимальным значением вероятности\n",
    "\n",
    "        # Подсчет правильных предсказаний для каждого класса\n",
    "        for i in range(len(target)):\n",
    "            label = target[i].item()  # Получение метки класса\n",
    "            class_correct[label] += (predicted[i] == label).item()  # Увеличение счетчика для правильного предсказания\n",
    "            class_total[label] += 1  # Увеличение общего количества примеров для данного класса\n",
    "\n",
    "# Вывод результатов по каждому классу\n",
    "for i in range(47):\n",
    "    if class_total[i] > 0:  # Избегаем деления на ноль\n",
    "        accuracy = class_correct[i] / class_total[i]\n",
    "        print(label_dict[i])\n",
    "        print(f'Accuracy of class {i}: {accuracy:.2f}')\n",
    "    else:\n",
    "        print(f'Class {i} has no samples in the test set.')"
   ]
  },
  {
   "cell_type": "code",
   "execution_count": 11,
   "id": "6dd26a48",
   "metadata": {},
   "outputs": [],
   "source": [
    "# Сохранение модели в формате .ckpt\n",
    "torch.save(model.state_dict(), 'model_rot_f.ckpt') "
   ]
  },
  {
   "cell_type": "code",
   "execution_count": 12,
   "id": "2a7ca1fd",
   "metadata": {},
   "outputs": [
    {
     "name": "stdout",
     "output_type": "stream",
     "text": [
      "Classes with accuracy < 0.87:\n",
      "0\n",
      "Accuracy of class 0: 0.84\n",
      "1\n",
      "Accuracy of class 1: 0.76\n",
      "9\n",
      "Accuracy of class 9: 0.76\n",
      "I\n",
      "Accuracy of class 18: 0.66\n",
      "L\n",
      "Accuracy of class 21: 0.46\n",
      "O\n",
      "Accuracy of class 24: 0.51\n",
      "f\n",
      "Accuracy of class 40: 0.29\n",
      "g\n",
      "Accuracy of class 41: 0.68\n",
      "q\n",
      "Accuracy of class 44: 0.59\n"
     ]
    }
   ],
   "source": [
    "# Вывод результатов по каждому классу с accuracy < 0.87\n",
    "print(\"Classes with accuracy < 0.87:\")\n",
    "for i in range(47):\n",
    "    if class_total[i] > 0:  # Избегаем деления на ноль\n",
    "        accuracy = class_correct[i] / class_total[i]\n",
    "        if accuracy < 0.87:  # Проверяем условие на точность\n",
    "            print(label_dict[i])  # Выводим метку класса\n",
    "            print(f'Accuracy of class {i}: {accuracy:.2f}')\n",
    "    else:\n",
    "        print(f'Class {i} has no samples in the test set.')"
   ]
  },
  {
   "cell_type": "code",
   "execution_count": 26,
   "id": "5eda6475",
   "metadata": {},
   "outputs": [
    {
     "name": "stderr",
     "output_type": "stream",
     "text": [
      "/tmp/ipykernel_6454/2442658450.py:3: FutureWarning: You are using `torch.load` with `weights_only=False` (the current default value), which uses the default pickle module implicitly. It is possible to construct malicious pickle data which will execute arbitrary code during unpickling (See https://github.com/pytorch/pytorch/blob/main/SECURITY.md#untrusted-models for more details). In a future release, the default value for `weights_only` will be flipped to `True`. This limits the functions that could be executed during unpickling. Arbitrary objects will no longer be allowed to be loaded via this mode unless they are explicitly allowlisted by the user via `torch.serialization.add_safe_globals`. We recommend you start setting `weights_only=True` for any use case where you don't have full control of the loaded file. Please open an issue on GitHub for any issues related to this experimental feature.\n",
      "  model.load_state_dict(torch.load('model_rot_f.ckpt'))\n"
     ]
    },
    {
     "data": {
      "text/plain": [
       "<All keys matched successfully>"
      ]
     },
     "execution_count": 26,
     "metadata": {},
     "output_type": "execute_result"
    }
   ],
   "source": [
    "# Загрузка предварительно обученной модели\n",
    "model = ImprovedCNNModel()  # модель уже определена\n",
    "model.load_state_dict(torch.load('model_rot_f.ckpt'))"
   ]
  },
  {
   "cell_type": "code",
   "execution_count": 29,
   "id": "d754075e",
   "metadata": {},
   "outputs": [
    {
     "name": "stderr",
     "output_type": "stream",
     "text": [
      "[W104 14:29:23.533522689 NNPACK.cpp:61] Could not initialize NNPACK! Reason: Unsupported hardware.\n"
     ]
    },
    {
     "data": {
      "text/plain": [
       "==========================================================================================\n",
       "Layer (type:depth-idx)                   Output Shape              Param #\n",
       "==========================================================================================\n",
       "ImprovedCNNModel                         [1, 47]                   --\n",
       "├─Conv2d: 1-1                            [1, 32, 28, 28]           320\n",
       "├─BatchNorm2d: 1-2                       [1, 32, 28, 28]           64\n",
       "├─MaxPool2d: 1-3                         [1, 32, 14, 14]           --\n",
       "├─Conv2d: 1-4                            [1, 64, 14, 14]           18,496\n",
       "├─BatchNorm2d: 1-5                       [1, 64, 14, 14]           128\n",
       "├─MaxPool2d: 1-6                         [1, 64, 7, 7]             --\n",
       "├─Linear: 1-7                            [1, 128]                  401,536\n",
       "├─Linear: 1-8                            [1, 47]                   6,063\n",
       "==========================================================================================\n",
       "Total params: 426,607\n",
       "Trainable params: 426,607\n",
       "Non-trainable params: 0\n",
       "Total mult-adds (Units.MEGABYTES): 4.28\n",
       "==========================================================================================\n",
       "Input size (MB): 0.00\n",
       "Forward/backward pass size (MB): 0.60\n",
       "Params size (MB): 1.71\n",
       "Estimated Total Size (MB): 2.31\n",
       "=========================================================================================="
      ]
     },
     "execution_count": 29,
     "metadata": {},
     "output_type": "execute_result"
    }
   ],
   "source": [
    "# Вывод информации о модели\n",
    "summary(model, input_size=(1, 1, 28, 28))  # Указываем размер входного тензора [batch_size, channels, height, width]"
   ]
  },
  {
   "cell_type": "code",
   "execution_count": null,
   "id": "d492710a",
   "metadata": {},
   "outputs": [],
   "source": []
  },
  {
   "cell_type": "markdown",
   "id": "bccc3241",
   "metadata": {},
   "source": [
    "# Optuna"
   ]
  },
  {
   "cell_type": "code",
   "execution_count": 16,
   "id": "68ac8480",
   "metadata": {},
   "outputs": [],
   "source": [
    "# Используем функцию для очистки состояния\n",
    "clear_training_state(model, optimizer)\n",
    "\n",
    "# Создание загрузчиков данных\n",
    "train_loader = DataLoader(train_data, batch_size=64, shuffle=True)\n",
    "val_loader = DataLoader(test_data, batch_size=64, shuffle=False)"
   ]
  },
  {
   "cell_type": "code",
   "execution_count": 21,
   "id": "a456a010",
   "metadata": {},
   "outputs": [],
   "source": [
    "# Определение модели\n",
    "class TunedCNNModel(nn.Module):\n",
    "    def __init__(self, dropout_rate=0.5):\n",
    "        super(TunedCNNModel, self).__init__()\n",
    "        self.conv1 = nn.Conv2d(1, 32, kernel_size=3, padding=1)\n",
    "        self.bn1 = nn.BatchNorm2d(32)\n",
    "        self.pool = nn.MaxPool2d(kernel_size=2, stride=2)\n",
    "        self.conv2 = nn.Conv2d(32, 64, kernel_size=3, padding=1)\n",
    "        self.bn2 = nn.BatchNorm2d(64)\n",
    "        self.fc1 = nn.Linear(64 * 7 * 7, 128)  # Убедитесь в правильном размере\n",
    "        self.fc2 = nn.Linear(128, 47)  # Для 47 классов\n",
    "        self.dropout = nn.Dropout(dropout_rate)\n",
    "\n",
    "    def forward(self, x):\n",
    "        x = self.pool(F.relu(self.bn1(self.conv1(x))))\n",
    "        x = self.pool(F.relu(self.bn2(self.conv2(x))))\n",
    "        x = x.view(-1, 64 * 7 * 7)\n",
    "        x = F.relu(self.fc1(x))\n",
    "        x = self.dropout(x)\n",
    "        x = self.fc2(x)\n",
    "        return x\n",
    "\n"
   ]
  },
  {
   "cell_type": "code",
   "execution_count": 22,
   "id": "8f66d6b4",
   "metadata": {},
   "outputs": [],
   "source": [
    "# Инициализация модели и оптимизатора\n",
    "model = TunedCNNModel()#.to(device)\n",
    "optimizer = optim.Adam(model.parameters(), lr=0.001)\n",
    "loss_function = nn.CrossEntropyLoss()"
   ]
  },
  {
   "cell_type": "code",
   "execution_count": 23,
   "id": "dca098d0",
   "metadata": {},
   "outputs": [],
   "source": [
    "# Функция для обучения и валидации модели\n",
    "def objective(trial):\n",
    "    # Подбор гиперпараметров\n",
    "    dropout_rate = trial.suggest_float('dropout_rate', 0.1, 0.5)\n",
    "    lr = trial.suggest_loguniform('lr', 1e-5, 1e-1)\n",
    "\n",
    "    model = TunedCNNModel(dropout_rate=dropout_rate)\n",
    "    optimizer = optim.Adam(model.parameters(), lr=lr)\n",
    "    loss_function = nn.CrossEntropyLoss()\n",
    "\n",
    "    # Обучение модели\n",
    "    n_epochs = 5\n",
    "    for epoch in range(n_epochs):\n",
    "        model.train()\n",
    "        running_loss = 0.0\n",
    "\n",
    "        for data, target in train_loader:\n",
    "            optimizer.zero_grad()\n",
    "            output = model(data)\n",
    "            loss = loss_function(output, target)\n",
    "            loss.backward()\n",
    "            optimizer.step()\n",
    "            running_loss += loss.item()\n",
    "\n",
    "    # Валидация модели\n",
    "    model.eval()\n",
    "    correct = 0\n",
    "    with torch.no_grad():\n",
    "        for data, target in val_loader:\n",
    "            output = model(data)\n",
    "            pred = output.argmax(dim=1)\n",
    "            correct += pred.eq(target).sum().item()\n",
    "\n",
    "    accuracy = correct / len(val_loader.dataset)\n",
    "\n",
    "    return accuracy"
   ]
  },
  {
   "cell_type": "code",
   "execution_count": 25,
   "id": "7e586b10",
   "metadata": {},
   "outputs": [
    {
     "name": "stderr",
     "output_type": "stream",
     "text": [
      "[I 2025-01-04 11:18:18,627] A new study created in memory with name: no-name-e1bb66ec-60ff-44a0-9629-f96b5d0c6b75\n",
      "/tmp/ipykernel_6454/123219436.py:5: FutureWarning: suggest_loguniform has been deprecated in v3.0.0. This feature will be removed in v6.0.0. See https://github.com/optuna/optuna/releases/tag/v3.0.0. Use suggest_float(..., log=True) instead.\n",
      "  lr = trial.suggest_loguniform('lr', 1e-5, 1e-1)\n",
      "[I 2025-01-04 11:54:00,500] Trial 0 finished with value: 0.02127659574468085 and parameters: {'dropout_rate': 0.21792267578828473, 'lr': 0.02426779378495144}. Best is trial 0 with value: 0.02127659574468085.\n",
      "[I 2025-01-04 12:22:40,954] Trial 1 finished with value: 0.825 and parameters: {'dropout_rate': 0.1874856080681782, 'lr': 1.35497681455632e-05}. Best is trial 1 with value: 0.825.\n",
      "[I 2025-01-04 12:55:17,474] Trial 2 finished with value: 0.27617021276595743 and parameters: {'dropout_rate': 0.3700366081357598, 'lr': 0.07004427573568306}. Best is trial 1 with value: 0.825.\n",
      "[I 2025-01-04 13:26:17,479] Trial 3 finished with value: 0.8692553191489362 and parameters: {'dropout_rate': 0.19849537410805584, 'lr': 0.00012775760131190938}. Best is trial 3 with value: 0.8692553191489362.\n",
      "[I 2025-01-04 13:59:27,367] Trial 4 finished with value: 0.8553723404255319 and parameters: {'dropout_rate': 0.10986196743957706, 'lr': 0.003148925498241857}. Best is trial 3 with value: 0.8692553191489362.\n"
     ]
    },
    {
     "name": "stdout",
     "output_type": "stream",
     "text": [
      "Best hyperparameters:  {'dropout_rate': 0.19849537410805584, 'lr': 0.00012775760131190938}\n",
      "Best accuracy:  0.8692553191489362\n"
     ]
    }
   ],
   "source": [
    "# Запуск оптимизации гиперпараметров с помощью Optuna\n",
    "study = optuna.create_study(direction='maximize')\n",
    "study.optimize(objective, n_trials=5)\n",
    "\n",
    "# Вывод лучших гиперпараметров\n",
    "print(\"Best hyperparameters: \", study.best_params)\n",
    "print(\"Best accuracy: \", study.best_value)"
   ]
  },
  {
   "cell_type": "markdown",
   "id": "5357fe78",
   "metadata": {},
   "source": [
    "# Enhanced"
   ]
  },
  {
   "cell_type": "code",
   "execution_count": 36,
   "id": "c016ccb5",
   "metadata": {},
   "outputs": [],
   "source": [
    "class EnhancedCNNModel(nn.Module):\n",
    "    def __init__(self):\n",
    "        super(EnhancedCNNModel, self).__init__()\n",
    "        self.conv1 = nn.Conv2d(1, 32, kernel_size=3, padding=1)\n",
    "        self.bn1 = nn.BatchNorm2d(32)\n",
    "        self.pool = nn.MaxPool2d(kernel_size=2, stride=2)\n",
    "        self.conv2 = nn.Conv2d(32, 64, kernel_size=3, padding=1)\n",
    "        self.bn2 = nn.BatchNorm2d(64)\n",
    "        self.dropout = nn.Dropout(0.5)  # Дропаут для регуляризации\n",
    "        self.fc1 = nn.Linear(64 * 7 * 7, 128)  \n",
    "        self.fc2 = nn.Linear(128, 47)  \n",
    "\n",
    "    def forward(self, x):\n",
    "        x = self.pool(F.relu(self.bn1(self.conv1(x))))\n",
    "        x = self.pool(F.relu(self.bn2(self.conv2(x))))\n",
    "        x = x.view(-1, 64 * 7 * 7)\n",
    "        x = F.relu(self.fc1(x))\n",
    "        x = self.dropout(x)  # Применение дропаута перед выходным слоем\n",
    "        x = self.fc2(x)\n",
    "        return x"
   ]
  },
  {
   "cell_type": "code",
   "execution_count": 37,
   "id": "a0397119",
   "metadata": {},
   "outputs": [],
   "source": [
    "# Используем функцию для очистки состояния\n",
    "clear_training_state(model, optimizer)\n",
    "\n",
    "# Создание загрузчиков данных\n",
    "train_loader = DataLoader(train_data, batch_size=64, shuffle=True)\n",
    "val_loader = DataLoader(test_data, batch_size=64, shuffle=False)"
   ]
  },
  {
   "cell_type": "code",
   "execution_count": 38,
   "id": "280b609d",
   "metadata": {},
   "outputs": [],
   "source": [
    "def train_model(model, train_loader, val_loader):\n",
    "    optimizer = optim.Adam(model.parameters(), lr=0.001)\n",
    "    loss_function = nn.CrossEntropyLoss()\n",
    "    \n",
    "    n_epochs = 10\n",
    "    for epoch in range(n_epochs):\n",
    "        model.train()\n",
    "        running_loss = 0.0\n",
    "        \n",
    "        for data, target in train_loader:\n",
    "            optimizer.zero_grad()\n",
    "            output = model(data)\n",
    "            loss = loss_function(output, target)\n",
    "            loss.backward()\n",
    "            optimizer.step()\n",
    "            running_loss += loss.item()\n",
    "\n",
    "        print(f'Epoch {epoch + 1}/{n_epochs}, Loss: {running_loss / len(train_loader):.4f}')\n",
    "\n",
    "        # Валидация модели после каждой эпохи\n",
    "        model.eval()\n",
    "        correct = 0\n",
    "        \n",
    "        with torch.no_grad():\n",
    "            for data, target in val_loader:\n",
    "                output = model(data)\n",
    "                pred = output.argmax(dim=1)\n",
    "                correct += pred.eq(target).sum().item()\n",
    "\n",
    "        accuracy = correct / len(val_loader.dataset)\n",
    "        print(f'Validation Accuracy: {accuracy:.4f}')\n",
    "\n",
    "\n"
   ]
  },
  {
   "cell_type": "code",
   "execution_count": 39,
   "id": "f2a3eba6",
   "metadata": {},
   "outputs": [
    {
     "name": "stdout",
     "output_type": "stream",
     "text": [
      "Epoch 1/10, Loss: 1.2413\n",
      "Validation Accuracy: 0.8215\n",
      "Epoch 2/10, Loss: 0.8605\n",
      "Validation Accuracy: 0.8388\n",
      "Epoch 3/10, Loss: 0.7670\n",
      "Validation Accuracy: 0.8452\n",
      "Epoch 4/10, Loss: 0.7005\n",
      "Validation Accuracy: 0.8539\n",
      "Epoch 5/10, Loss: 0.6604\n",
      "Validation Accuracy: 0.8551\n",
      "Epoch 6/10, Loss: 0.6216\n",
      "Validation Accuracy: 0.8645\n",
      "Epoch 7/10, Loss: 0.5936\n",
      "Validation Accuracy: 0.8680\n",
      "Epoch 8/10, Loss: 0.5727\n",
      "Validation Accuracy: 0.8690\n",
      "Epoch 9/10, Loss: 0.5520\n",
      "Validation Accuracy: 0.8689\n",
      "Epoch 10/10, Loss: 0.5388\n",
      "Validation Accuracy: 0.8685\n"
     ]
    }
   ],
   "source": [
    "# Инициализация и обучение модели\n",
    "model = EnhancedCNNModel()\n",
    "train_model(model, train_loader, val_loader)"
   ]
  },
  {
   "cell_type": "code",
   "execution_count": 40,
   "id": "61b1a281",
   "metadata": {},
   "outputs": [
    {
     "name": "stdout",
     "output_type": "stream",
     "text": [
      "0\n",
      "Accuracy of class 0: 0.26\n",
      "1\n",
      "Accuracy of class 1: 0.77\n",
      "2\n",
      "Accuracy of class 2: 0.90\n",
      "3\n",
      "Accuracy of class 3: 0.97\n",
      "4\n",
      "Accuracy of class 4: 0.89\n",
      "5\n",
      "Accuracy of class 5: 0.83\n",
      "6\n",
      "Accuracy of class 6: 0.95\n",
      "7\n",
      "Accuracy of class 7: 0.99\n",
      "8\n",
      "Accuracy of class 8: 0.95\n",
      "9\n",
      "Accuracy of class 9: 0.86\n",
      "A\n",
      "Accuracy of class 10: 0.97\n",
      "B\n",
      "Accuracy of class 11: 0.95\n",
      "C\n",
      "Accuracy of class 12: 0.95\n",
      "D\n",
      "Accuracy of class 13: 0.90\n",
      "E\n",
      "Accuracy of class 14: 0.98\n",
      "F\n",
      "Accuracy of class 15: 0.58\n",
      "G\n",
      "Accuracy of class 16: 0.96\n",
      "H\n",
      "Accuracy of class 17: 0.96\n",
      "I\n",
      "Accuracy of class 18: 0.64\n",
      "J\n",
      "Accuracy of class 19: 0.93\n",
      "K\n",
      "Accuracy of class 20: 0.96\n",
      "L\n",
      "Accuracy of class 21: 0.41\n",
      "M\n",
      "Accuracy of class 22: 0.98\n",
      "N\n",
      "Accuracy of class 23: 0.95\n",
      "O\n",
      "Accuracy of class 24: 0.89\n",
      "P\n",
      "Accuracy of class 25: 0.96\n",
      "Q\n",
      "Accuracy of class 26: 0.92\n",
      "R\n",
      "Accuracy of class 27: 0.97\n",
      "S\n",
      "Accuracy of class 28: 0.94\n",
      "T\n",
      "Accuracy of class 29: 0.92\n",
      "U\n",
      "Accuracy of class 30: 0.91\n",
      "V\n",
      "Accuracy of class 31: 0.94\n",
      "W\n",
      "Accuracy of class 32: 0.99\n",
      "X\n",
      "Accuracy of class 33: 0.94\n",
      "Y\n",
      "Accuracy of class 34: 0.88\n",
      "Z\n",
      "Accuracy of class 35: 0.89\n",
      "a\n",
      "Accuracy of class 36: 0.87\n",
      "b\n",
      "Accuracy of class 37: 0.92\n",
      "d\n",
      "Accuracy of class 38: 0.96\n",
      "e\n",
      "Accuracy of class 39: 0.98\n",
      "f\n",
      "Accuracy of class 40: 0.65\n",
      "g\n",
      "Accuracy of class 41: 0.54\n",
      "h\n",
      "Accuracy of class 42: 0.93\n",
      "n\n",
      "Accuracy of class 43: 0.94\n",
      "q\n",
      "Accuracy of class 44: 0.56\n",
      "r\n",
      "Accuracy of class 45: 0.95\n",
      "t\n",
      "Accuracy of class 46: 0.89\n"
     ]
    }
   ],
   "source": [
    "\n",
    "# Инициализация переменных для хранения результатов\n",
    "class_correct = [0] * 47  # Для каждого из 47 классов\n",
    "class_total = [0] * 47\n",
    "\n",
    "# Оценка модели на тестовом наборе данных\n",
    "with torch.no_grad():\n",
    "    for data, target in val_loader:\n",
    "        output = model(data)  # Получение предсказаний от модели\n",
    "        _, predicted = torch.max(output, 1)  # Получение индексов классов с максимальным значением вероятности\n",
    "\n",
    "        # Подсчет правильных предсказаний для каждого класса\n",
    "        for i in range(len(target)):\n",
    "            label = target[i].item()  # Получение метки класса\n",
    "            class_correct[label] += (predicted[i] == label).item()  # Увеличение счетчика для правильного предсказания\n",
    "            class_total[label] += 1  # Увеличение общего количества примеров для данного класса\n",
    "\n",
    "# Вывод результатов по каждому классу\n",
    "for i in range(47):\n",
    "    if class_total[i] > 0:  # Избегаем деления на ноль\n",
    "        accuracy = class_correct[i] / class_total[i]\n",
    "        print(label_dict[i])\n",
    "        print(f'Accuracy of class {i}: {accuracy:.2f}')\n",
    "    else:\n",
    "        print(f'Class {i} has no samples in the test set.')"
   ]
  },
  {
   "cell_type": "code",
   "execution_count": 41,
   "id": "f8a084f7",
   "metadata": {},
   "outputs": [
    {
     "name": "stdout",
     "output_type": "stream",
     "text": [
      "Classes with accuracy < 0.87:\n",
      "0\n",
      "Accuracy of class 0: 0.26\n",
      "1\n",
      "Accuracy of class 1: 0.77\n",
      "5\n",
      "Accuracy of class 5: 0.83\n",
      "9\n",
      "Accuracy of class 9: 0.86\n",
      "F\n",
      "Accuracy of class 15: 0.58\n",
      "I\n",
      "Accuracy of class 18: 0.64\n",
      "L\n",
      "Accuracy of class 21: 0.41\n",
      "f\n",
      "Accuracy of class 40: 0.65\n",
      "g\n",
      "Accuracy of class 41: 0.54\n",
      "q\n",
      "Accuracy of class 44: 0.56\n"
     ]
    }
   ],
   "source": [
    "# Вывод результатов по каждому классу с accuracy < 0.87\n",
    "print(\"Classes with accuracy < 0.87:\")\n",
    "for i in range(47):\n",
    "    if class_total[i] > 0:  # Избегаем деления на ноль\n",
    "        accuracy = class_correct[i] / class_total[i]\n",
    "        if accuracy < 0.87:  # Проверяем условие на точность\n",
    "            print(label_dict[i])  # Выводим метку класса\n",
    "            print(f'Accuracy of class {i}: {accuracy:.2f}')\n",
    "    else:\n",
    "        print(f'Class {i} has no samples in the test set.')"
   ]
  },
  {
   "cell_type": "code",
   "execution_count": 42,
   "id": "3f2293e7",
   "metadata": {},
   "outputs": [],
   "source": [
    "# Сохранение модели в формате .ckpt\n",
    "torch.save(model.state_dict(), 'model_rot_enh.ckpt') "
   ]
  },
  {
   "cell_type": "code",
   "execution_count": null,
   "id": "5d30a757",
   "metadata": {},
   "outputs": [],
   "source": [
    "# Загрузка предварительно обученной модели\n",
    "model = ImprovedCNNModel()  # модель уже определена\n",
    "model.load_state_dict(torch.load('model_rot_enh.ckpt'))"
   ]
  },
  {
   "cell_type": "code",
   "execution_count": 43,
   "id": "48390af6",
   "metadata": {},
   "outputs": [
    {
     "data": {
      "text/plain": [
       "==========================================================================================\n",
       "Layer (type:depth-idx)                   Output Shape              Param #\n",
       "==========================================================================================\n",
       "EnhancedCNNModel                         [1, 47]                   --\n",
       "├─Conv2d: 1-1                            [1, 32, 28, 28]           320\n",
       "├─BatchNorm2d: 1-2                       [1, 32, 28, 28]           64\n",
       "├─MaxPool2d: 1-3                         [1, 32, 14, 14]           --\n",
       "├─Conv2d: 1-4                            [1, 64, 14, 14]           18,496\n",
       "├─BatchNorm2d: 1-5                       [1, 64, 14, 14]           128\n",
       "├─MaxPool2d: 1-6                         [1, 64, 7, 7]             --\n",
       "├─Linear: 1-7                            [1, 128]                  401,536\n",
       "├─Dropout: 1-8                           [1, 128]                  --\n",
       "├─Linear: 1-9                            [1, 47]                   6,063\n",
       "==========================================================================================\n",
       "Total params: 426,607\n",
       "Trainable params: 426,607\n",
       "Non-trainable params: 0\n",
       "Total mult-adds (Units.MEGABYTES): 4.28\n",
       "==========================================================================================\n",
       "Input size (MB): 0.00\n",
       "Forward/backward pass size (MB): 0.60\n",
       "Params size (MB): 1.71\n",
       "Estimated Total Size (MB): 2.31\n",
       "=========================================================================================="
      ]
     },
     "execution_count": 43,
     "metadata": {},
     "output_type": "execute_result"
    }
   ],
   "source": [
    "# Вывод информации о модели\n",
    "summary(model, input_size=(1, 1, 28, 28))  # Указываем размер входного тензора [batch_size, channels, height, width]"
   ]
  }
 ],
 "metadata": {
  "colab": {
   "provenance": []
  },
  "kernelspec": {
   "display_name": "torch",
   "language": "python",
   "name": "python3"
  },
  "language_info": {
   "codemirror_mode": {
    "name": "ipython",
    "version": 3
   },
   "file_extension": ".py",
   "mimetype": "text/x-python",
   "name": "python",
   "nbconvert_exporter": "python",
   "pygments_lexer": "ipython3",
   "version": "3.11.11"
  }
 },
 "nbformat": 4,
 "nbformat_minor": 5
}
