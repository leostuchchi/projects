{
 "cells": [
  {
   "cell_type": "code",
   "execution_count": 1,
   "metadata": {},
   "outputs": [],
   "source": [
    "import torch\n",
    "import torch.nn as nn\n",
    "from torchinfo import summary  # Убедитесь, что вы установили torchinfo"
   ]
  },
  {
   "cell_type": "markdown",
   "metadata": {},
   "source": [
    "Чтобы извлечь информацию о модели из файла model.ckpt, который является моделью PyTorch, вы можете использовать несколько методов. Важно понимать, что model.ckpt может содержать как состояние модели (веса), так и дополнительные метаданные, такие как параметры обучения и информация о текущем состоянии обучения.\n",
    "Пример кода для извлечения информации о модели\n",
    "Ниже приведен пример кода, который демонстрирует, как загрузить модель из файла model.ckpt, получить информацию о ее архитектуре и параметрах, а также вывести сводку о модели."
   ]
  },
  {
   "cell_type": "code",
   "execution_count": 2,
   "metadata": {},
   "outputs": [],
   "source": [
    "# Определите вашу модель (или импортируйте её из другого файла)\n",
    "class CNNModel(nn.Module):\n",
    "    def __init__(self):\n",
    "        super(CNNModel, self).__init__()\n",
    "        self.conv1 = nn.Conv2d(1, 32, kernel_size=3, padding=1)\n",
    "        self.conv2 = nn.Conv2d(32, 64, kernel_size=3, padding=1)\n",
    "        self.pool = nn.MaxPool2d(kernel_size=2, stride=2)\n",
    "        self.fc1 = nn.Linear(64 * 7 * 7, 128)\n",
    "        self.fc2 = nn.Linear(128, 47)  # 47 классов для EMNIST\n",
    "\n",
    "    def forward(self, x):\n",
    "        x = self.pool(torch.relu(self.conv1(x)))\n",
    "        x = self.pool(torch.relu(self.conv2(x)))\n",
    "        x = x.view(-1, 64 * 7 * 7)\n",
    "        x = torch.relu(self.fc1(x))\n",
    "        x = self.fc2(x)\n",
    "        return x"
   ]
  },
  {
   "cell_type": "code",
   "execution_count": 3,
   "metadata": {},
   "outputs": [],
   "source": [
    "# Загрузка модели\n",
    "def load_model(model_path):\n",
    "    model = CNNModel()  # Инициализация модели\n",
    "    model.load_state_dict(torch.load(model_path))  # Загрузка весов модели\n",
    "    model.eval()  # Переключение в режим оценки\n",
    "    return model"
   ]
  },
  {
   "cell_type": "code",
   "execution_count": 4,
   "metadata": {},
   "outputs": [],
   "source": [
    "# Вывод информации о модели\n",
    "def print_model_summary(model):\n",
    "    print(summary(model, input_size=(1, 1, 28, 28)))  # Предполагается вход размером (batch_size=1, channels=1, height=28, width=28)"
   ]
  },
  {
   "cell_type": "code",
   "execution_count": 7,
   "metadata": {},
   "outputs": [],
   "source": [
    "model_path = 'myapp/model_from_archive.ckpt'  # Укажите путь к вашему файлу .ckpt"
   ]
  },
  {
   "cell_type": "code",
   "execution_count": 8,
   "metadata": {},
   "outputs": [
    {
     "name": "stderr",
     "output_type": "stream",
     "text": [
      "/tmp/ipykernel_23293/2245479562.py:4: FutureWarning: You are using `torch.load` with `weights_only=False` (the current default value), which uses the default pickle module implicitly. It is possible to construct malicious pickle data which will execute arbitrary code during unpickling (See https://github.com/pytorch/pytorch/blob/main/SECURITY.md#untrusted-models for more details). In a future release, the default value for `weights_only` will be flipped to `True`. This limits the functions that could be executed during unpickling. Arbitrary objects will no longer be allowed to be loaded via this mode unless they are explicitly allowlisted by the user via `torch.serialization.add_safe_globals`. We recommend you start setting `weights_only=True` for any use case where you don't have full control of the loaded file. Please open an issue on GitHub for any issues related to this experimental feature.\n",
      "  model.load_state_dict(torch.load(model_path))  # Загрузка весов модели\n"
     ]
    },
    {
     "ename": "RuntimeError",
     "evalue": "Error(s) in loading state_dict for CNNModel:\n\tMissing key(s) in state_dict: \"conv1.weight\", \"conv1.bias\", \"conv2.weight\", \"conv2.bias\", \"fc1.weight\", \"fc1.bias\", \"fc2.weight\", \"fc2.bias\". \n\tUnexpected key(s) in state_dict: \"fc.0.weight\", \"fc.0.bias\", \"fc.3.weight\", \"fc.3.bias\", \"conv1.0.weight\", \"conv1.0.bias\", \"conv2.0.weight\", \"conv2.0.bias\". ",
     "output_type": "error",
     "traceback": [
      "\u001b[0;31m---------------------------------------------------------------------------\u001b[0m",
      "\u001b[0;31mRuntimeError\u001b[0m                              Traceback (most recent call last)",
      "Cell \u001b[0;32mIn[8], line 1\u001b[0m\n\u001b[0;32m----> 1\u001b[0m model \u001b[38;5;241m=\u001b[39m \u001b[43mload_model\u001b[49m\u001b[43m(\u001b[49m\u001b[43mmodel_path\u001b[49m\u001b[43m)\u001b[49m  \u001b[38;5;66;03m# Загрузка модели\u001b[39;00m\n",
      "Cell \u001b[0;32mIn[3], line 4\u001b[0m, in \u001b[0;36mload_model\u001b[0;34m(model_path)\u001b[0m\n\u001b[1;32m      2\u001b[0m \u001b[38;5;28;01mdef\u001b[39;00m \u001b[38;5;21mload_model\u001b[39m(model_path):\n\u001b[1;32m      3\u001b[0m     model \u001b[38;5;241m=\u001b[39m CNNModel()  \u001b[38;5;66;03m# Инициализация модели\u001b[39;00m\n\u001b[0;32m----> 4\u001b[0m     \u001b[43mmodel\u001b[49m\u001b[38;5;241;43m.\u001b[39;49m\u001b[43mload_state_dict\u001b[49m\u001b[43m(\u001b[49m\u001b[43mtorch\u001b[49m\u001b[38;5;241;43m.\u001b[39;49m\u001b[43mload\u001b[49m\u001b[43m(\u001b[49m\u001b[43mmodel_path\u001b[49m\u001b[43m)\u001b[49m\u001b[43m)\u001b[49m  \u001b[38;5;66;03m# Загрузка весов модели\u001b[39;00m\n\u001b[1;32m      5\u001b[0m     model\u001b[38;5;241m.\u001b[39meval()  \u001b[38;5;66;03m# Переключение в режим оценки\u001b[39;00m\n\u001b[1;32m      6\u001b[0m     \u001b[38;5;28;01mreturn\u001b[39;00m model\n",
      "File \u001b[0;32m~/anaconda3/envs/torch/lib/python3.11/site-packages/torch/nn/modules/module.py:2584\u001b[0m, in \u001b[0;36mModule.load_state_dict\u001b[0;34m(self, state_dict, strict, assign)\u001b[0m\n\u001b[1;32m   2576\u001b[0m         error_msgs\u001b[38;5;241m.\u001b[39minsert(\n\u001b[1;32m   2577\u001b[0m             \u001b[38;5;241m0\u001b[39m,\n\u001b[1;32m   2578\u001b[0m             \u001b[38;5;124m\"\u001b[39m\u001b[38;5;124mMissing key(s) in state_dict: \u001b[39m\u001b[38;5;132;01m{}\u001b[39;00m\u001b[38;5;124m. \u001b[39m\u001b[38;5;124m\"\u001b[39m\u001b[38;5;241m.\u001b[39mformat(\n\u001b[1;32m   2579\u001b[0m                 \u001b[38;5;124m\"\u001b[39m\u001b[38;5;124m, \u001b[39m\u001b[38;5;124m\"\u001b[39m\u001b[38;5;241m.\u001b[39mjoin(\u001b[38;5;124mf\u001b[39m\u001b[38;5;124m'\u001b[39m\u001b[38;5;124m\"\u001b[39m\u001b[38;5;132;01m{\u001b[39;00mk\u001b[38;5;132;01m}\u001b[39;00m\u001b[38;5;124m\"\u001b[39m\u001b[38;5;124m'\u001b[39m \u001b[38;5;28;01mfor\u001b[39;00m k \u001b[38;5;129;01min\u001b[39;00m missing_keys)\n\u001b[1;32m   2580\u001b[0m             ),\n\u001b[1;32m   2581\u001b[0m         )\n\u001b[1;32m   2583\u001b[0m \u001b[38;5;28;01mif\u001b[39;00m \u001b[38;5;28mlen\u001b[39m(error_msgs) \u001b[38;5;241m>\u001b[39m \u001b[38;5;241m0\u001b[39m:\n\u001b[0;32m-> 2584\u001b[0m     \u001b[38;5;28;01mraise\u001b[39;00m \u001b[38;5;167;01mRuntimeError\u001b[39;00m(\n\u001b[1;32m   2585\u001b[0m         \u001b[38;5;124m\"\u001b[39m\u001b[38;5;124mError(s) in loading state_dict for \u001b[39m\u001b[38;5;132;01m{}\u001b[39;00m\u001b[38;5;124m:\u001b[39m\u001b[38;5;130;01m\\n\u001b[39;00m\u001b[38;5;130;01m\\t\u001b[39;00m\u001b[38;5;132;01m{}\u001b[39;00m\u001b[38;5;124m\"\u001b[39m\u001b[38;5;241m.\u001b[39mformat(\n\u001b[1;32m   2586\u001b[0m             \u001b[38;5;28mself\u001b[39m\u001b[38;5;241m.\u001b[39m\u001b[38;5;18m__class__\u001b[39m\u001b[38;5;241m.\u001b[39m\u001b[38;5;18m__name__\u001b[39m, \u001b[38;5;124m\"\u001b[39m\u001b[38;5;130;01m\\n\u001b[39;00m\u001b[38;5;130;01m\\t\u001b[39;00m\u001b[38;5;124m\"\u001b[39m\u001b[38;5;241m.\u001b[39mjoin(error_msgs)\n\u001b[1;32m   2587\u001b[0m         )\n\u001b[1;32m   2588\u001b[0m     )\n\u001b[1;32m   2589\u001b[0m \u001b[38;5;28;01mreturn\u001b[39;00m _IncompatibleKeys(missing_keys, unexpected_keys)\n",
      "\u001b[0;31mRuntimeError\u001b[0m: Error(s) in loading state_dict for CNNModel:\n\tMissing key(s) in state_dict: \"conv1.weight\", \"conv1.bias\", \"conv2.weight\", \"conv2.bias\", \"fc1.weight\", \"fc1.bias\", \"fc2.weight\", \"fc2.bias\". \n\tUnexpected key(s) in state_dict: \"fc.0.weight\", \"fc.0.bias\", \"fc.3.weight\", \"fc.3.bias\", \"conv1.0.weight\", \"conv1.0.bias\", \"conv2.0.weight\", \"conv2.0.bias\". "
     ]
    }
   ],
   "source": [
    "model = load_model(model_path)  # Загрузка модели"
   ]
  },
  {
   "cell_type": "code",
   "execution_count": null,
   "metadata": {},
   "outputs": [],
   "source": [
    "print_model_summary(model)  # Вывод информации о модели"
   ]
  },
  {
   "cell_type": "markdown",
   "metadata": {},
   "source": [
    "Ошибка, которую вы видите, связана с предупреждением о безопасности при использовании функции `torch.load` в PyTorch. Это предупреждение указывает на то, что в будущем значение по умолчанию для параметра `weights_only` будет изменено на `True`, что повысит безопасность загрузки моделей, предотвращая выполнение произвольного кода.\n",
    "\n",
    "### Анализ предупреждения\n",
    "\n",
    "**Предупреждение**:\n",
    "```\n",
    "FutureWarning: You are using `torch.load` with `weights_only=False` (the current default value), which uses the default pickle module implicitly. It is possible to construct malicious pickle data which will execute arbitrary code during unpickling...\n",
    "```\n",
    "\n",
    "Это предупреждение говорит о том, что использование `weights_only=False` может быть небезопасным, так как это позволяет загружать произвольные объекты. Рекомендуется использовать `weights_only=True`, если вы не контролируете источник загружаемых файлов.\n",
    "\n",
    "### Как исправить предупреждение\n",
    "\n",
    "1. **Используйте `weights_only=True`**:\n",
    "   Если вы уверены, что файл содержит только веса модели и не содержит других объектов, вы можете изменить строку загрузки модели следующим образом:\n",
    "\n",
    "   ```python\n",
    "   self.model.load_state_dict(torch.load(model_path, weights_only=True))\n",
    "   ```\n",
    "\n",
    "   Однако если ваш файл содержит дополнительные данные (например, состояние оптимизатора или номер эпохи), вы не сможете использовать этот параметр.\n",
    "\n",
    "2. **Обработка ошибок**:\n",
    "   Если вы хотите продолжить обучение даже при возникновении этого предупреждения, вы можете игнорировать его с помощью модуля `warnings`:\n",
    "\n",
    "   ```python\n",
    "   import warnings\n",
    "   warnings.filterwarnings(\"ignore\", category=FutureWarning)\n",
    "   ```\n",
    "\n",
    "### Пример кода\n",
    "\n",
    "Вот пример кода с учетом всех рекомендаций:\n",
    "\n",
    "```python\n",
    "import os\n",
    "import torch\n",
    "import torch.nn as nn\n",
    "import torchvision.transforms as transforms\n",
    "import warnings\n",
    "\n",
    "warnings.filterwarnings(\"ignore\", category=FutureWarning)  # Игнорировать предупреждения FutureWarning\n",
    "\n",
    "path = os.path.dirname(os.path.abspath(__file__))  # Текущий путь к файлу\n",
    "\n",
    "class CNNModel(nn.Module):\n",
    "    def __init__(self):\n",
    "        super(CNNModel, self).__init__()\n",
    "        self.conv1 = nn.Conv2d(1, 32, kernel_size=3, padding=1)\n",
    "        self.conv2 = nn.Conv2d(32, 64, kernel_size=3, padding=1)\n",
    "        self.pool = nn.MaxPool2d(kernel_size=2, stride=2)\n",
    "        self.fc1 = nn.Linear(64 * 7 * 7, 128)\n",
    "        self.fc2 = nn.Linear(128, 47)  # 47 классов для EMNIST\n",
    "\n",
    "    def forward(self, x):\n",
    "        x = self.pool(torch.relu(self.conv1(x)))\n",
    "        x = self.pool(torch.relu(self.conv2(x)))\n",
    "        x = x.view(-1, 64 * 7 * 7)\n",
    "        x = torch.relu(self.fc1(x))\n",
    "        x = self.fc2(x)\n",
    "        return x\n",
    "\n",
    "class Model:\n",
    "    def __init__(self):\n",
    "        model_path = os.path.join(path, 'model.ckpt')\n",
    "        self.model = CNNModel()  # Инициализация модели\n",
    "        try:\n",
    "            # Загрузка весов модели с использованием weights_only=True\n",
    "            self.model.load_state_dict(torch.load(model_path, weights_only=True))\n",
    "            self.model.eval()  # Установка режима оценки\n",
    "        except Exception as e:\n",
    "            print(f\"Error loading model: {e}\")\n",
    "\n",
    "    def predict(self, image):\n",
    "        # Метод для предсказания класса изображения\n",
    "        pass  # Реализуйте метод предсказания\n",
    "\n",
    "if __name__ == \"__main__\":\n",
    "    model = Model()  # Загрузка модели\n",
    "```\n",
    "\n",
    "### Заключение\n",
    "\n",
    "Теперь ваш код будет игнорировать предупреждения о безопасности при загрузке модели. Однако важно помнить о рисках при использовании `torch.load` с параметром `weights_only=False`. Если у вас есть дополнительные вопросы или вам нужна помощь с конкретными аспектами работы с PyTorch или вашей моделью, пожалуйста, дайте знать!\n",
    "\n",
    "Citations:\n",
    "[1] https://fair-chem.github.io/tutorials/advanced/fine-tuning-in-python.html\n",
    "[2] https://github.com/ultralytics/ultralytics/issues/14994\n",
    "[3] https://community.openai.com/t/about-whisper-open-source-and-weights-only-false/993868\n",
    "[4] https://discuss.pytorch.org/t/cant-set-weights-only-true-if-the-device-is-gpu/211604\n",
    "[5] https://github.com/JaidedAI/EasyOCR/issues/1297\n",
    "[6] https://discuss.pytorch.org/t/size-mismatch-for-model/212435\n",
    "[7] https://stackoverflow.com/questions/78983479/how-can-i-continue-training-from-the-checkpoints-saved-in-the-previous-training"
   ]
  }
 ],
 "metadata": {
  "kernelspec": {
   "display_name": "torch",
   "language": "python",
   "name": "python3"
  },
  "language_info": {
   "codemirror_mode": {
    "name": "ipython",
    "version": 3
   },
   "file_extension": ".py",
   "mimetype": "text/x-python",
   "name": "python",
   "nbconvert_exporter": "python",
   "pygments_lexer": "ipython3",
   "version": "3.11.11"
  }
 },
 "nbformat": 4,
 "nbformat_minor": 2
}
