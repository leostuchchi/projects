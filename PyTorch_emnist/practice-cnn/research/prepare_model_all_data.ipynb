{
 "cells": [
  {
   "cell_type": "markdown",
   "id": "003d3879",
   "metadata": {
    "id": "003d3879"
   },
   "source": [
    "# PyTorch, EMNIST"
   ]
  },
  {
   "cell_type": "markdown",
   "id": "a03cd4ef",
   "metadata": {},
   "source": [
    "# Подготовка модели распознавания рукописных букв и цифр"
   ]
  },
  {
   "cell_type": "markdown",
   "id": "091d8d34",
   "metadata": {},
   "source": [
    "# План исследований:\n",
    "\n",
    "## 1. - Подготовка отраженных и перевернутых данных с нормализацией\n",
    "\n",
    "* Обучение и дообучение модели с сохранением промежуточных результатов: \n",
    "\n",
    " - 10 эпох, lr=0.001\n",
    "\n",
    " - 15 эпох, lr=0.0005\n",
    "\n",
    " - 5 эпох, lr=0.00001\n",
    "\n",
    "\n",
    "\n",
    "## 2. - Подготовка отраженных и перевернутых данных с нормализацией\n",
    "\n",
    "     с использованием методов Eroding, Dilating и Smoothing Images\n",
    "\n",
    "* Обучение и дообучение модели с сохранением промежуточных результатов:\n",
    "\n",
    " - 10 эпох, lr=0.001\n",
    "\n",
    " - 15 эпох, lr=0.0005\n",
    "\n",
    " - 5 эпох, lr=0.00001\n",
    "\n",
    "\n",
    "## 3. - Оценка модели\n",
    "\n",
    " - Предварительная оценка модели\n",
    "\n",
    " - Оценка модели на разных типах данных\n",
    " \n",
    "\n",
    "## 4. - Резульаты и выводы о проделанной работе"
   ]
  },
  {
   "cell_type": "markdown",
   "id": "f919cb9f",
   "metadata": {
    "id": "f919cb9f"
   },
   "source": [
    "# Библиотеки"
   ]
  },
  {
   "cell_type": "code",
   "execution_count": 2,
   "id": "2d826ec1",
   "metadata": {
    "id": "2d826ec1"
   },
   "outputs": [],
   "source": [
    "import os\n",
    "import torch\n",
    "import torchvision\n",
    "from torchvision.datasets import EMNIST\n",
    "from torchvision import transforms\n",
    "from torchvision.transforms import ToTensor, Compose, Resize, Normalize\n",
    "import matplotlib.pyplot as plt\n",
    "import numpy as np\n",
    "from torch import nn\n",
    "from torch.utils.data import DataLoader\n",
    "import torch.nn.functional as F\n",
    "import torch.optim as optim\n",
    "from torch.optim.lr_scheduler import StepLR\n",
    "import cv2\n",
    "from PIL import Image\n",
    "from torchinfo import summary"
   ]
  },
  {
   "cell_type": "code",
   "execution_count": 2,
   "id": "iTaSE6noHgJa",
   "metadata": {
    "colab": {
     "base_uri": "https://localhost:8080/"
    },
    "executionInfo": {
     "elapsed": 24275,
     "status": "ok",
     "timestamp": 1736085791682,
     "user": {
      "displayName": "Leonard Stuchilin",
      "userId": "12835425704178441738"
     },
     "user_tz": -120
    },
    "id": "iTaSE6noHgJa",
    "outputId": "2a91620a-f1d0-4fa0-85a4-ce84331c029d"
   },
   "outputs": [],
   "source": [
    "#from google.colab import drive\n",
    "#drive.mount('/content/drive')"
   ]
  },
  {
   "cell_type": "markdown",
   "id": "c84ac4f0",
   "metadata": {
    "id": "c84ac4f0"
   },
   "source": [
    "# Получение, трансформация, нормализация и контроль данных"
   ]
  },
  {
   "cell_type": "code",
   "execution_count": 3,
   "id": "c9d6caec",
   "metadata": {
    "id": "c9d6caec"
   },
   "outputs": [],
   "source": [
    "# Определение трансформаций для нормализации данных\n",
    "transform = transforms.Compose([\n",
    "    transforms.ToTensor(),\n",
    "    transforms.Normalize((0.1307,), (0.3081,))  # Нормализация по среднему и стандартному отклонению\n",
    "])"
   ]
  },
  {
   "cell_type": "markdown",
   "id": "xdL11aKhHxmL",
   "metadata": {
    "id": "xdL11aKhHxmL"
   },
   "source": []
  },
  {
   "cell_type": "code",
   "execution_count": 4,
   "id": "128421ce",
   "metadata": {
    "id": "128421ce"
   },
   "outputs": [],
   "source": [
    "# Загрузка обучающего набора данных с трансформациями\n",
    "train_data = EMNIST('data_r/', 'balanced', train=True, download=True,\n",
    "                transform=torchvision.transforms.Compose([ # Поворот и отражение\n",
    "                    lambda img: torchvision.transforms.functional.rotate(img, -90),\n",
    "                    lambda img: torchvision.transforms.functional.hflip(img),\n",
    "                    transform # трансформируем и нормализуем\n",
    "                ]))"
   ]
  },
  {
   "cell_type": "code",
   "execution_count": 5,
   "id": "741504e0",
   "metadata": {
    "id": "741504e0"
   },
   "outputs": [],
   "source": [
    "# Загрузка тестового набора данных с трансформациями\n",
    "test_data = EMNIST('data_r/', 'balanced', train=False,\n",
    "                transform=torchvision.transforms.Compose([ # Поворот и отражение\n",
    "                    lambda img: torchvision.transforms.functional.rotate(img, -90),\n",
    "                    lambda img: torchvision.transforms.functional.hflip(img),\n",
    "                    transform # трансформируем и нормализуем\n",
    "                ]))"
   ]
  },
  {
   "cell_type": "code",
   "execution_count": 6,
   "id": "1864e3f0",
   "metadata": {
    "id": "1864e3f0"
   },
   "outputs": [],
   "source": [
    "# получение маппинга\n",
    "with open('emnist-balanced-mapping.txt', 'r') as f:\n",
    "    mapping = f.readlines()\n",
    "\n",
    "#mapping"
   ]
  },
  {
   "cell_type": "code",
   "execution_count": 7,
   "id": "092862d6",
   "metadata": {
    "id": "092862d6"
   },
   "outputs": [],
   "source": [
    "# Создаем словарь соответствий\n",
    "label_dict = {}\n",
    "for entry in mapping:\n",
    "    label, ascii_code = map(int, entry.split())\n",
    "    label_dict[label] = chr(ascii_code)"
   ]
  },
  {
   "cell_type": "code",
   "execution_count": 9,
   "id": "5ccc7f33",
   "metadata": {},
   "outputs": [
    {
     "data": {
      "image/png": "[encoded data removed]",
      "text/plain": [
       "<Figure size 2000x500 with 10 Axes>"
      ]
     },
     "metadata": {},
     "output_type": "display_data"
    }
   ],
   "source": [
    "# Проверяем корректность изображений\n",
    "fig, axs = plt.subplots(1, 10, figsize=(20, 5))\n",
    "for i in range(10):\n",
    "    random_index = np.random.randint(0, len(train_data))\n",
    "    #print('Random index:', random_index)\n",
    "    image, label = train_data[random_index]\n",
    "\n",
    "    # Преобразование изображения в NumPy массив для корректного отображения\n",
    "    image_np = image.numpy()  # Прямое преобразование в NumPy массив\n",
    "\n",
    "    # Убираем размерность канала (если она есть)\n",
    "    if image_np.shape[0] == 1:  # Если канал один (черно-белое изображение)\n",
    "        image_np = image_np.squeeze(0)  # Убираем размерность канала\n",
    "\n",
    "    # Отображаем изображение\n",
    "    axs[i].imshow(image_np, cmap='gray')\n",
    "    axs[i].set_title(label_dict[label])  # Используем словарь для отображения метки\n",
    "    axs[i].axis('off')\n",
    "\n",
    "plt.show()\n"
   ]
  },
  {
   "cell_type": "code",
   "execution_count": 10,
   "id": "dc7473f0",
   "metadata": {
    "id": "dc7473f0"
   },
   "outputs": [],
   "source": [
    "# Создание загрузчиков данных\n",
    "train_loader = DataLoader(train_data, batch_size=64, shuffle=True)\n",
    "val_loader = DataLoader(test_data, batch_size=64, shuffle=False)"
   ]
  },
  {
   "cell_type": "markdown",
   "id": "62437173",
   "metadata": {
    "id": "62437173"
   },
   "source": [
    "## Моделирование\n",
    "\n",
    "Сверточная нейронная сеть (CNN)"
   ]
  },
  {
   "cell_type": "code",
   "execution_count": 12,
   "id": "EyP8MjIwu7_m",
   "metadata": {
    "id": "EyP8MjIwu7_m"
   },
   "outputs": [],
   "source": [
    "# Определение модели\n",
    "class CNNModel(nn.Module):\n",
    "    def __init__(self):\n",
    "        super(CNNModel, self).__init__()\n",
    "        self.conv1 = nn.Conv2d(1, 32, kernel_size=3, padding=1)\n",
    "        self.bn1 = nn.BatchNorm2d(32)\n",
    "        self.pool = nn.MaxPool2d(kernel_size=2, stride=2)\n",
    "        self.conv2 = nn.Conv2d(32, 64, kernel_size=3, padding=1)\n",
    "        self.bn2 = nn.BatchNorm2d(64)\n",
    "        self.fc1 = nn.Linear(64 * 7 * 7, 128)  # Убедитесь в правильном размере\n",
    "        self.fc2 = nn.Linear(128, 47)  # Для 47 классов\n",
    "\n",
    "    def forward(self, x):\n",
    "        x = self.pool(F.relu(self.bn1(self.conv1(x))))\n",
    "        x = self.pool(F.relu(self.bn2(self.conv2(x))))\n",
    "        x = x.view(-1, 64 * 7 * 7)\n",
    "        x = F.relu(self.fc1(x))\n",
    "        x = self.fc2(x)\n",
    "        return x"
   ]
  },
  {
   "cell_type": "code",
   "execution_count": 11,
   "id": "31c711f0",
   "metadata": {
    "id": "31c711f0"
   },
   "outputs": [],
   "source": [
    "# Инициализация модели\n",
    "model_cnn = CNNModel()"
   ]
  },
  {
   "cell_type": "code",
   "execution_count": 12,
   "id": "29e648ed",
   "metadata": {
    "id": "29e648ed"
   },
   "outputs": [],
   "source": [
    "# Оптимизатор и функция потерь\n",
    "optimizer = optim.Adam(model_cnn.parameters(), lr=0.001)  # Используем Adam с малой скоростью обучения\n",
    "loss_function = nn.CrossEntropyLoss()  # Функция потерь для многоклассовой классификации"
   ]
  },
  {
   "cell_type": "code",
   "execution_count": 13,
   "id": "a10beb51",
   "metadata": {
    "colab": {
     "base_uri": "https://localhost:8080/"
    },
    "executionInfo": {
     "elapsed": 2046267,
     "status": "ok",
     "timestamp": 1736087928675,
     "user": {
      "displayName": "Leonard Stuchilin",
      "userId": "12835425704178441738"
     },
     "user_tz": -120
    },
    "id": "a10beb51",
    "outputId": "54124300-58f5-4d92-9bad-5781ed0931fc"
   },
   "outputs": [
    {
     "name": "stdout",
     "output_type": "stream",
     "text": [
      "Epoch 1/10, Loss: 0.6164\n",
      "Validation Accuracy: 0.8476\n",
      "Epoch 2/10, Loss: 0.3942\n",
      "Validation Accuracy: 0.8606\n",
      "Epoch 3/10, Loss: 0.3456\n",
      "Validation Accuracy: 0.8669\n",
      "Epoch 4/10, Loss: 0.3131\n",
      "Validation Accuracy: 0.8685\n",
      "Epoch 5/10, Loss: 0.2871\n",
      "Validation Accuracy: 0.8764\n",
      "Epoch 6/10, Loss: 0.2653\n",
      "Validation Accuracy: 0.8786\n",
      "Epoch 7/10, Loss: 0.2461\n",
      "Validation Accuracy: 0.8721\n",
      "Epoch 8/10, Loss: 0.2279\n",
      "Validation Accuracy: 0.8831\n",
      "Epoch 9/10, Loss: 0.2115\n",
      "Validation Accuracy: 0.8778\n",
      "Epoch 10/10, Loss: 0.1964\n",
      "Validation Accuracy: 0.8773\n"
     ]
    }
   ],
   "source": [
    "n_epochs = 10\n",
    "\n",
    "for epoch in range(n_epochs):\n",
    "    model_cnn.train()  # Устанавливаем режим обучения\n",
    "    running_loss = 0.0\n",
    "\n",
    "    for data, target in train_loader:\n",
    "        optimizer.zero_grad()  # Обнуляем градиенты\n",
    "        output = model_cnn(data)  # Прямой проход через модель\n",
    "        loss = loss_function(output, target)  # Вычисление потерь\n",
    "        loss.backward()  # Обратный проход (вычисление градиентов)\n",
    "        optimizer.step()  # Обновление параметров\n",
    "\n",
    "        running_loss += loss.item()\n",
    "\n",
    "    print(f'Epoch {epoch + 1}/{n_epochs}, Loss: {running_loss / len(train_loader):.4f}')\n",
    "\n",
    "    # Валидация модели после каждой эпохи\n",
    "    model_cnn.eval()\n",
    "    correct = 0\n",
    "\n",
    "    with torch.no_grad():\n",
    "        for data, target in val_loader:\n",
    "            output = model_cnn(data)\n",
    "            pred = output.argmax(dim=1)\n",
    "            correct += pred.eq(target).sum().item()\n",
    "\n",
    "    accuracy = correct / len(val_loader.dataset)\n",
    "    print(f'Validation Accuracy: {accuracy:.4f}')"
   ]
  },
  {
   "cell_type": "code",
   "execution_count": 14,
   "id": "SMcPKBvhjJal",
   "metadata": {
    "id": "SMcPKBvhjJal"
   },
   "outputs": [],
   "source": [
    "n_epoch = 10"
   ]
  },
  {
   "cell_type": "code",
   "execution_count": 15,
   "id": "bL7rLSXpZ6te",
   "metadata": {
    "id": "bL7rLSXpZ6te"
   },
   "outputs": [],
   "source": [
    "# Сохранение модели в формате .ckpt\n",
    "torch.save(model_cnn.state_dict(), 'data/model_a.ckpt')\n",
    "\n",
    "# Сохранение обученной модели\n",
    "checkpoint = {\n",
    "    'model_state_dict': model_cnn.state_dict(),  # Состояние модели\n",
    "    'optimizer_state_dict': optimizer.state_dict(),  # Состояние оптимизатора\n",
    "    'epoch': n_epoch  # Текущий номер эпохи (если нужно возобновить обучение)\n",
    "}\n",
    "\n",
    "# Сохранение контрольной точки в файл .ckpt\n",
    "torch.save(checkpoint, 'data/model_a_checkpoint.ckpt')"
   ]
  },
  {
   "cell_type": "code",
   "execution_count": 16,
   "id": "nb0B86Pnjbm2",
   "metadata": {
    "colab": {
     "base_uri": "https://localhost:8080/"
    },
    "executionInfo": {
     "elapsed": 425,
     "status": "ok",
     "timestamp": 1736087973097,
     "user": {
      "displayName": "Leonard Stuchilin",
      "userId": "12835425704178441738"
     },
     "user_tz": -120
    },
    "id": "nb0B86Pnjbm2",
    "outputId": "65581ba4-a600-4284-c64a-8e597a9bcf21"
   },
   "outputs": [
    {
     "name": "stdout",
     "output_type": "stream",
     "text": [
      "10\n"
     ]
    },
    {
     "name": "stderr",
     "output_type": "stream",
     "text": [
      "/tmp/ipykernel_5033/725509854.py:2: FutureWarning: You are using `torch.load` with `weights_only=False` (the current default value), which uses the default pickle module implicitly. It is possible to construct malicious pickle data which will execute arbitrary code during unpickling (See https://github.com/pytorch/pytorch/blob/main/SECURITY.md#untrusted-models for more details). In a future release, the default value for `weights_only` will be flipped to `True`. This limits the functions that could be executed during unpickling. Arbitrary objects will no longer be allowed to be loaded via this mode unless they are explicitly allowlisted by the user via `torch.serialization.add_safe_globals`. We recommend you start setting `weights_only=True` for any use case where you don't have full control of the loaded file. Please open an issue on GitHub for any issues related to this experimental feature.\n",
      "  checkpoint = torch.load('data/model_a_checkpoint.ckpt')\n",
      "/tmp/ipykernel_5033/725509854.py:20: FutureWarning: You are using `torch.load` with `weights_only=False` (the current default value), which uses the default pickle module implicitly. It is possible to construct malicious pickle data which will execute arbitrary code during unpickling (See https://github.com/pytorch/pytorch/blob/main/SECURITY.md#untrusted-models for more details). In a future release, the default value for `weights_only` will be flipped to `True`. This limits the functions that could be executed during unpickling. Arbitrary objects will no longer be allowed to be loaded via this mode unless they are explicitly allowlisted by the user via `torch.serialization.add_safe_globals`. We recommend you start setting `weights_only=True` for any use case where you don't have full control of the loaded file. Please open an issue on GitHub for any issues related to this experimental feature.\n",
      "  model_cnn.load_state_dict(torch.load('data/model_a.ckpt'))  # Замените на путь к вашей модели\n"
     ]
    },
    {
     "data": {
      "text/plain": [
       "<All keys matched successfully>"
      ]
     },
     "execution_count": 16,
     "metadata": {},
     "output_type": "execute_result"
    }
   ],
   "source": [
    "# Загрузка контрольной точки\n",
    "checkpoint = torch.load('data/model_a_checkpoint.ckpt')\n",
    "\n",
    "# Восстановление состояния модели и оптимизатора\n",
    "model_cnn.load_state_dict(checkpoint['model_state_dict'])\n",
    "optimizer.load_state_dict(checkpoint['optimizer_state_dict'])\n",
    "\n",
    "# Если нужно, можно восстановить номер эпохи\n",
    "n_epoch = checkpoint['epoch']\n",
    "print(n_epoch)\n",
    "\n",
    "# Восстановление номера эпохи\n",
    "start_epoch = checkpoint['epoch'] + 1  # Начинаем с следующей эпохи\n",
    "\n",
    "# Параметры для продолжения обучения\n",
    "n_epochs_to_continue = 15  # Количество дополнительных эпох\n",
    "\n",
    "# Загрузка предварительно обученной модели\n",
    "model_cnn = CNNModel()  # Предполагается, что модель определена\n",
    "model_cnn.load_state_dict(torch.load('data/model_a.ckpt'))  # Замените на путь к вашей модели\n",
    "#model.eval()  # Установка модели в режим оценки"
   ]
  },
  {
   "cell_type": "code",
   "execution_count": 17,
   "id": "IYqexdOGNSuh",
   "metadata": {
    "id": "IYqexdOGNSuh"
   },
   "outputs": [],
   "source": [
    "# Оптимизатор и функция потерь\n",
    "optimizer = optim.Adam(model_cnn.parameters(), lr=0.0005)  # Используем Adam с малой скоростью обучения\n",
    "loss_function = nn.CrossEntropyLoss()  # Функция потерь для многоклассовой классификации"
   ]
  },
  {
   "cell_type": "code",
   "execution_count": 18,
   "id": "BmC1BHpso9IJ",
   "metadata": {
    "colab": {
     "base_uri": "https://localhost:8080/"
    },
    "executionInfo": {
     "elapsed": 992249,
     "status": "ok",
     "timestamp": 1736088979582,
     "user": {
      "displayName": "Leonard Stuchilin",
      "userId": "12835425704178441738"
     },
     "user_tz": -120
    },
    "id": "BmC1BHpso9IJ",
    "outputId": "fa2baf46-e5eb-4de6-bd16-6d8eee87225a"
   },
   "outputs": [
    {
     "name": "stdout",
     "output_type": "stream",
     "text": [
      "Epoch 11/26, Loss: 0.1569\n",
      "Validation Accuracy: 0.8753\n",
      "Epoch 12/26, Loss: 0.1406\n",
      "Validation Accuracy: 0.8781\n",
      "Epoch 13/26, Loss: 0.1297\n",
      "Validation Accuracy: 0.8781\n",
      "Epoch 14/26, Loss: 0.1210\n",
      "Validation Accuracy: 0.8771\n",
      "Epoch 15/26, Loss: 0.1125\n",
      "Validation Accuracy: 0.8744\n",
      "Epoch 16/26, Loss: 0.1054\n",
      "Validation Accuracy: 0.8705\n",
      "Epoch 17/26, Loss: 0.0982\n",
      "Validation Accuracy: 0.8731\n",
      "Epoch 18/26, Loss: 0.0919\n",
      "Validation Accuracy: 0.8677\n",
      "Epoch 19/26, Loss: 0.0865\n",
      "Validation Accuracy: 0.8683\n",
      "Epoch 20/26, Loss: 0.0807\n",
      "Validation Accuracy: 0.8684\n",
      "Epoch 21/26, Loss: 0.0758\n",
      "Validation Accuracy: 0.8684\n",
      "Epoch 22/26, Loss: 0.0710\n",
      "Validation Accuracy: 0.8650\n",
      "Epoch 23/26, Loss: 0.0672\n",
      "Validation Accuracy: 0.8674\n",
      "Epoch 24/26, Loss: 0.0636\n",
      "Validation Accuracy: 0.8660\n",
      "Epoch 25/26, Loss: 0.0603\n",
      "Validation Accuracy: 0.8679\n"
     ]
    }
   ],
   "source": [
    "for epoch in range(start_epoch, start_epoch + n_epochs_to_continue):\n",
    "    model_cnn.train()\n",
    "    running_loss = 0.0\n",
    "\n",
    "    for data, target in train_loader:\n",
    "        optimizer.zero_grad()\n",
    "        output = model_cnn(data)\n",
    "        loss = loss_function(output, target)\n",
    "        loss.backward()\n",
    "        optimizer.step()\n",
    "\n",
    "        running_loss += loss.item()\n",
    "\n",
    "    print(f'Epoch {epoch}/{start_epoch + n_epochs_to_continue}, Loss: {running_loss / len(train_loader):.4f}')\n",
    "\n",
    "    # Валидация модели после каждой эпохи\n",
    "    model_cnn.eval()\n",
    "    correct = 0\n",
    "\n",
    "    with torch.no_grad():\n",
    "        for data, target in val_loader:\n",
    "            output = model_cnn(data)\n",
    "            pred = output.argmax(dim=1)\n",
    "            correct += pred.eq(target).sum().item()\n",
    "\n",
    "    accuracy = correct / len(val_loader.dataset)\n",
    "    print(f'Validation Accuracy: {accuracy:.4f}')"
   ]
  },
  {
   "cell_type": "code",
   "execution_count": 19,
   "id": "nEZbI-y0pYUI",
   "metadata": {
    "id": "nEZbI-y0pYUI"
   },
   "outputs": [],
   "source": [
    "# Сохранение модели в формате .ckpt\n",
    "torch.save(model_cnn.state_dict(), 'data/model_a_1.ckpt')\n",
    "\n",
    "# Сохранение обученной модели\n",
    "new_checkpoint = {\n",
    "    'model_state_dict': model_cnn.state_dict(),\n",
    "    'optimizer_state_dict': optimizer.state_dict(),\n",
    "    'epoch': start_epoch + n_epochs_to_continue - 1,\n",
    "}\n",
    "# Сохранение контрольной точки в файл .ckpt\n",
    "torch.save(new_checkpoint, 'data/model_a_checkpoint_1.ckpt')"
   ]
  },
  {
   "cell_type": "code",
   "execution_count": 20,
   "id": "5587128d",
   "metadata": {},
   "outputs": [
    {
     "name": "stdout",
     "output_type": "stream",
     "text": [
      "25\n"
     ]
    },
    {
     "name": "stderr",
     "output_type": "stream",
     "text": [
      "/tmp/ipykernel_5033/178477228.py:2: FutureWarning: You are using `torch.load` with `weights_only=False` (the current default value), which uses the default pickle module implicitly. It is possible to construct malicious pickle data which will execute arbitrary code during unpickling (See https://github.com/pytorch/pytorch/blob/main/SECURITY.md#untrusted-models for more details). In a future release, the default value for `weights_only` will be flipped to `True`. This limits the functions that could be executed during unpickling. Arbitrary objects will no longer be allowed to be loaded via this mode unless they are explicitly allowlisted by the user via `torch.serialization.add_safe_globals`. We recommend you start setting `weights_only=True` for any use case where you don't have full control of the loaded file. Please open an issue on GitHub for any issues related to this experimental feature.\n",
      "  checkpoint = torch.load('data/model_a_checkpoint_1.ckpt')\n",
      "/tmp/ipykernel_5033/178477228.py:20: FutureWarning: You are using `torch.load` with `weights_only=False` (the current default value), which uses the default pickle module implicitly. It is possible to construct malicious pickle data which will execute arbitrary code during unpickling (See https://github.com/pytorch/pytorch/blob/main/SECURITY.md#untrusted-models for more details). In a future release, the default value for `weights_only` will be flipped to `True`. This limits the functions that could be executed during unpickling. Arbitrary objects will no longer be allowed to be loaded via this mode unless they are explicitly allowlisted by the user via `torch.serialization.add_safe_globals`. We recommend you start setting `weights_only=True` for any use case where you don't have full control of the loaded file. Please open an issue on GitHub for any issues related to this experimental feature.\n",
      "  model_cnn.load_state_dict(torch.load('data/model_a_1.ckpt'))  # Замените на путь к вашей модели\n"
     ]
    },
    {
     "data": {
      "text/plain": [
       "<All keys matched successfully>"
      ]
     },
     "execution_count": 20,
     "metadata": {},
     "output_type": "execute_result"
    }
   ],
   "source": [
    "# Загрузка контрольной точки\n",
    "checkpoint = torch.load('data/model_a_checkpoint_1.ckpt')\n",
    "\n",
    "# Восстановление состояния модели и оптимизатора\n",
    "model_cnn.load_state_dict(checkpoint['model_state_dict'])\n",
    "optimizer.load_state_dict(checkpoint['optimizer_state_dict'])\n",
    "\n",
    "# Если нужно, можно восстановить номер эпохи\n",
    "n_epoch = checkpoint['epoch']\n",
    "print(n_epoch)\n",
    "\n",
    "# Восстановление номера эпохи\n",
    "start_epoch = checkpoint['epoch'] + 1  # Начинаем с следующей эпохи\n",
    "\n",
    "# Параметры для продолжения обучения\n",
    "n_epochs_to_continue = 5  # Количество дополнительных эпох\n",
    "\n",
    "# Загрузка предварительно обученной модели\n",
    "model_cnn = CNNModel()  # Предполагается, что модель определена\n",
    "model_cnn.load_state_dict(torch.load('data/model_a_1.ckpt'))  # Замените на путь к вашей модели\n",
    "#model.eval()  # Установка модели в режим оценки"
   ]
  },
  {
   "cell_type": "code",
   "execution_count": 21,
   "id": "33020c3c",
   "metadata": {},
   "outputs": [],
   "source": [
    "# Оптимизатор и функция потерь\n",
    "optimizer = optim.Adam(model_cnn.parameters(), lr=0.00001)  # Используем Adam с малой скоростью обучения\n",
    "loss_function = nn.CrossEntropyLoss()  # Функция потерь для многоклассовой классификации"
   ]
  },
  {
   "cell_type": "code",
   "execution_count": 22,
   "id": "c2ae3504",
   "metadata": {},
   "outputs": [
    {
     "name": "stdout",
     "output_type": "stream",
     "text": [
      "Epoch 26/31, Loss: 0.0442\n",
      "Validation Accuracy: 0.8689\n",
      "Epoch 27/31, Loss: 0.0396\n",
      "Validation Accuracy: 0.8697\n",
      "Epoch 28/31, Loss: 0.0379\n",
      "Validation Accuracy: 0.8693\n",
      "Epoch 29/31, Loss: 0.0368\n",
      "Validation Accuracy: 0.8702\n",
      "Epoch 30/31, Loss: 0.0360\n",
      "Validation Accuracy: 0.8695\n"
     ]
    }
   ],
   "source": [
    "for epoch in range(start_epoch, start_epoch + n_epochs_to_continue):\n",
    "    model_cnn.train()\n",
    "    running_loss = 0.0\n",
    "\n",
    "    for data, target in train_loader:\n",
    "        optimizer.zero_grad()\n",
    "        output = model_cnn(data)\n",
    "        loss = loss_function(output, target)\n",
    "        loss.backward()\n",
    "        optimizer.step()\n",
    "\n",
    "        running_loss += loss.item()\n",
    "\n",
    "    print(f'Epoch {epoch}/{start_epoch + n_epochs_to_continue}, Loss: {running_loss / len(train_loader):.4f}')\n",
    "\n",
    "    # Валидация модели после каждой эпохи\n",
    "    model_cnn.eval()\n",
    "    correct = 0\n",
    "\n",
    "    with torch.no_grad():\n",
    "        for data, target in val_loader:\n",
    "            output = model_cnn(data)\n",
    "            pred = output.argmax(dim=1)\n",
    "            correct += pred.eq(target).sum().item()\n",
    "\n",
    "    accuracy = correct / len(val_loader.dataset)\n",
    "    print(f'Validation Accuracy: {accuracy:.4f}')"
   ]
  },
  {
   "cell_type": "code",
   "execution_count": 23,
   "id": "6d7c1463",
   "metadata": {},
   "outputs": [],
   "source": [
    "# Сохранение модели в формате .ckpt\n",
    "torch.save(model_cnn.state_dict(), 'data/model_a_2.ckpt')\n",
    "\n",
    "# Сохранение обученной модели\n",
    "new_checkpoint = {\n",
    "    'model_state_dict': model_cnn.state_dict(),\n",
    "    'optimizer_state_dict': optimizer.state_dict(),\n",
    "    'epoch': start_epoch + n_epochs_to_continue - 1,\n",
    "}\n",
    "# Сохранение контрольной точки в файл .ckpt\n",
    "torch.save(new_checkpoint, 'data/model_a_checkpoint_2.ckpt')"
   ]
  },
  {
   "cell_type": "markdown",
   "id": "841Er5mBvz8K",
   "metadata": {
    "id": "841Er5mBvz8K"
   },
   "source": [
    "# Дообучение на преобразованных данных"
   ]
  },
  {
   "cell_type": "code",
   "execution_count": 24,
   "id": "vA4Ec5axtZtK",
   "metadata": {
    "colab": {
     "base_uri": "https://localhost:8080/"
    },
    "executionInfo": {
     "elapsed": 306,
     "status": "ok",
     "timestamp": 1736088999446,
     "user": {
      "displayName": "Leonard Stuchilin",
      "userId": "12835425704178441738"
     },
     "user_tz": -120
    },
    "id": "vA4Ec5axtZtK",
    "outputId": "ad098178-fd70-4cb3-e93d-41c9f5a9fa8d"
   },
   "outputs": [
    {
     "name": "stdout",
     "output_type": "stream",
     "text": [
      "30\n"
     ]
    },
    {
     "name": "stderr",
     "output_type": "stream",
     "text": [
      "/tmp/ipykernel_5033/276588742.py:2: FutureWarning: You are using `torch.load` with `weights_only=False` (the current default value), which uses the default pickle module implicitly. It is possible to construct malicious pickle data which will execute arbitrary code during unpickling (See https://github.com/pytorch/pytorch/blob/main/SECURITY.md#untrusted-models for more details). In a future release, the default value for `weights_only` will be flipped to `True`. This limits the functions that could be executed during unpickling. Arbitrary objects will no longer be allowed to be loaded via this mode unless they are explicitly allowlisted by the user via `torch.serialization.add_safe_globals`. We recommend you start setting `weights_only=True` for any use case where you don't have full control of the loaded file. Please open an issue on GitHub for any issues related to this experimental feature.\n",
      "  checkpoint = torch.load('data/model_a_checkpoint_2.ckpt')\n",
      "/tmp/ipykernel_5033/276588742.py:20: FutureWarning: You are using `torch.load` with `weights_only=False` (the current default value), which uses the default pickle module implicitly. It is possible to construct malicious pickle data which will execute arbitrary code during unpickling (See https://github.com/pytorch/pytorch/blob/main/SECURITY.md#untrusted-models for more details). In a future release, the default value for `weights_only` will be flipped to `True`. This limits the functions that could be executed during unpickling. Arbitrary objects will no longer be allowed to be loaded via this mode unless they are explicitly allowlisted by the user via `torch.serialization.add_safe_globals`. We recommend you start setting `weights_only=True` for any use case where you don't have full control of the loaded file. Please open an issue on GitHub for any issues related to this experimental feature.\n",
      "  model_cnn.load_state_dict(torch.load('data/model_a_2.ckpt'))  # Замените на путь к вашей модели\n"
     ]
    },
    {
     "data": {
      "text/plain": [
       "<All keys matched successfully>"
      ]
     },
     "execution_count": 24,
     "metadata": {},
     "output_type": "execute_result"
    }
   ],
   "source": [
    "# Загрузка контрольной точки\n",
    "checkpoint = torch.load('data/model_a_checkpoint_2.ckpt')\n",
    "\n",
    "# Восстановление состояния модели и оптимизатора\n",
    "model_cnn.load_state_dict(checkpoint['model_state_dict'])\n",
    "optimizer.load_state_dict(checkpoint['optimizer_state_dict'])\n",
    "\n",
    "# Если нужно, можно восстановить номер эпохи\n",
    "n_epoch = checkpoint['epoch']\n",
    "print(n_epoch)\n",
    "\n",
    "# Восстановление номера эпохи\n",
    "start_epoch = checkpoint['epoch'] + 1  # Начинаем с следующей эпохи\n",
    "\n",
    "# Параметры для продолжения обучения\n",
    "n_epochs_to_continue = 10  # Количество дополнительных эпох\n",
    "\n",
    "# Загрузка предварительно обученной модели\n",
    "model_cnn = CNNModel()  # Предполагается, что модель определена\n",
    "model_cnn.load_state_dict(torch.load('data/model_a_2.ckpt'))  # Замените на путь к вашей модели\n",
    "#model.eval()  # Установка модели в режим оценки"
   ]
  },
  {
   "cell_type": "code",
   "execution_count": 25,
   "id": "ewEKEKkUvRiy",
   "metadata": {
    "id": "ewEKEKkUvRiy"
   },
   "outputs": [],
   "source": [
    "# Оптимизатор и функция потерь\n",
    "optimizer = optim.Adam(model_cnn.parameters(), lr=0.001)  # Используем Adam с малой скоростью обучения\n",
    "loss_function = nn.CrossEntropyLoss()  # Функция потерь для многоклассовой классификации"
   ]
  },
  {
   "cell_type": "code",
   "execution_count": 26,
   "id": "G7GDvPh3uwJh",
   "metadata": {
    "id": "G7GDvPh3uwJh"
   },
   "outputs": [],
   "source": [
    "'''Для обработки изображений х EMNIST с использованием методов Eroding, Dilating и Smoothing Images,\n",
    " создадим функцию, для предобработки перед передачей изображений в модель'''\n",
    "\n",
    "\n",
    "def preprocess_image(img):\n",
    "    # Преобразуем изображение PIL в массив NumPy\n",
    "    img_np = np.array(img)\n",
    "\n",
    "    # Применяем сглаживание (Gaussian Blur)\n",
    "    img_blurred = cv2.GaussianBlur(img_np, (5, 5), 0)\n",
    "\n",
    "    # Применяем эрозию\n",
    "    kernel = np.ones((3, 3), np.uint8)\n",
    "    img_eroded = cv2.erode(img_blurred, kernel, iterations=1)\n",
    "\n",
    "    # Применяем дилатацию\n",
    "    img_dilated = cv2.dilate(img_eroded, kernel, iterations=1)\n",
    "\n",
    "    # Преобразуем обратно в PIL\n",
    "    img_processed = Image.fromarray(img_dilated)\n",
    "\n",
    "    return img_processed"
   ]
  },
  {
   "cell_type": "code",
   "execution_count": 27,
   "id": "RW3hGYbj0IKV",
   "metadata": {
    "id": "RW3hGYbj0IKV"
   },
   "outputs": [],
   "source": [
    "# Определение трансформаций для нормализации данных\n",
    "transform = transforms.Compose([\n",
    "    transforms.ToTensor(),\n",
    "    transforms.Normalize((0.1307,), (0.3081,))  # Нормализация по среднему и стандартному отклонению\n",
    "])\n",
    "\n",
    "# использованием методов Eroding, Dilating и Smoothing Images\n",
    "# Загрузка обучающего набора данных с трансформациями\n",
    "train_data = EMNIST('data_e_r/', 'balanced', train=True, download=True,\n",
    "                transform=torchvision.transforms.Compose([ \n",
    "                    # Применяем обработку изображения\n",
    "                    preprocess_image,\n",
    "                    # Поворот и отражение\n",
    "                    lambda img: torchvision.transforms.functional.rotate(img, -90),\n",
    "                    lambda img: torchvision.transforms.functional.hflip(img),\n",
    "                    transform # трансформируем и нормализуем\n",
    "                ]))\n",
    "\n",
    "# использованием методов Eroding, Dilating и Smoothing Images\n",
    "# Загрузка тестового набора данных с трансформациями\n",
    "test_data = EMNIST('data_e_r/', 'balanced', train=False,\n",
    "                transform=torchvision.transforms.Compose([ \n",
    "                    # Применяем обработку изображения\n",
    "                    preprocess_image,\n",
    "                    # Поворот и отражение\n",
    "                    lambda img: torchvision.transforms.functional.rotate(img, -90),\n",
    "                    lambda img: torchvision.transforms.functional.hflip(img),\n",
    "                    transform # трансформируем и нормализуем\n",
    "                ]))"
   ]
  },
  {
   "cell_type": "code",
   "execution_count": 28,
   "id": "XVvL4K6y0bKY",
   "metadata": {
    "id": "XVvL4K6y0bKY"
   },
   "outputs": [],
   "source": [
    "# Создание загрузчиков данных\n",
    "train_loader = DataLoader(train_data, batch_size=64, shuffle=True)\n",
    "val_loader = DataLoader(test_data, batch_size=64, shuffle=False)"
   ]
  },
  {
   "cell_type": "code",
   "execution_count": 29,
   "id": "flbXnFyg1E9D",
   "metadata": {
    "colab": {
     "base_uri": "https://localhost:8080/"
    },
    "executionInfo": {
     "elapsed": 1219251,
     "status": "ok",
     "timestamp": 1736090248516,
     "user": {
      "displayName": "Leonard Stuchilin",
      "userId": "12835425704178441738"
     },
     "user_tz": -120
    },
    "id": "flbXnFyg1E9D",
    "outputId": "828a6341-f098-4628-f1dc-8d7256013cc2"
   },
   "outputs": [
    {
     "name": "stdout",
     "output_type": "stream",
     "text": [
      "Epoch 31/41, Loss: 0.3349\n",
      "Validation Accuracy: 0.8680\n",
      "Epoch 32/41, Loss: 0.2468\n",
      "Validation Accuracy: 0.8670\n",
      "Epoch 33/41, Loss: 0.2161\n",
      "Validation Accuracy: 0.8694\n",
      "Epoch 34/41, Loss: 0.1967\n",
      "Validation Accuracy: 0.8677\n",
      "Epoch 35/41, Loss: 0.1793\n",
      "Validation Accuracy: 0.8685\n",
      "Epoch 36/41, Loss: 0.1650\n",
      "Validation Accuracy: 0.8693\n",
      "Epoch 37/41, Loss: 0.1539\n",
      "Validation Accuracy: 0.8661\n",
      "Epoch 38/41, Loss: 0.1432\n",
      "Validation Accuracy: 0.8712\n",
      "Epoch 39/41, Loss: 0.1340\n",
      "Validation Accuracy: 0.8651\n",
      "Epoch 40/41, Loss: 0.1259\n",
      "Validation Accuracy: 0.8661\n"
     ]
    }
   ],
   "source": [
    "for epoch in range(start_epoch, start_epoch + n_epochs_to_continue):\n",
    "    model_cnn.train()\n",
    "    running_loss = 0.0\n",
    "\n",
    "    for data, target in train_loader:\n",
    "        optimizer.zero_grad()\n",
    "        output = model_cnn(data)\n",
    "        loss = loss_function(output, target)\n",
    "        loss.backward()\n",
    "        optimizer.step()\n",
    "\n",
    "        running_loss += loss.item()\n",
    "\n",
    "    print(f'Epoch {epoch}/{start_epoch + n_epochs_to_continue}, Loss: {running_loss / len(train_loader):.4f}')\n",
    "\n",
    "    # Валидация модели после каждой эпохи\n",
    "    model_cnn.eval()\n",
    "    correct = 0\n",
    "\n",
    "    with torch.no_grad():\n",
    "        for data, target in val_loader:\n",
    "            output = model_cnn(data)\n",
    "            pred = output.argmax(dim=1)\n",
    "            correct += pred.eq(target).sum().item()\n",
    "\n",
    "    accuracy = correct / len(val_loader.dataset)\n",
    "    print(f'Validation Accuracy: {accuracy:.4f}')"
   ]
  },
  {
   "cell_type": "code",
   "execution_count": 30,
   "id": "XXEsRb3NzOft",
   "metadata": {
    "id": "XXEsRb3NzOft"
   },
   "outputs": [],
   "source": [
    "# Сохранение модели в формате .ckpt\n",
    "torch.save(model_cnn.state_dict(), 'data/model_a_3.ckpt')\n",
    "\n",
    "# Сохранение обученной модели\n",
    "new_checkpoint = {\n",
    "    'model_state_dict': model_cnn.state_dict(),\n",
    "    'optimizer_state_dict': optimizer.state_dict(),\n",
    "    'epoch': start_epoch + n_epochs_to_continue - 1,\n",
    "}\n",
    "# Сохранение контрольной точки в файл .ckpt\n",
    "torch.save(new_checkpoint, 'data/model_a_checkpoint_3.ckpt')"
   ]
  },
  {
   "cell_type": "markdown",
   "id": "74a0b230",
   "metadata": {},
   "source": [
    "Первый этап (начальное обучение):\n",
    "\n",
    "    Скорость обучения: Начните с более высокой скорости обучения, например, 0.001. Это поможет модели быстро адаптироваться к данным.\n",
    "    Количество эпох: Используйте большее количество эпох (например, 10-20), чтобы модель могла хорошо обучиться на данных.\n",
    "\n",
    "Второй этап (дообучение):\n",
    "\n",
    "    Скорость обучения: Уменьшите скорость обучения до 0.0005 или 0.0001. Это позволит модели более точно подстраиваться под данные.\n",
    "    Количество эпох: Увеличьте количество эпох (например, 20-30), чтобы модель могла дообучиться на более низкой скорости.\n",
    "\n",
    "Третий этап (файн-тюнинг):\n",
    "\n",
    "    Скорость обучения: Установите еще более низкую скорость обучения (например, 0.00001). Это позволит модели делать очень мелкие корректировки.\n",
    "    Количество эпох: Используйте меньшее количество эпох (например, 5-10), так как модель уже близка к оптимальному состоянию.\n"
   ]
  },
  {
   "cell_type": "code",
   "execution_count": 31,
   "id": "070af963",
   "metadata": {},
   "outputs": [
    {
     "name": "stdout",
     "output_type": "stream",
     "text": [
      "40\n"
     ]
    },
    {
     "name": "stderr",
     "output_type": "stream",
     "text": [
      "/tmp/ipykernel_5033/131934471.py:2: FutureWarning: You are using `torch.load` with `weights_only=False` (the current default value), which uses the default pickle module implicitly. It is possible to construct malicious pickle data which will execute arbitrary code during unpickling (See https://github.com/pytorch/pytorch/blob/main/SECURITY.md#untrusted-models for more details). In a future release, the default value for `weights_only` will be flipped to `True`. This limits the functions that could be executed during unpickling. Arbitrary objects will no longer be allowed to be loaded via this mode unless they are explicitly allowlisted by the user via `torch.serialization.add_safe_globals`. We recommend you start setting `weights_only=True` for any use case where you don't have full control of the loaded file. Please open an issue on GitHub for any issues related to this experimental feature.\n",
      "  checkpoint = torch.load('data/model_a_checkpoint_3.ckpt')\n",
      "/tmp/ipykernel_5033/131934471.py:20: FutureWarning: You are using `torch.load` with `weights_only=False` (the current default value), which uses the default pickle module implicitly. It is possible to construct malicious pickle data which will execute arbitrary code during unpickling (See https://github.com/pytorch/pytorch/blob/main/SECURITY.md#untrusted-models for more details). In a future release, the default value for `weights_only` will be flipped to `True`. This limits the functions that could be executed during unpickling. Arbitrary objects will no longer be allowed to be loaded via this mode unless they are explicitly allowlisted by the user via `torch.serialization.add_safe_globals`. We recommend you start setting `weights_only=True` for any use case where you don't have full control of the loaded file. Please open an issue on GitHub for any issues related to this experimental feature.\n",
      "  model_cnn.load_state_dict(torch.load('data/model_a_3.ckpt'))  # Замените на путь к вашей модели\n"
     ]
    },
    {
     "data": {
      "text/plain": [
       "<All keys matched successfully>"
      ]
     },
     "execution_count": 31,
     "metadata": {},
     "output_type": "execute_result"
    }
   ],
   "source": [
    "# Загрузка контрольной точки\n",
    "checkpoint = torch.load('data/model_a_checkpoint_3.ckpt')\n",
    "\n",
    "# Восстановление состояния модели и оптимизатора\n",
    "model_cnn.load_state_dict(checkpoint['model_state_dict'])\n",
    "optimizer.load_state_dict(checkpoint['optimizer_state_dict'])\n",
    "\n",
    "# Если нужно, можно восстановить номер эпохи\n",
    "n_epoch = checkpoint['epoch']\n",
    "print(n_epoch)\n",
    "\n",
    "# Восстановление номера эпохи\n",
    "start_epoch = checkpoint['epoch'] + 1  # Начинаем с следующей эпохи\n",
    "\n",
    "# Параметры для продолжения обучения\n",
    "n_epochs_to_continue = 15  # Количество дополнительных эпох\n",
    "\n",
    "# Загрузка предварительно обученной модели\n",
    "model_cnn = CNNModel()  # Предполагается, что модель определена\n",
    "model_cnn.load_state_dict(torch.load('data/model_a_3.ckpt'))  # Замените на путь к вашей модели\n",
    "#model.eval()  # Установка модели в режим оценки"
   ]
  },
  {
   "cell_type": "code",
   "execution_count": 32,
   "id": "764fc216",
   "metadata": {},
   "outputs": [],
   "source": [
    "# Оптимизатор и функция потерь\n",
    "optimizer = optim.Adam(model_cnn.parameters(), lr=0.0001)  # Используем Adam с малой скоростью обучения\n",
    "loss_function = nn.CrossEntropyLoss()  # Функция потерь для многоклассовой классификации"
   ]
  },
  {
   "cell_type": "code",
   "execution_count": 33,
   "id": "96858495",
   "metadata": {},
   "outputs": [],
   "source": [
    "# Создание загрузчиков данных\n",
    "train_loader = DataLoader(train_data, batch_size=64, shuffle=True)\n",
    "val_loader = DataLoader(test_data, batch_size=64, shuffle=False)"
   ]
  },
  {
   "cell_type": "code",
   "execution_count": 34,
   "id": "15f74f32",
   "metadata": {},
   "outputs": [
    {
     "name": "stdout",
     "output_type": "stream",
     "text": [
      "Epoch 41/56, Loss: 0.0831\n",
      "Validation Accuracy: 0.8719\n",
      "Epoch 42/56, Loss: 0.0727\n",
      "Validation Accuracy: 0.8713\n",
      "Epoch 43/56, Loss: 0.0681\n",
      "Validation Accuracy: 0.8726\n",
      "Epoch 44/56, Loss: 0.0650\n",
      "Validation Accuracy: 0.8709\n",
      "Epoch 45/56, Loss: 0.0620\n",
      "Validation Accuracy: 0.8719\n",
      "Epoch 46/56, Loss: 0.0596\n",
      "Validation Accuracy: 0.8705\n",
      "Epoch 47/56, Loss: 0.0572\n",
      "Validation Accuracy: 0.8713\n",
      "Epoch 48/56, Loss: 0.0550\n",
      "Validation Accuracy: 0.8692\n",
      "Epoch 49/56, Loss: 0.0530\n",
      "Validation Accuracy: 0.8703\n",
      "Epoch 50/56, Loss: 0.0511\n",
      "Validation Accuracy: 0.8684\n",
      "Epoch 51/56, Loss: 0.0493\n",
      "Validation Accuracy: 0.8700\n",
      "Epoch 52/56, Loss: 0.0475\n",
      "Validation Accuracy: 0.8682\n",
      "Epoch 53/56, Loss: 0.0462\n",
      "Validation Accuracy: 0.8665\n",
      "Epoch 54/56, Loss: 0.0445\n",
      "Validation Accuracy: 0.8693\n",
      "Epoch 55/56, Loss: 0.0429\n",
      "Validation Accuracy: 0.8679\n"
     ]
    }
   ],
   "source": [
    "for epoch in range(start_epoch, start_epoch + n_epochs_to_continue):\n",
    "    model_cnn.train()\n",
    "    running_loss = 0.0\n",
    "\n",
    "    for data, target in train_loader:\n",
    "        optimizer.zero_grad()\n",
    "        output = model_cnn(data)\n",
    "        loss = loss_function(output, target)\n",
    "        loss.backward()\n",
    "        optimizer.step()\n",
    "\n",
    "        running_loss += loss.item()\n",
    "\n",
    "    print(f'Epoch {epoch}/{start_epoch + n_epochs_to_continue}, Loss: {running_loss / len(train_loader):.4f}')\n",
    "\n",
    "    # Валидация модели после каждой эпохи\n",
    "    model_cnn.eval()\n",
    "    correct = 0\n",
    "\n",
    "    with torch.no_grad():\n",
    "        for data, target in val_loader:\n",
    "            output = model_cnn(data)\n",
    "            pred = output.argmax(dim=1)\n",
    "            correct += pred.eq(target).sum().item()\n",
    "\n",
    "    accuracy = correct / len(val_loader.dataset)\n",
    "    print(f'Validation Accuracy: {accuracy:.4f}')"
   ]
  },
  {
   "cell_type": "code",
   "execution_count": 35,
   "id": "1630b02d",
   "metadata": {},
   "outputs": [],
   "source": [
    "# Сохранение модели в формате .ckpt\n",
    "torch.save(model_cnn.state_dict(), 'data/model_a_4.ckpt')\n",
    "\n",
    "# Сохранение обученной модели\n",
    "new_checkpoint = {\n",
    "    'model_state_dict': model_cnn.state_dict(),\n",
    "    'optimizer_state_dict': optimizer.state_dict(),\n",
    "    'epoch': start_epoch + n_epochs_to_continue - 1,\n",
    "}\n",
    "# Сохранение контрольной точки в файл .ckpt\n",
    "torch.save(new_checkpoint, 'data/model_a_checkpoint_4.ckpt')"
   ]
  },
  {
   "cell_type": "markdown",
   "id": "c061349d",
   "metadata": {},
   "source": []
  },
  {
   "cell_type": "code",
   "execution_count": 36,
   "id": "4b9a1817",
   "metadata": {},
   "outputs": [],
   "source": [
    "# Оптимизатор и функция потерь\n",
    "optimizer = optim.Adam(model_cnn.parameters(), lr=0.00001)  # Используем Adam с малой скоростью обучения\n",
    "loss_function = nn.CrossEntropyLoss()  # Функция потерь для многоклассовой классификации"
   ]
  },
  {
   "cell_type": "code",
   "execution_count": 37,
   "id": "3f522872",
   "metadata": {},
   "outputs": [
    {
     "name": "stdout",
     "output_type": "stream",
     "text": [
      "55\n"
     ]
    },
    {
     "name": "stderr",
     "output_type": "stream",
     "text": [
      "/tmp/ipykernel_5033/114102098.py:2: FutureWarning: You are using `torch.load` with `weights_only=False` (the current default value), which uses the default pickle module implicitly. It is possible to construct malicious pickle data which will execute arbitrary code during unpickling (See https://github.com/pytorch/pytorch/blob/main/SECURITY.md#untrusted-models for more details). In a future release, the default value for `weights_only` will be flipped to `True`. This limits the functions that could be executed during unpickling. Arbitrary objects will no longer be allowed to be loaded via this mode unless they are explicitly allowlisted by the user via `torch.serialization.add_safe_globals`. We recommend you start setting `weights_only=True` for any use case where you don't have full control of the loaded file. Please open an issue on GitHub for any issues related to this experimental feature.\n",
      "  checkpoint = torch.load('data/model_a_checkpoint_4.ckpt')\n",
      "/tmp/ipykernel_5033/114102098.py:20: FutureWarning: You are using `torch.load` with `weights_only=False` (the current default value), which uses the default pickle module implicitly. It is possible to construct malicious pickle data which will execute arbitrary code during unpickling (See https://github.com/pytorch/pytorch/blob/main/SECURITY.md#untrusted-models for more details). In a future release, the default value for `weights_only` will be flipped to `True`. This limits the functions that could be executed during unpickling. Arbitrary objects will no longer be allowed to be loaded via this mode unless they are explicitly allowlisted by the user via `torch.serialization.add_safe_globals`. We recommend you start setting `weights_only=True` for any use case where you don't have full control of the loaded file. Please open an issue on GitHub for any issues related to this experimental feature.\n",
      "  model_cnn.load_state_dict(torch.load('data/model_a_4.ckpt'))  # Замените на путь к вашей модели\n"
     ]
    },
    {
     "data": {
      "text/plain": [
       "<All keys matched successfully>"
      ]
     },
     "execution_count": 37,
     "metadata": {},
     "output_type": "execute_result"
    }
   ],
   "source": [
    "# Загрузка контрольной точки\n",
    "checkpoint = torch.load('data/model_a_checkpoint_4.ckpt')\n",
    "\n",
    "# Восстановление состояния модели и оптимизатора\n",
    "model_cnn.load_state_dict(checkpoint['model_state_dict'])\n",
    "optimizer.load_state_dict(checkpoint['optimizer_state_dict'])\n",
    "\n",
    "# Если нужно, можно восстановить номер эпохи\n",
    "n_epoch = checkpoint['epoch']\n",
    "print(n_epoch)\n",
    "\n",
    "# Восстановление номера эпохи\n",
    "start_epoch = checkpoint['epoch'] + 1  # Начинаем с следующей эпохи\n",
    "\n",
    "# Параметры для продолжения обучения\n",
    "n_epochs_to_continue = 5  # Количество дополнительных эпох\n",
    "\n",
    "# Загрузка предварительно обученной модели\n",
    "model_cnn = CNNModel()  # Предполагается, что модель определена\n",
    "model_cnn.load_state_dict(torch.load('data/model_a_4.ckpt'))  # Замените на путь к вашей модели\n",
    "#model.eval()  # Установка модели в режим оценки"
   ]
  },
  {
   "cell_type": "code",
   "execution_count": 38,
   "id": "0a5c8d28",
   "metadata": {},
   "outputs": [],
   "source": [
    "# Создание загрузчиков данных\n",
    "train_loader = DataLoader(train_data, batch_size=64, shuffle=True)\n",
    "val_loader = DataLoader(test_data, batch_size=64, shuffle=False)"
   ]
  },
  {
   "cell_type": "code",
   "execution_count": 39,
   "id": "377637c2",
   "metadata": {},
   "outputs": [
    {
     "name": "stdout",
     "output_type": "stream",
     "text": [
      "Epoch 56/61, Loss: 0.0400\n",
      "Validation Accuracy: 0.8680\n",
      "Epoch 57/61, Loss: 0.0399\n",
      "Validation Accuracy: 0.8676\n",
      "Epoch 58/61, Loss: 0.0400\n",
      "Validation Accuracy: 0.8679\n",
      "Epoch 59/61, Loss: 0.0401\n",
      "Validation Accuracy: 0.8676\n",
      "Epoch 60/61, Loss: 0.0400\n",
      "Validation Accuracy: 0.8676\n"
     ]
    }
   ],
   "source": [
    "for epoch in range(start_epoch, start_epoch + n_epochs_to_continue):\n",
    "    model_cnn.train()\n",
    "    running_loss = 0.0\n",
    "\n",
    "    for data, target in train_loader:\n",
    "        optimizer.zero_grad()\n",
    "        output = model_cnn(data)\n",
    "        loss = loss_function(output, target)\n",
    "        loss.backward()\n",
    "        optimizer.step()\n",
    "\n",
    "        running_loss += loss.item()\n",
    "\n",
    "    print(f'Epoch {epoch}/{start_epoch + n_epochs_to_continue}, Loss: {running_loss / len(train_loader):.4f}')\n",
    "\n",
    "    # Валидация модели после каждой эпохи\n",
    "    model_cnn.eval()\n",
    "    correct = 0\n",
    "\n",
    "    with torch.no_grad():\n",
    "        for data, target in val_loader:\n",
    "            output = model_cnn(data)\n",
    "            pred = output.argmax(dim=1)\n",
    "            correct += pred.eq(target).sum().item()\n",
    "\n",
    "    accuracy = correct / len(val_loader.dataset)\n",
    "    print(f'Validation Accuracy: {accuracy:.4f}')"
   ]
  },
  {
   "cell_type": "code",
   "execution_count": 40,
   "id": "ab00d2dd",
   "metadata": {},
   "outputs": [],
   "source": [
    "# Сохранение модели в формате .ckpt\n",
    "torch.save(model_cnn.state_dict(), 'data/model_a_5.ckpt')\n",
    "\n",
    "# Сохранение обученной модели\n",
    "new_checkpoint = {\n",
    "    'model_state_dict': model_cnn.state_dict(),\n",
    "    'optimizer_state_dict': optimizer.state_dict(),\n",
    "    'epoch': start_epoch + n_epochs_to_continue - 1,\n",
    "}\n",
    "# Сохранение контрольной точки в файл .ckpt\n",
    "torch.save(new_checkpoint, 'data/model_a_checkpoint_5.ckpt')"
   ]
  },
  {
   "cell_type": "markdown",
   "id": "bdd255db",
   "metadata": {
    "id": "bdd255db"
   },
   "source": [
    "# Оценка модели"
   ]
  },
  {
   "cell_type": "code",
   "execution_count": 17,
   "id": "UlBGRY071lw8",
   "metadata": {
    "colab": {
     "base_uri": "https://localhost:8080/"
    },
    "executionInfo": {
     "elapsed": 342,
     "status": "ok",
     "timestamp": 1736094717498,
     "user": {
      "displayName": "Leonard Stuchilin",
      "userId": "12835425704178441738"
     },
     "user_tz": -120
    },
    "id": "UlBGRY071lw8",
    "outputId": "bfa5f8a3-de24-4bdc-9e3c-796a930be478"
   },
   "outputs": [
    {
     "name": "stdout",
     "output_type": "stream",
     "text": [
      "epoches 60\n"
     ]
    },
    {
     "name": "stderr",
     "output_type": "stream",
     "text": [
      "/tmp/ipykernel_5215/1368578123.py:5: FutureWarning: You are using `torch.load` with `weights_only=False` (the current default value), which uses the default pickle module implicitly. It is possible to construct malicious pickle data which will execute arbitrary code during unpickling (See https://github.com/pytorch/pytorch/blob/main/SECURITY.md#untrusted-models for more details). In a future release, the default value for `weights_only` will be flipped to `True`. This limits the functions that could be executed during unpickling. Arbitrary objects will no longer be allowed to be loaded via this mode unless they are explicitly allowlisted by the user via `torch.serialization.add_safe_globals`. We recommend you start setting `weights_only=True` for any use case where you don't have full control of the loaded file. Please open an issue on GitHub for any issues related to this experimental feature.\n",
      "  checkpoint = torch.load('data/model_a_checkpoint_5.ckpt')\n",
      "/tmp/ipykernel_5215/1368578123.py:23: FutureWarning: You are using `torch.load` with `weights_only=False` (the current default value), which uses the default pickle module implicitly. It is possible to construct malicious pickle data which will execute arbitrary code during unpickling (See https://github.com/pytorch/pytorch/blob/main/SECURITY.md#untrusted-models for more details). In a future release, the default value for `weights_only` will be flipped to `True`. This limits the functions that could be executed during unpickling. Arbitrary objects will no longer be allowed to be loaded via this mode unless they are explicitly allowlisted by the user via `torch.serialization.add_safe_globals`. We recommend you start setting `weights_only=True` for any use case where you don't have full control of the loaded file. Please open an issue on GitHub for any issues related to this experimental feature.\n",
      "  model_cnn.load_state_dict(torch.load('data/model_a_5.ckpt'))  # Замените на путь к вашей модели\n"
     ]
    },
    {
     "data": {
      "text/plain": [
       "<All keys matched successfully>"
      ]
     },
     "execution_count": 17,
     "metadata": {},
     "output_type": "execute_result"
    }
   ],
   "source": [
    "model_cnn = CNNModel() \n",
    "optimizer = optim.Adam(model_cnn.parameters(), lr=0.00001) \n",
    "\n",
    "# Загрузка контрольной точки\n",
    "checkpoint = torch.load('data/model_a_checkpoint_5.ckpt')\n",
    "\n",
    "# Восстановление состояния модели и оптимизатора\n",
    "model_cnn.load_state_dict(checkpoint['model_state_dict'])\n",
    "optimizer.load_state_dict(checkpoint['optimizer_state_dict'])\n",
    "\n",
    "# Если нужно, можно восстановить номер эпохи\n",
    "n_epoch = checkpoint['epoch']\n",
    "print('epoches', n_epoch)\n",
    "\n",
    "# Восстановление номера эпохи\n",
    "start_epoch = checkpoint['epoch'] + 1  # Начинаем с следующей эпохи\n",
    "\n",
    "# Параметры для продолжения обучения\n",
    "n_epochs_to_continue = 5  # Количество дополнительных эпох\n",
    "\n",
    "# Загрузка предварительно обученной модели\n",
    "model_cnn = CNNModel()  # Предполагается, что модель определена\n",
    "model_cnn.load_state_dict(torch.load('data/model_a_5.ckpt'))  # Замените на путь к вашей модели\n",
    "#model.eval()  # Установка модели в режим оценки"
   ]
  },
  {
   "cell_type": "code",
   "execution_count": 42,
   "id": "zTPQgrkqiXn-",
   "metadata": {
    "colab": {
     "base_uri": "https://localhost:8080/"
    },
    "executionInfo": {
     "elapsed": 18393,
     "status": "ok",
     "timestamp": 1736094739693,
     "user": {
      "displayName": "Leonard Stuchilin",
      "userId": "12835425704178441738"
     },
     "user_tz": -120
    },
    "id": "zTPQgrkqiXn-",
    "outputId": "2d0a99fa-0a88-44b1-d850-c7e1a6e8db58"
   },
   "outputs": [
    {
     "name": "stdout",
     "output_type": "stream",
     "text": [
      "0\n",
      "Accuracy of class 0: 0.67\n",
      "1\n",
      "Accuracy of class 1: 0.58\n",
      "2\n",
      "Accuracy of class 2: 0.87\n",
      "3\n",
      "Accuracy of class 3: 0.97\n",
      "4\n",
      "Accuracy of class 4: 0.92\n",
      "5\n",
      "Accuracy of class 5: 0.90\n",
      "6\n",
      "Accuracy of class 6: 0.93\n",
      "7\n",
      "Accuracy of class 7: 0.97\n",
      "8\n",
      "Accuracy of class 8: 0.94\n",
      "9\n",
      "Accuracy of class 9: 0.73\n",
      "A\n",
      "Accuracy of class 10: 0.95\n",
      "B\n",
      "Accuracy of class 11: 0.95\n",
      "C\n",
      "Accuracy of class 12: 0.94\n",
      "D\n",
      "Accuracy of class 13: 0.91\n",
      "E\n",
      "Accuracy of class 14: 0.97\n",
      "F\n",
      "Accuracy of class 15: 0.65\n",
      "G\n",
      "Accuracy of class 16: 0.92\n",
      "H\n",
      "Accuracy of class 17: 0.96\n",
      "I\n",
      "Accuracy of class 18: 0.60\n",
      "J\n",
      "Accuracy of class 19: 0.93\n",
      "K\n",
      "Accuracy of class 20: 0.96\n",
      "L\n",
      "Accuracy of class 21: 0.56\n",
      "M\n",
      "Accuracy of class 22: 0.96\n",
      "N\n",
      "Accuracy of class 23: 0.94\n",
      "O\n",
      "Accuracy of class 24: 0.64\n",
      "P\n",
      "Accuracy of class 25: 0.96\n",
      "Q\n",
      "Accuracy of class 26: 0.93\n",
      "R\n",
      "Accuracy of class 27: 0.96\n",
      "S\n",
      "Accuracy of class 28: 0.91\n",
      "T\n",
      "Accuracy of class 29: 0.92\n",
      "U\n",
      "Accuracy of class 30: 0.91\n",
      "V\n",
      "Accuracy of class 31: 0.93\n",
      "W\n",
      "Accuracy of class 32: 0.99\n",
      "X\n",
      "Accuracy of class 33: 0.95\n",
      "Y\n",
      "Accuracy of class 34: 0.88\n",
      "Z\n",
      "Accuracy of class 35: 0.91\n",
      "a\n",
      "Accuracy of class 36: 0.89\n",
      "b\n",
      "Accuracy of class 37: 0.92\n",
      "d\n",
      "Accuracy of class 38: 0.96\n",
      "e\n",
      "Accuracy of class 39: 0.95\n",
      "f\n",
      "Accuracy of class 40: 0.56\n",
      "g\n",
      "Accuracy of class 41: 0.65\n",
      "h\n",
      "Accuracy of class 42: 0.93\n",
      "n\n",
      "Accuracy of class 43: 0.92\n",
      "q\n",
      "Accuracy of class 44: 0.59\n",
      "r\n",
      "Accuracy of class 45: 0.94\n",
      "t\n",
      "Accuracy of class 46: 0.89\n"
     ]
    }
   ],
   "source": [
    "\n",
    "# Инициализация переменных для хранения результатов\n",
    "class_correct = [0] * 47  # Для каждого из 47 классов\n",
    "class_total = [0] * 47\n",
    "\n",
    "# Оценка модели на тестовом наборе данных\n",
    "with torch.no_grad():\n",
    "    for data, target in val_loader:\n",
    "        output = model_cnn(data)  # Получение предсказаний от модели\n",
    "        _, predicted = torch.max(output, 1)  # Получение индексов классов с максимальным значением вероятности\n",
    "\n",
    "        # Подсчет правильных предсказаний для каждого класса\n",
    "        for i in range(len(target)):\n",
    "            label = target[i].item()  # Получение метки класса\n",
    "            class_correct[label] += (predicted[i] == label).item()  # Увеличение счетчика для правильного предсказания\n",
    "            class_total[label] += 1  # Увеличение общего количества примеров для данного класса\n",
    "\n",
    "# Вывод результатов по каждому классу\n",
    "for i in range(47):\n",
    "    if class_total[i] > 0:  # Избегаем деления на ноль\n",
    "        accuracy = class_correct[i] / class_total[i]\n",
    "        print(label_dict[i])\n",
    "        print(f'Accuracy of class {i}: {accuracy:.2f}')\n",
    "    else:\n",
    "        print(f'Class {i} has no samples in the test set.')"
   ]
  },
  {
   "cell_type": "code",
   "execution_count": 43,
   "id": "3c-TroxGiYGt",
   "metadata": {
    "colab": {
     "base_uri": "https://localhost:8080/"
    },
    "executionInfo": {
     "elapsed": 401,
     "status": "ok",
     "timestamp": 1736094752875,
     "user": {
      "displayName": "Leonard Stuchilin",
      "userId": "12835425704178441738"
     },
     "user_tz": -120
    },
    "id": "3c-TroxGiYGt",
    "outputId": "369c9d48-d456-4ced-ccf7-d338a6d0b5df"
   },
   "outputs": [
    {
     "name": "stdout",
     "output_type": "stream",
     "text": [
      "Classes with accuracy < 0.87:\n",
      "0\n",
      "Accuracy of class 0: 0.67\n",
      "1\n",
      "Accuracy of class 1: 0.58\n",
      "9\n",
      "Accuracy of class 9: 0.73\n",
      "F\n",
      "Accuracy of class 15: 0.65\n",
      "I\n",
      "Accuracy of class 18: 0.60\n",
      "L\n",
      "Accuracy of class 21: 0.56\n",
      "O\n",
      "Accuracy of class 24: 0.64\n",
      "f\n",
      "Accuracy of class 40: 0.56\n",
      "g\n",
      "Accuracy of class 41: 0.65\n",
      "q\n",
      "Accuracy of class 44: 0.59\n"
     ]
    }
   ],
   "source": [
    "# Вывод результатов по каждому классу с accuracy < 0.87\n",
    "print(\"Classes with accuracy < 0.87:\")\n",
    "for i in range(47):\n",
    "    if class_total[i] > 0:  # Избегаем деления на ноль\n",
    "        accuracy = class_correct[i] / class_total[i]\n",
    "        if accuracy < 0.87:  # Проверяем условие на точность\n",
    "            print(label_dict[i])  # Выводим метку класса\n",
    "            print(f'Accuracy of class {i}: {accuracy:.2f}')\n",
    "    else:\n",
    "        print(f'Class {i} has no samples in the test set.')"
   ]
  },
  {
   "cell_type": "code",
   "execution_count": 16,
   "id": "nSVg_xcbiYdB",
   "metadata": {
    "colab": {
     "base_uri": "https://localhost:8080/"
    },
    "executionInfo": {
     "elapsed": 288,
     "status": "ok",
     "timestamp": 1736094770081,
     "user": {
      "displayName": "Leonard Stuchilin",
      "userId": "12835425704178441738"
     },
     "user_tz": -120
    },
    "id": "nSVg_xcbiYdB",
    "outputId": "c4d89540-b742-4de9-a04c-75de4e4d8bdd"
   },
   "outputs": [
    {
     "name": "stderr",
     "output_type": "stream",
     "text": [
      "[W107 10:55:10.689273856 NNPACK.cpp:61] Could not initialize NNPACK! Reason: Unsupported hardware.\n"
     ]
    },
    {
     "data": {
      "text/plain": [
       "==========================================================================================\n",
       "Layer (type:depth-idx)                   Output Shape              Param #\n",
       "==========================================================================================\n",
       "CNNModel                                 [1, 47]                   --\n",
       "├─Conv2d: 1-1                            [1, 32, 28, 28]           320\n",
       "├─BatchNorm2d: 1-2                       [1, 32, 28, 28]           64\n",
       "├─MaxPool2d: 1-3                         [1, 32, 14, 14]           --\n",
       "├─Conv2d: 1-4                            [1, 64, 14, 14]           18,496\n",
       "├─BatchNorm2d: 1-5                       [1, 64, 14, 14]           128\n",
       "├─MaxPool2d: 1-6                         [1, 64, 7, 7]             --\n",
       "├─Linear: 1-7                            [1, 128]                  401,536\n",
       "├─Linear: 1-8                            [1, 47]                   6,063\n",
       "==========================================================================================\n",
       "Total params: 426,607\n",
       "Trainable params: 426,607\n",
       "Non-trainable params: 0\n",
       "Total mult-adds (Units.MEGABYTES): 4.28\n",
       "==========================================================================================\n",
       "Input size (MB): 0.00\n",
       "Forward/backward pass size (MB): 0.60\n",
       "Params size (MB): 1.71\n",
       "Estimated Total Size (MB): 2.31\n",
       "=========================================================================================="
      ]
     },
     "execution_count": 16,
     "metadata": {},
     "output_type": "execute_result"
    }
   ],
   "source": [
    "# Вывод информации о модели\n",
    "summary(model_cnn, input_size=(1, 1, 28, 28))  # Указываем размер входного тензора [batch_size, channels, height, width]"
   ]
  },
  {
   "cell_type": "markdown",
   "id": "56388cb2",
   "metadata": {},
   "source": [
    "## Оценка модели на разных типах данных"
   ]
  },
  {
   "cell_type": "markdown",
   "id": "9135dfa6",
   "metadata": {},
   "source": [
    "### Отражение и поворот"
   ]
  },
  {
   "cell_type": "code",
   "execution_count": 31,
   "id": "96b8b61a",
   "metadata": {},
   "outputs": [],
   "source": [
    "# Определение трансформаций для нормализации данных\n",
    "transform = transforms.Compose([\n",
    "    transforms.ToTensor(),\n",
    "    transforms.Normalize((0.1307,), (0.3081,))  # Нормализация по среднему и стандартному отклонению\n",
    "])\n",
    "\n",
    "# Загрузка обучающего набора данных с трансформациями\n",
    "train_data = EMNIST('data_c/', 'balanced', train=True, download=True,\n",
    "                transform=torchvision.transforms.Compose([ # Поворот и отражение\n",
    "                    lambda img: torchvision.transforms.functional.rotate(img, -90),\n",
    "                    lambda img: torchvision.transforms.functional.hflip(img),\n",
    "                    transform # трансформируем и нормализуем\n",
    "                ]))\n",
    "\n",
    "\n",
    "# Загрузка тестового набора данных с трансформациями\n",
    "test_data = EMNIST('data_c/', 'balanced', train=False,\n",
    "                transform=torchvision.transforms.Compose([ # Поворот и отражение\n",
    "                    lambda img: torchvision.transforms.functional.rotate(img, -90),\n",
    "                    lambda img: torchvision.transforms.functional.hflip(img),\n",
    "                    transform # трансформируем и нормализуем\n",
    "                ]))\n",
    "\n",
    "train_loader = DataLoader(train_data, batch_size=64, shuffle=True)\n",
    "val_loader = DataLoader(test_data, batch_size=64, shuffle=False)"
   ]
  },
  {
   "cell_type": "code",
   "execution_count": 32,
   "id": "63614d9c",
   "metadata": {},
   "outputs": [
    {
     "data": {
      "image/png": "[encoded data removed]",
      "text/plain": [
       "<Figure size 2000x500 with 10 Axes>"
      ]
     },
     "metadata": {},
     "output_type": "display_data"
    }
   ],
   "source": [
    "def predict(image):\n",
    "    # Применяем преобразования к изображению, если они требуются\n",
    "    # image = transform(input_image)  # Примените необходимые преобразования\n",
    "    # Убедитесь, что изображение имеет форму (1, 1, H, W) для модели\n",
    "    if image.dim() == 2:  # Если изображение 2D (H, W)\n",
    "        image = image.unsqueeze(0)  # Добавляем размер канала\n",
    "    image = image.unsqueeze(0)  # Добавляем размер батча\n",
    "\n",
    "    #print('image shape:', image.shape)\n",
    "\n",
    "    with torch.no_grad():  # Отключаем градиенты для повышения производительности\n",
    "        output = model_cnn(image)  # Получаем выход модели\n",
    "        _, predicted_class = torch.max(output.data, 1)  # Находим класс с максимальной вероятностью\n",
    "        predicted_label = predicted_class.item()  # Получаем метку класса как целое число\n",
    "        #print('predicted_label:', predicted_label)\n",
    "\n",
    "        pred = label_dict[predicted_label]  # Получаем предсказанную метку\n",
    "        #print('predicted symbol:', pred)\n",
    "\n",
    "    return pred\n",
    "\n",
    "# Проверяем предсказания\n",
    "fig, axs = plt.subplots(1, 10, figsize=(20, 5))\n",
    "for i in range(10):\n",
    "    random_index = np.random.randint(0, len(train_data))\n",
    "    #print('Random index:', random_index)\n",
    "    image, label = train_data[random_index]\n",
    "\n",
    "    # Преобразование изображения в NumPy массив для корректного отображения\n",
    "    image_np = image.squeeze(0).numpy()  # Убираем размер канала и преобразуем в NumPy массив\n",
    "\n",
    "    pred = predict(image)  # Предсказание для изображения\n",
    "\n",
    "    # Отображаем изображение\n",
    "    axs[i].imshow(image_np, cmap='gray')  # Используем cmap='gray' для черно-белых изображений\n",
    "    # Добавляем отображение истинной метки и предсказанного значения\n",
    "    axs[i].set_title(f'True: {label_dict[label]}\\nPred: {pred}')\n",
    "    axs[i].axis('off')\n",
    "\n",
    "plt.show()\n"
   ]
  },
  {
   "cell_type": "code",
   "execution_count": 33,
   "id": "cdf94d24",
   "metadata": {},
   "outputs": [],
   "source": [
    "def evaluate_model(model, test_loader):\n",
    "    model.eval()  # Устанавливаем модель в режим оценки\n",
    "    criterion = nn.CrossEntropyLoss()  # Функция потерь\n",
    "    total_loss = 0.0\n",
    "    correct = 0\n",
    "    class_correct = [0] * 47  # Для каждого из 47 классов\n",
    "    class_total = [0] * 47\n",
    "\n",
    "    with torch.no_grad():\n",
    "        for data, target in test_loader:\n",
    "            output = model(data)  # Получаем предсказания от модели\n",
    "            \n",
    "            # Вычисление потерь\n",
    "            loss = criterion(output, target)\n",
    "            total_loss += loss.item()\n",
    "\n",
    "            # Получение предсказаний\n",
    "            pred = output.argmax(dim=1)\n",
    "            correct += pred.eq(target).sum().item()\n",
    "\n",
    "            # Подсчет правильных предсказаний для каждого класса\n",
    "            for i in range(len(target)):\n",
    "                label = target[i].item()  # Получаем метку класса\n",
    "                class_correct[label] += (pred[i] == label).item()  # Увеличиваем счетчик для правильного предсказания\n",
    "                class_total[label] += 1  # Увеличиваем общее количество примеров для данного класса\n",
    "\n",
    "    # Вычисляем общую точность и среднюю потерю\n",
    "    accuracy = correct / len(test_loader.dataset)\n",
    "    average_loss = total_loss / len(test_loader)\n",
    "\n",
    "    print(f'Overall Accuracy: {accuracy:.4f}')\n",
    "    print(f'Average Loss: {average_loss:.4f}')\n",
    "\n",
    "    # Вывод результатов по каждому классу\n",
    "    for i in range(47):\n",
    "        if class_total[i] > 0:  # Избегаем деления на ноль\n",
    "            class_accuracy = class_correct[i] / class_total[i]\n",
    "            #print(f'Accuracy of class {i}: {class_accuracy:.2f}')\n",
    "        else:\n",
    "            print(f'Class {i} has no samples in the test set.')"
   ]
  },
  {
   "cell_type": "code",
   "execution_count": 34,
   "id": "d5db6119",
   "metadata": {},
   "outputs": [
    {
     "name": "stdout",
     "output_type": "stream",
     "text": [
      "Overall Accuracy: 0.7936\n",
      "Average Loss: 2.1104\n"
     ]
    }
   ],
   "source": [
    "evaluate_model(model_cnn, val_loader)"
   ]
  },
  {
   "cell_type": "markdown",
   "id": "1051d07a",
   "metadata": {},
   "source": [
    "### Отражение, поворот, дилатация, эррозия"
   ]
  },
  {
   "cell_type": "code",
   "execution_count": 35,
   "id": "2063934b",
   "metadata": {},
   "outputs": [],
   "source": [
    "'''Для обработки изображений х EMNIST с использованием методов Eroding, Dilating и Smoothing Images, \n",
    " создадим функцию, для предобработки перед передачей изображений в модель'''\n",
    "\n",
    "\n",
    "def preprocess_image(img):\n",
    "    # Преобразуем изображение PIL в массив NumPy\n",
    "    img_np = np.array(img)\n",
    "\n",
    "    # Применяем сглаживание (Gaussian Blur)\n",
    "    img_blurred = cv2.GaussianBlur(img_np, (5, 5), 0)\n",
    "\n",
    "    # Применяем эрозию\n",
    "    kernel = np.ones((3, 3), np.uint8)\n",
    "    img_eroded = cv2.erode(img_blurred, kernel, iterations=1)\n",
    "\n",
    "    # Применяем дилатацию\n",
    "    img_dilated = cv2.dilate(img_eroded, kernel, iterations=1)\n",
    "\n",
    "    # Преобразуем обратно в PIL\n",
    "    img_processed = Image.fromarray(img_dilated)\n",
    "\n",
    "    return img_processed"
   ]
  },
  {
   "cell_type": "code",
   "execution_count": 36,
   "id": "29d29c17",
   "metadata": {},
   "outputs": [],
   "source": [
    "# использованием методов Eroding, Dilating и Smoothing Images\n",
    "# Загрузка обучающего набора данных с трансформациями\n",
    "train_data = EMNIST('data_e_r/', 'balanced', train=True, download=True,\n",
    "                transform=torchvision.transforms.Compose([ \n",
    "                    # Применяем обработку изображения\n",
    "                    preprocess_image,\n",
    "                    # Поворот и отражение\n",
    "                    lambda img: torchvision.transforms.functional.rotate(img, -90),\n",
    "                    lambda img: torchvision.transforms.functional.hflip(img),\n",
    "                    transform # трансформируем и нормализуем\n",
    "                ]))\n",
    "\n",
    "# использованием методов Eroding, Dilating и Smoothing Images\n",
    "# Загрузка тестового набора данных с трансформациями\n",
    "test_data = EMNIST('data_e_r/', 'balanced', train=False,\n",
    "                transform=torchvision.transforms.Compose([ \n",
    "                    # Применяем обработку изображения\n",
    "                    preprocess_image,\n",
    "                    # Поворот и отражение\n",
    "                    lambda img: torchvision.transforms.functional.rotate(img, -90),\n",
    "                    lambda img: torchvision.transforms.functional.hflip(img),\n",
    "                    transform # трансформируем и нормализуем\n",
    "                ]))\n",
    "\n",
    "train_loader = DataLoader(train_data, batch_size=64, shuffle=True)\n",
    "val_loader = DataLoader(test_data, batch_size=64, shuffle=False)"
   ]
  },
  {
   "cell_type": "code",
   "execution_count": 37,
   "id": "a18aa424",
   "metadata": {},
   "outputs": [
    {
     "data": {
      "image/png": "[encoded data removed]",
      "text/plain": [
       "<Figure size 2000x500 with 10 Axes>"
      ]
     },
     "metadata": {},
     "output_type": "display_data"
    }
   ],
   "source": [
    "def predict(image):\n",
    "    # Применяем преобразования к изображению, если они требуются\n",
    "    # image = transform(input_image)  # Примените необходимые преобразования\n",
    "    # Убедитесь, что изображение имеет форму (1, 1, H, W) для модели\n",
    "    if image.dim() == 2:  # Если изображение 2D (H, W)\n",
    "        image = image.unsqueeze(0)  # Добавляем размер канала\n",
    "    image = image.unsqueeze(0)  # Добавляем размер батча\n",
    "\n",
    "    #print('image shape:', image.shape)\n",
    "\n",
    "    with torch.no_grad():  # Отключаем градиенты для повышения производительности\n",
    "        output = model_cnn(image)  # Получаем выход модели\n",
    "        _, predicted_class = torch.max(output.data, 1)  # Находим класс с максимальной вероятностью\n",
    "        predicted_label = predicted_class.item()  # Получаем метку класса как целое число\n",
    "        #print('predicted_label:', predicted_label)\n",
    "\n",
    "        pred = label_dict[predicted_label]  # Получаем предсказанную метку\n",
    "        #print('predicted symbol:', pred)\n",
    "\n",
    "    return pred\n",
    "\n",
    "# Проверяем предсказания\n",
    "fig, axs = plt.subplots(1, 10, figsize=(20, 5))\n",
    "for i in range(10):\n",
    "    random_index = np.random.randint(0, len(train_data))\n",
    "    #print('Random index:', random_index)\n",
    "    image, label = train_data[random_index]\n",
    "\n",
    "    # Преобразование изображения в NumPy массив для корректного отображения\n",
    "    image_np = image.squeeze(0).numpy()  # Убираем размер канала и преобразуем в NumPy массив\n",
    "\n",
    "    pred = predict(image)  # Предсказание для изображения\n",
    "\n",
    "    # Отображаем изображение\n",
    "    axs[i].imshow(image_np, cmap='gray')  # Используем cmap='gray' для черно-белых изображений\n",
    "    # Добавляем отображение истинной метки и предсказанного значения\n",
    "    axs[i].set_title(f'True: {label_dict[label]}\\nPred: {pred}')\n",
    "    axs[i].axis('off')\n",
    "\n",
    "plt.show()\n"
   ]
  },
  {
   "cell_type": "code",
   "execution_count": 38,
   "id": "7c4f4327",
   "metadata": {},
   "outputs": [],
   "source": [
    "def evaluate_model(model, test_loader):\n",
    "    model.eval()  # Устанавливаем модель в режим оценки\n",
    "    criterion = nn.CrossEntropyLoss()  # Функция потерь\n",
    "    total_loss = 0.0\n",
    "    correct = 0\n",
    "    class_correct = [0] * 47  # Для каждого из 47 классов\n",
    "    class_total = [0] * 47\n",
    "\n",
    "    with torch.no_grad():\n",
    "        for data, target in test_loader:\n",
    "            output = model(data)  # Получаем предсказания от модели\n",
    "            \n",
    "            # Вычисление потерь\n",
    "            loss = criterion(output, target)\n",
    "            total_loss += loss.item()\n",
    "\n",
    "            # Получение предсказаний\n",
    "            pred = output.argmax(dim=1)\n",
    "            correct += pred.eq(target).sum().item()\n",
    "\n",
    "            # Подсчет правильных предсказаний для каждого класса\n",
    "            for i in range(len(target)):\n",
    "                label = target[i].item()  # Получаем метку класса\n",
    "                class_correct[label] += (pred[i] == label).item()  # Увеличиваем счетчик для правильного предсказания\n",
    "                class_total[label] += 1  # Увеличиваем общее количество примеров для данного класса\n",
    "\n",
    "    # Вычисляем общую точность и среднюю потерю\n",
    "    accuracy = correct / len(test_loader.dataset)\n",
    "    average_loss = total_loss / len(test_loader)\n",
    "\n",
    "    print(f'Overall Accuracy: {accuracy:.4f}')\n",
    "    print(f'Average Loss: {average_loss:.4f}')\n",
    "\n",
    "    # Вывод результатов по каждому классу\n",
    "    for i in range(47):\n",
    "        if class_total[i] > 0:  # Избегаем деления на ноль\n",
    "            class_accuracy = class_correct[i] / class_total[i]\n",
    "            #print(f'Accuracy of class {i}: {class_accuracy:.2f}')\n",
    "        else:\n",
    "            print(f'Class {i} has no samples in the test set.')"
   ]
  },
  {
   "cell_type": "code",
   "execution_count": 39,
   "id": "41684e92",
   "metadata": {},
   "outputs": [
    {
     "name": "stdout",
     "output_type": "stream",
     "text": [
      "Overall Accuracy: 0.8255\n",
      "Average Loss: 0.5957\n"
     ]
    }
   ],
   "source": [
    "evaluate_model(model_cnn, val_loader)"
   ]
  },
  {
   "cell_type": "markdown",
   "id": "fd8cdcb5",
   "metadata": {},
   "source": [
    "### Первоначальная модель после первого этапа обучения"
   ]
  },
  {
   "cell_type": "code",
   "execution_count": 40,
   "id": "6c5a44c5",
   "metadata": {},
   "outputs": [],
   "source": [
    "# Определение трансформаций для нормализации данных\n",
    "transform = transforms.Compose([\n",
    "    transforms.ToTensor(),\n",
    "    transforms.Normalize((0.1307,), (0.3081,))  # Нормализация по среднему и стандартному отклонению\n",
    "])\n",
    "\n",
    "# Загрузка обучающего набора данных с трансформациями\n",
    "train_data = EMNIST('data_c/', 'balanced', train=True, download=True,\n",
    "                transform=torchvision.transforms.Compose([ # Поворот и отражение\n",
    "                    lambda img: torchvision.transforms.functional.rotate(img, -90),\n",
    "                    lambda img: torchvision.transforms.functional.hflip(img),\n",
    "                    transform # трансформируем и нормализуем\n",
    "                ]))\n",
    "\n",
    "\n",
    "# Загрузка тестового набора данных с трансформациями\n",
    "test_data = EMNIST('data_c/', 'balanced', train=False,\n",
    "                transform=torchvision.transforms.Compose([ # Поворот и отражение\n",
    "                    lambda img: torchvision.transforms.functional.rotate(img, -90),\n",
    "                    lambda img: torchvision.transforms.functional.hflip(img),\n",
    "                    transform # трансформируем и нормализуем\n",
    "                ]))\n",
    "\n",
    "train_loader = DataLoader(train_data, batch_size=64, shuffle=True)\n",
    "val_loader = DataLoader(test_data, batch_size=64, shuffle=False)"
   ]
  },
  {
   "cell_type": "code",
   "execution_count": 41,
   "id": "2f1ca9b8",
   "metadata": {},
   "outputs": [
    {
     "name": "stdout",
     "output_type": "stream",
     "text": [
      "epoches 10\n"
     ]
    },
    {
     "name": "stderr",
     "output_type": "stream",
     "text": [
      "/tmp/ipykernel_5215/1202297313.py:6: FutureWarning: You are using `torch.load` with `weights_only=False` (the current default value), which uses the default pickle module implicitly. It is possible to construct malicious pickle data which will execute arbitrary code during unpickling (See https://github.com/pytorch/pytorch/blob/main/SECURITY.md#untrusted-models for more details). In a future release, the default value for `weights_only` will be flipped to `True`. This limits the functions that could be executed during unpickling. Arbitrary objects will no longer be allowed to be loaded via this mode unless they are explicitly allowlisted by the user via `torch.serialization.add_safe_globals`. We recommend you start setting `weights_only=True` for any use case where you don't have full control of the loaded file. Please open an issue on GitHub for any issues related to this experimental feature.\n",
      "  checkpoint = torch.load('data/model_a_checkpoint.ckpt')\n",
      "/tmp/ipykernel_5215/1202297313.py:24: FutureWarning: You are using `torch.load` with `weights_only=False` (the current default value), which uses the default pickle module implicitly. It is possible to construct malicious pickle data which will execute arbitrary code during unpickling (See https://github.com/pytorch/pytorch/blob/main/SECURITY.md#untrusted-models for more details). In a future release, the default value for `weights_only` will be flipped to `True`. This limits the functions that could be executed during unpickling. Arbitrary objects will no longer be allowed to be loaded via this mode unless they are explicitly allowlisted by the user via `torch.serialization.add_safe_globals`. We recommend you start setting `weights_only=True` for any use case where you don't have full control of the loaded file. Please open an issue on GitHub for any issues related to this experimental feature.\n",
      "  model_cnn.load_state_dict(torch.load('data/model_a.ckpt'))  # Замените на путь к вашей модели\n"
     ]
    },
    {
     "data": {
      "text/plain": [
       "<All keys matched successfully>"
      ]
     },
     "execution_count": 41,
     "metadata": {},
     "output_type": "execute_result"
    }
   ],
   "source": [
    "# Загрузка модели\n",
    "model_cnn = CNNModel() \n",
    "optimizer = optim.Adam(model_cnn.parameters(), lr=0.001) \n",
    "\n",
    "# Загрузка контрольной точки\n",
    "checkpoint = torch.load('data/model_a_checkpoint.ckpt')\n",
    "\n",
    "# Восстановление состояния модели и оптимизатора\n",
    "model_cnn.load_state_dict(checkpoint['model_state_dict'])\n",
    "optimizer.load_state_dict(checkpoint['optimizer_state_dict'])\n",
    "\n",
    "# Если нужно, можно восстановить номер эпохи\n",
    "n_epoch = checkpoint['epoch']\n",
    "print('epoches', n_epoch)\n",
    "\n",
    "# Восстановление номера эпохи\n",
    "start_epoch = checkpoint['epoch'] + 1  # Начинаем с следующей эпохи\n",
    "\n",
    "# Параметры для продолжения обучения\n",
    "n_epochs_to_continue = 5  # Количество дополнительных эпох\n",
    "\n",
    "# Загрузка предварительно обученной модели\n",
    "model_cnn = CNNModel()  # Предполагается, что модель определена\n",
    "model_cnn.load_state_dict(torch.load('data/model_a.ckpt'))  # Замените на путь к вашей модели\n",
    "#model.eval()  # Установка модели в режим оценки"
   ]
  },
  {
   "cell_type": "code",
   "execution_count": 43,
   "id": "c3589e15",
   "metadata": {},
   "outputs": [
    {
     "name": "stdout",
     "output_type": "stream",
     "text": [
      "Classes with accuracy < 0.87:\n",
      "0\n",
      "Accuracy of class 0: 0.67\n",
      "1\n",
      "Accuracy of class 1: 0.81\n",
      "9\n",
      "Accuracy of class 9: 0.81\n",
      "F\n",
      "Accuracy of class 15: 0.67\n",
      "I\n",
      "Accuracy of class 18: 0.61\n",
      "L\n",
      "Accuracy of class 21: 0.41\n",
      "O\n",
      "Accuracy of class 24: 0.67\n",
      "Y\n",
      "Accuracy of class 34: 0.86\n",
      "f\n",
      "Accuracy of class 40: 0.63\n",
      "g\n",
      "Accuracy of class 41: 0.68\n",
      "q\n",
      "Accuracy of class 44: 0.50\n"
     ]
    }
   ],
   "source": [
    "\n",
    "# Инициализация переменных для хранения результатов\n",
    "class_correct = [0] * 47  # Для каждого из 47 классов\n",
    "class_total = [0] * 47\n",
    "\n",
    "# Оценка модели на тестовом наборе данных\n",
    "with torch.no_grad():\n",
    "    for data, target in val_loader:\n",
    "        output = model_cnn(data)  # Получение предсказаний от модели\n",
    "        _, predicted = torch.max(output, 1)  # Получение индексов классов с максимальным значением вероятности\n",
    "\n",
    "        # Подсчет правильных предсказаний для каждого класса\n",
    "        for i in range(len(target)):\n",
    "            label = target[i].item()  # Получение метки класса\n",
    "            class_correct[label] += (predicted[i] == label).item()  # Увеличение счетчика для правильного предсказания\n",
    "            class_total[label] += 1  # Увеличение общего количества примеров для данного класса\n",
    "\n",
    "\n",
    "# Вывод результатов по каждому классу с accuracy < 0.87\n",
    "print(\"Classes with accuracy < 0.87:\")\n",
    "for i in range(47):\n",
    "    if class_total[i] > 0:  # Избегаем деления на ноль\n",
    "        accuracy = class_correct[i] / class_total[i]\n",
    "        if accuracy < 0.87:  # Проверяем условие на точность\n",
    "            print(label_dict[i])  # Выводим метку класса\n",
    "            print(f'Accuracy of class {i}: {accuracy:.2f}')\n",
    "    else:\n",
    "        print(f'Class {i} has no samples in the test set.')"
   ]
  },
  {
   "cell_type": "code",
   "execution_count": 42,
   "id": "df42922d",
   "metadata": {},
   "outputs": [
    {
     "name": "stdout",
     "output_type": "stream",
     "text": [
      "Overall Accuracy: 0.8773\n",
      "Average Loss: 0.3945\n"
     ]
    }
   ],
   "source": [
    "evaluate_model(model_cnn, val_loader)"
   ]
  },
  {
   "cell_type": "markdown",
   "id": "77a44502",
   "metadata": {},
   "source": [
    "# Выводы о проделаной работе:"
   ]
  },
  {
   "cell_type": "markdown",
   "id": "9c100474",
   "metadata": {},
   "source": [
    "### Негативные последствия излишней сложности модели, лишнего количества эпох обучения и лишних этапов дообучения\n",
    "\n",
    "В машинном обучении, особенно в контексте глубокого обучения с использованием PyTorch, важно правильно настраивать архитектуру модели и параметры обучения. Излишняя сложность модели, слишком большое количество эпох и лишние этапы дообучения могут привести к ряду негативных последствий.\n",
    "\n",
    "#### 1. Излишняя сложность модели на простых данных\n",
    "\n",
    "**Проблема**: Если модель слишком сложная (например, содержит слишком много слоев или параметров) для простых данных, это может привести к переобучению.\n",
    "\n",
    "**Негативные последствия**:\n",
    "- **Переобучение**: Модель начинает \"запоминать\" обучающие данные вместо того, чтобы обобщать на новые данные. Это означает, что она будет показывать высокую точность на обучающем наборе, но низкую точность на валидационном или тестовом наборе.\n",
    "- **Увеличение времени обучения**: Сложные модели требуют больше времени на обучение из-за большого количества параметров.\n",
    "- **Сложность интерпретации**: Более сложные модели труднее интерпретировать и отлаживать, что может затруднить выявление проблем.\n",
    "\n",
    "#### 2. Лишнее количество эпох обучения\n",
    "\n",
    "**Проблема**: Если модель обучается слишком долго (больше необходимого количества эпох), это также может привести к переобучению.\n",
    "\n",
    "**Негативные последствия**:\n",
    "- **Переобучение**: Как и в случае с излишней сложностью модели, избыточное обучение приводит к тому, что модель начинает подстраиваться под шум в данных, что ухудшает её способность обобщать.\n",
    "- **Неэффективное использование ресурсов**: Длительное обучение требует больше вычислительных ресурсов и времени, что может быть нецелесообразно.\n",
    "- **Сложности с мониторингом метрик**: При длительном обучении может быть сложно отслеживать метрики валидации и вовремя остановить обучение.\n",
    "\n",
    "#### 3. Лишние этапы дообучения модели\n",
    "\n",
    "**Проблема**: Использование слишком большого количества этапов дообучения может привести к тому же эффекту переобучения.\n",
    "\n",
    "**Негативные последствия**:\n",
    "- **Неоптимальные результаты**: Каждый дополнительный этап дообучения увеличивает риск того, что модель начнет терять обобщающую способность.\n",
    "- **Сложности с настройкой гиперпараметров**: При каждом новом этапе дообучения могут потребоваться новые настройки гиперпараметров (например, скорость обучения), что усложняет процесс обучения.\n",
    "- **Увеличение времени до достижения результата**: Лишние этапы могут замедлить процесс получения окончательных результатов.\n",
    "\n",
    "### Рекомендации по предотвращению негативных последствий\n",
    "\n",
    "1. **Используйте простые модели для простых задач**: Начинайте с простой архитектуры и постепенно увеличивайте её сложность только при необходимости.\n",
    "2. **Мониторинг метрик валидации**: Используйте методы ранней остановки (early stopping), чтобы прекратить обучение, когда валидационная точность перестает улучшаться.\n",
    "3. **Регуляризация**: Применяйте методы регуляризации, такие как дропаут или L2-регуляризация, чтобы предотвратить переобучение.\n",
    "4. **Аугментация данных**: Увеличьте объем данных с помощью аугментации, чтобы модель могла лучше обобщать.\n",
    "5. **Оптимизация гиперпараметров**: Используйте автоматизированные методы подбора гиперпараметров для нахождения оптимальных значений.\n",
    "\n"
   ]
  },
  {
   "cell_type": "markdown",
   "id": "247d3397",
   "metadata": {},
   "source": [
    "## Итог"
   ]
  },
  {
   "cell_type": "markdown",
   "id": "628d17fe",
   "metadata": {},
   "source": [
    "В качестве базовой модели для сериса выберем модель после первого этапа обучения с десятью эпохаим c lr==0.001"
   ]
  },
  {
   "cell_type": "code",
   "execution_count": 44,
   "id": "af9e9951",
   "metadata": {},
   "outputs": [
    {
     "name": "stdout",
     "output_type": "stream",
     "text": [
      "Overall Accuracy: 0.8773\n",
      "Average Loss: 0.3945\n"
     ]
    }
   ],
   "source": [
    "evaluate_model(model_cnn, val_loader)"
   ]
  },
  {
   "cell_type": "markdown",
   "id": "96f3b550",
   "metadata": {},
   "source": [
    "## Заключение\n",
    "\n",
    "Правильная настройка архитектуры модели и параметров обучения критически важна для достижения хороших результатов в задачах машинного обучения. Избегайте излишней сложности модели, лишнего количества эпох и ненужных этапов дообучения для повышения производительности вашей модели на новых данных."
   ]
  },
  {
   "cell_type": "code",
   "execution_count": null,
   "id": "640fafe1",
   "metadata": {},
   "outputs": [],
   "source": []
  }
 ],
 "metadata": {
  "colab": {
   "provenance": []
  },
  "kernelspec": {
   "display_name": "torch",
   "language": "python",
   "name": "python3"
  },
  "language_info": {
   "codemirror_mode": {
    "name": "ipython",
    "version": 3
   },
   "file_extension": ".py",
   "mimetype": "text/x-python",
   "name": "python",
   "nbconvert_exporter": "python",
   "pygments_lexer": "ipython3",
   "version": "3.11.11"
  }
 },
 "nbformat": 4,
 "nbformat_minor": 5
}
